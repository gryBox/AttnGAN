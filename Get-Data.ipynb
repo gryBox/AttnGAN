{
 "cells": [
  {
   "cell_type": "code",
   "execution_count": 1,
   "metadata": {},
   "outputs": [],
   "source": [
    "%matplotlib inline\n",
    "import pandas as pd\n",
    "import io\n",
    "import boto3\n",
    "from boto3.dynamodb.conditions import Key\n",
    "import os\n",
    "from google_images_download import google_images_download\n",
    "import glob\n",
    "import PIL\n",
    "import json\n",
    "\n",
    "\n",
    "import textacy\n",
    "import en_core_web_sm\n",
    "\n",
    "from IPython.display import SVG\n",
    "\n",
    "from IPython.display import Image\n",
    " "
   ]
  },
  {
   "cell_type": "markdown",
   "metadata": {},
   "source": [
    "# Create Training data for text to image model"
   ]
  },
  {
   "cell_type": "markdown",
   "metadata": {},
   "source": [
    "## Inputs"
   ]
  },
  {
   "cell_type": "code",
   "execution_count": 2,
   "metadata": {},
   "outputs": [],
   "source": [
    "tblName = \"ResourceDocuments\"\n",
    "nodeIdentifierName = \"photosynthesis-photosynthesis-photosynthesis-biology\"\n",
    "\n",
    "txtToImage_data_dir = 'data/photosynthesis'\n",
    "imageLog_fir='logs'\n",
    "\n",
    "resourceDbName = 'dynamodb'\n",
    "s3Bucket = \"egm-bucket/TEXT_TO_IMAGE_DATA/data\""
   ]
  },
  {
   "cell_type": "markdown",
   "metadata": {},
   "source": [
    "### Get Data from Resource Db: \n",
    "photosynthesis whole"
   ]
  },
  {
   "cell_type": "code",
   "execution_count": 3,
   "metadata": {},
   "outputs": [
    {
     "data": {
      "text/plain": [
       "'NUmber of Items in ResourceDb: 14'"
      ]
     },
     "metadata": {},
     "output_type": "display_data"
    }
   ],
   "source": [
    "# Get Definitions for photosynthesis from dynamodb\n",
    "\n",
    "## Connect to dynamodb\n",
    "dynamodbClient = boto3.resource(\"dynamodb\")\n",
    "# client = boto3.client('dynamodb')\n",
    "# display(client.describe_table(TableName=tblName))\n",
    "\n",
    "## Connect to table with resources\n",
    "resourceTbl = dynamodbClient.Table(tblName)\n",
    "# display(resourceTbl.global_secondary_indexes)\n",
    "display(\"NUmber of Items in ResourceDb: {}\".format(resourceTbl.item_count))"
   ]
  },
  {
   "cell_type": "markdown",
   "metadata": {},
   "source": [
    "### Load text into pandas \n",
    "- For data munging\n",
    "    - stats\n",
    "    - Duplicates"
   ]
  },
  {
   "cell_type": "code",
   "execution_count": 4,
   "metadata": {},
   "outputs": [
    {
     "name": "stdout",
     "output_type": "stream",
     "text": [
      "Db Response Shape: (14, 13)\n",
      "Db Response Shape: (7, 13)\n",
      "Index(['IMAGES', 'NODE_IDENTIFIER', 'POS', 'RESOURCE', 'RESOURCE_ATTRIBUTION',\n",
      "       'RESOURCE_DATATYPE', 'RESOURCE_SOURCE', 'RESOURCE_TYPE', 'RESOURCE_URL',\n",
      "       'TERM', 'TIME_DOWNLOADED', 'TOPIC', 'UNIQUE_IDENTIFIER'],\n",
      "      dtype='object')\n"
     ]
    }
   ],
   "source": [
    "response = resourceTbl.query(\n",
    "    IndexName='NODE_IDENTIFIER-index',\n",
    "    KeyConditionExpression=Key('NODE_IDENTIFIER').eq(nodeIdentifierName)\n",
    ")\n",
    "\n",
    "# Pass through pandas for some data munging\n",
    "rsrc_df = pd.DataFrame(response[\"Items\"])\n",
    "print(\"Db Response Shape: {}\".format(rsrc_df.shape))\n",
    "\n",
    "rsrc_df.drop_duplicates(['RESOURCE'], keep='last', inplace=True)\n",
    "rsrc_df.reset_index(drop=True)\n",
    "\n",
    "print(\"Db Response Shape: {}\".format(rsrc_df.shape))\n",
    "print(rsrc_df.columns)"
   ]
  },
  {
   "cell_type": "code",
   "execution_count": 5,
   "metadata": {},
   "outputs": [
    {
     "data": {
      "text/plain": [
       "4        century\n",
       "5        wordnet\n",
       "9     wiktionary\n",
       "10     wikipedia\n",
       "11         gcide\n",
       "12     wikipedia\n",
       "13    ahd-legacy\n",
       "Name: RESOURCE_SOURCE, dtype: object"
      ]
     },
     "execution_count": 5,
     "metadata": {},
     "output_type": "execute_result"
    }
   ],
   "source": [
    "rsrc_df[\"RESOURCE_SOURCE\"]"
   ]
  },
  {
   "cell_type": "markdown",
   "metadata": {},
   "source": [
    "### Create Labels for text to image model"
   ]
  },
  {
   "cell_type": "code",
   "execution_count": 9,
   "metadata": {},
   "outputs": [
    {
     "name": "stdout",
     "output_type": "stream",
     "text": [
      "1\n",
      "1\n",
      "1\n",
      "16\n",
      "9\n",
      "5\n",
      "2\n"
     ]
    },
    {
     "data": {
      "text/plain": [
       "7"
      ]
     },
     "execution_count": 9,
     "metadata": {},
     "output_type": "execute_result"
    }
   ],
   "source": [
    "# Create text file for each doc - Each Doc maps to an image\n",
    "def labels_to_imageTxt_files(rsrc_df, trainingData_term, flpth='../data'):\n",
    "    \n",
    "    ### Move resource df to textacy\n",
    "   \n",
    "    # Load into textacy to delimit sentences\n",
    "    img_labels = rsrc_df.to_dict(orient=\"records\")\n",
    "    text_stream, metadata_stream = textacy.io.split_records(img_labels, 'RESOURCE')\n",
    "\n",
    "    # Load english model\n",
    "    en = en_core_web_sm.load()\n",
    "    labels_corpus = textacy.Corpus(lang=en, texts=text_stream, metadatas=metadata_stream)\n",
    "    \n",
    "    \n",
    "    \n",
    "    # Loop through corpus and write document to flpth (s3)\n",
    "    ''' Each doc in a corpus equals and image'''\n",
    "    for ix, doc in enumerate(labels_corpus):\n",
    "        print(doc.n_sents)\n",
    "        \n",
    "        # Paths to directories (Where to write the text files)\n",
    "        filename = \"{}_{}.txt\".format(trainingData_term, ix)\n",
    "        path_to_file = \"{}/{}\".format(flpth, filename)\n",
    "        \n",
    "        # Handle missing Directory\n",
    "        if not os.path.exists(flpth):\n",
    "            dirname = os.path.abspath('')\n",
    "            os.makedirs( os.path.join(dirname, flpth))\n",
    "            # print(os.path.join(dirname, flpth))\n",
    "        \n",
    "        \n",
    "        f =  open(path_to_file, 'w')\n",
    "        \n",
    "        # Parse Document sentences\n",
    "        for sent in doc.sents:\n",
    "            label = textacy.preprocess.preprocess_text(sent.text,\n",
    "                                               lowercase=True,\n",
    "                                               no_punct=True\n",
    "                                              )\n",
    "            f.write(label+\"\\n\" )\n",
    "            \n",
    "        f.close()\n",
    "    return ix + 1 # Count using 1 as start\n",
    "\n",
    "# process labels for images\n",
    "\n",
    "\n",
    "trainingData_term = 'photosynthesis'\n",
    "trainingData_flpth='{}/text'.format(txtToImage_data_dir, 'text')\n",
    "\n",
    "numText_files = labels_to_imageTxt_files(rsrc_df, trainingData_term, trainingData_flpth)\n",
    "numText_files"
   ]
  },
  {
   "cell_type": "code",
   "execution_count": 26,
   "metadata": {},
   "outputs": [
    {
     "name": "stdout",
     "output_type": "stream",
     "text": [
      "500\n",
      "347\n"
     ]
    }
   ],
   "source": [
    "im = PIL.Image.open(\"../AttnGAN/data/birds/CUB_200_2011/images/001.Black_footed_Albatross/Black_Footed_Albatross_0002_55.jpg\")\n",
    "width, height = im.size\n",
    "print(width)\n",
    "print(height)"
   ]
  },
  {
   "cell_type": "markdown",
   "metadata": {},
   "source": [
    "### Download Images from google "
   ]
  },
  {
   "cell_type": "code",
   "execution_count": 21,
   "metadata": {},
   "outputs": [
    {
     "name": "stdout",
     "output_type": "stream",
     "text": [
      "\n",
      "Item no.: 1 --> Item name = photosynthesis\n",
      "Evaluating...\n",
      "Starting Download...\n",
      "\n",
      "Image Metadata: {'image_format': 'png', 'image_height': 220, 'image_width': 220, 'image_link': 'https://upload.wikimedia.org/wikipedia/commons/thumb/5/55/Photosynthesis_en.svg/220px-Photosynthesis_en.svg.png', 'image_description': 'Photosynthesis - Wikipedia', 'image_host': 'en.wikipedia.org', 'image_source': 'https://en.wikipedia.org/wiki/Photosynthesis', 'image_thumbnail_url': 'https://encrypted-tbn0.gstatic.com/images?q=tbn:ANd9GcS5KkJVlZz81zgJD2edw3thRhA_3dLLlsBtIpyz3qStyfqmoyI6'}\n",
      "Completed Image ====> 1. 220px-photosynthesis_en.svg.png\n",
      "\n",
      "Image Metadata: {'image_format': 'png', 'image_height': 421, 'image_width': 575, 'image_link': 'https://ssec.si.edu/sites/default/files/Photosynthesis_0.png', 'image_description': 'What is Photosynthesis | Smithsonian Science Education Center', 'image_host': 'ssec.si.edu', 'image_source': 'https://ssec.si.edu/stemvisions-blog/what-photosynthesis', 'image_thumbnail_url': 'https://encrypted-tbn0.gstatic.com/images?q=tbn:ANd9GcRUztAlqHC8MlNAwnarppl_QGyQ9evf9_f1r3mrOP7kTdJTmYhj'}\n",
      "Completed Image ====> 2. photosynthesis_0.png\n",
      "\n",
      "Image Metadata: {'image_format': 'png', 'image_height': 369, 'image_width': 480, 'image_link': 'http://www.eschooltoday.com/photosynthesis/images/diagram-of-photosynthesis.png', 'image_description': 'What is photosynthesis?', 'image_host': 'eschooltoday.com', 'image_source': 'http://www.eschooltoday.com/photosynthesis/what-is-photosynthesis.html', 'image_thumbnail_url': 'https://encrypted-tbn0.gstatic.com/images?q=tbn:ANd9GcQIOZo3NGhWT5rdtjIx1fTf72QbftWPC9eeCo7QjGrsZTJB2kVc'}\n",
      "Completed Image ====> 3. diagram-of-photosynthesis.png\n",
      "\n",
      "Image Metadata: {'image_format': 'png', 'image_height': 302, 'image_width': 636, 'image_link': 'https://cdn.kastatic.org/ka-perseus-images/b5696ba86426f4fcc8be09e1a910f0033d241d24.png', 'image_description': 'Intro to photosynthesis (article) | Khan Academy', 'image_host': 'khanacademy.org', 'image_source': 'https://www.khanacademy.org/science/biology/photosynthesis-in-plants/introduction-to-stages-of-photosynthesis/a/intro-to-photosynthesis', 'image_thumbnail_url': 'https://encrypted-tbn0.gstatic.com/images?q=tbn:ANd9GcQj2tpqmsSGqMOzOVzz9wj_6TEoXzlBmVqEkHXeY6gxmTIIq9ZzsQ'}\n",
      "Completed Image ====> 4. b5696ba86426f4fcc8be09e1a910f0033d241d24.png\n",
      "\n",
      "Image Metadata: {'image_format': 'png', 'image_height': 767, 'image_width': 836, 'image_link': 'http://science4fun.info/wp-content/uploads/2016/01/photosynthesis.png', 'image_description': 'Photosynthesis - (Infomation + Facts) - Science4Fun', 'image_host': 'science4fun.info', 'image_source': 'http://science4fun.info/photosynthesis/', 'image_thumbnail_url': 'https://encrypted-tbn0.gstatic.com/images?q=tbn:ANd9GcTyz1OblHJ2A1qXnZHrd8O2MaXpCasgXpZz3CqMLvHrwiS-D28S'}\n",
      "Completed Image ====> 5. photosynthesis.png\n",
      "\n",
      "Image Metadata: {'image_format': '1', 'image_height': 862, 'image_width': 800, 'image_link': 'https://dr282zn36sxxg.cloudfront.net/datastreams/f-d%3A283a5747964474bdb6059d1e0714ed65e73f3bdf00a2abbb7f9cce72%2BIMAGE_TINY%2BIMAGE_TINY.1', 'image_description': '2. 23: Photosynthesis Summary - Biology LibreTexts', 'image_host': 'bio.libretexts.org', 'image_source': 'https://bio.libretexts.org/Bookshelves/Introductory_and_General_Biology/Book%3A_Introductory_Biology_(CK-12)/2%3A_Cell_Biology/2._23%3A_Photosynthesis_Summary', 'image_thumbnail_url': 'https://encrypted-tbn0.gstatic.com/images?q=tbn:ANd9GcRFWPDBJwBPBO5OPDhEa5WR3tX7OkF5MC3zyxMY6bxAobxXaGl1BQ'}\n",
      "Completed Image ====> 6. f-d%3a283a5747964474bdb6059d1e0\n",
      "\n",
      "Image Metadata: {'image_format': 'png', 'image_height': 565, 'image_width': 750, 'image_link': 'https://cdn1.byjus.com/wp-content/uploads/2018/11/photosynthesis.png', 'image_description': 'Photosynthesis - Stages, Factors And Importance Of Photosynthesis', 'image_host': 'byjus.com', 'image_source': 'https://byjus.com/biology/photosynthesis/', 'image_thumbnail_url': 'https://encrypted-tbn0.gstatic.com/images?q=tbn:ANd9GcTvDDzm35E3hOaqqXrQOJj-vU9qEjOvdnL3IjkKCMQi8qmcXwVuYA'}\n",
      "Completed Image ====> 7. photosynthesis.png\n",
      "\n",
      "Errors: 0\n",
      "\n",
      "/home/ec2-user/environment/AttnGAN/data/photosynthesis/images/photosynthesis_0.png\n",
      "/home/ec2-user/environment/AttnGAN/data/photosynthesis/images/photosynthesis_1.png\n",
      "/home/ec2-user/environment/AttnGAN/data/photosynthesis/images/photosynthesis_2.png\n",
      "/home/ec2-user/environment/AttnGAN/data/photosynthesis/images/photosynthesis_3.png\n",
      "/home/ec2-user/environment/AttnGAN/data/photosynthesis/images/photosynthesis_4.png\n",
      "/home/ec2-user/environment/AttnGAN/data/photosynthesis/images/photosynthesis_5.png\n",
      "/home/ec2-user/environment/AttnGAN/data/photosynthesis/images/photosynthesis_6.png\n"
     ]
    }
   ],
   "source": [
    "\n",
    "def download_images(term ,img_args):\n",
    "    \n",
    "    # Download Images \n",
    "    response = google_images_download.googleimagesdownload()\n",
    "    img_paths = response.download(img_args)\n",
    "    \n",
    "    # Post Process google image results\n",
    "    for idx, f in enumerate(img_paths[term]):\n",
    "        \n",
    "        \n",
    "        img = PIL.Image.open(f)\n",
    "        img_filetype = img.format.lower()  # 'JPEG'\n",
    "        img.convert('RGB')\n",
    "        \n",
    "                # # Make new filenme to allign with text file name\n",
    "        filename = \"{}_{}.{}\".format(trainingData_term, idx, 'jpg')\n",
    "        \n",
    "        \n",
    "        \n",
    "        rgb_im.save(filename)\n",
    "        \n",
    "        \n",
    "        \n",
    "        \n",
    "        \n",
    "        \n",
    "        \n",
    "        \n",
    "        \n",
    "        \n",
    "        \n",
    "        \n",
    "        img.close()\n",
    "        \n",
    "        \n",
    "        \n",
    "\n",
    "#         newfilepath_f = os.path.join(os.path.dirname(f), filename)\n",
    "#         print(newfilepath_f)\n",
    "#         os.rename(f, newfilepath_f)\n",
    "        \n",
    "        \n",
    "\n",
    "    \n",
    "    \n",
    "    \n",
    "    return response \n",
    "\n",
    "img_args = {\"keywords\":\"photosynthesis\",\n",
    "             \"format\": \"png\",\n",
    "              \"limit\": numText_files,\n",
    "             \"output_directory\": 'data',\n",
    "            \"metadata\": True,\n",
    "            \"image_directory\": \"photosynthesis/images\",\n",
    "            \"no_download\": False,\n",
    "            \"extract_metadata\":True\n",
    "            # \"size\":\"icon\"\n",
    "           }\n",
    "\n",
    "response = download_images(trainingData_term, img_args)"
   ]
  },
  {
   "cell_type": "code",
   "execution_count": 16,
   "metadata": {},
   "outputs": [
    {
     "name": "stdout",
     "output_type": "stream",
     "text": [
      "PNG\n"
     ]
    }
   ],
   "source": [
    "img = PIL.Image.open(\"/home/ec2-user/environment/AttnGAN/data/photosynthesis/images/5. photosynthesis.png\")\n",
    "print(img.format)  # 'JPEG'"
   ]
  },
  {
   "cell_type": "code",
   "execution_count": 18,
   "metadata": {},
   "outputs": [
    {
     "data": {
      "text/plain": [
       "'/home/ec2-user/environment/AttnGAN/data/photosynthesis/images'"
      ]
     },
     "execution_count": 18,
     "metadata": {},
     "output_type": "execute_result"
    }
   ],
   "source": [
    "os.path.dirname(\"/home/ec2-user/environment/AttnGAN/data/photosynthesis/images/5. photosynthesis.png\")"
   ]
  },
  {
   "cell_type": "code",
   "execution_count": null,
   "metadata": {},
   "outputs": [],
   "source": [
    " \n",
    "s3Client = boto3.client(\"s3\")     \n",
    "s3Client.Object('my-bucket-name', 'newfile.txt').put(Body=content)"
   ]
  },
  {
   "cell_type": "code",
   "execution_count": null,
   "metadata": {},
   "outputs": [],
   "source": [
    "list(labels_corpus.docs[0].sents)"
   ]
  },
  {
   "cell_type": "code",
   "execution_count": null,
   "metadata": {},
   "outputs": [],
   "source": [
    "import requests\n",
    "r = requests.get(\"https://ssec.si.edu/stemvisions-blog/what-photosynthesis\")"
   ]
  },
  {
   "cell_type": "code",
   "execution_count": null,
   "metadata": {},
   "outputs": [],
   "source": [
    "r.content"
   ]
  },
  {
   "cell_type": "code",
   "execution_count": null,
   "metadata": {},
   "outputs": [],
   "source": []
  }
 ],
 "metadata": {
  "kernelspec": {
   "display_name": "Python 3",
   "language": "python",
   "name": "python3"
  },
  "language_info": {
   "codemirror_mode": {
    "name": "ipython",
    "version": 3
   },
   "file_extension": ".py",
   "mimetype": "text/x-python",
   "name": "python",
   "nbconvert_exporter": "python",
   "pygments_lexer": "ipython3",
   "version": "3.6.8"
  }
 },
 "nbformat": 4,
 "nbformat_minor": 2
}
