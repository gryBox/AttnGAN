{
 "cells": [
  {
   "cell_type": "code",
   "execution_count": 9,
   "metadata": {},
   "outputs": [],
   "source": [
    "%matplotlib inline\n",
    "%load_ext autoreload\n",
    "%autoreload 2\n",
    "\n",
    "\n",
    "\n",
    "import pandas as pd\n",
    "import io\n",
    "import boto3\n",
    "from boto3.dynamodb.conditions import Key\n",
    "import os\n",
    "from google_images_download import google_images_download\n",
    "import glob\n",
    "import PIL\n",
    "import json\n",
    "import numpy as np\n",
    "import pathlib\n",
    "import pickle\n",
    "\n",
    "import textacy\n",
    "import en_core_web_sm\n",
    "\n",
    "from IPython.display import SVG\n",
    "\n",
    "from IPython.display import Image\n",
    " "
   ]
  },
  {
   "cell_type": "markdown",
   "metadata": {},
   "source": [
    "# Create Training data for text to image model"
   ]
  },
  {
   "cell_type": "markdown",
   "metadata": {},
   "source": [
    "## Inputs"
   ]
  },
  {
   "cell_type": "code",
   "execution_count": 22,
   "metadata": {},
   "outputs": [],
   "source": [
    "tblName = \"ResourceDocuments\"\n",
    "nodeIdentifierName = \"photosynthesis-photosynthesis-photosynthesis-biology\"\n",
    "\n",
    "termTxtToImage_flpth = 'data/photosynthesis'\n",
    "text_flpth = os.path.join(termTxtToImage_flpth, 'text')\n",
    "img_flpth =  os.path.join(termTxtToImage_flpth, 'images')\n",
    "imageLog_fir='logs'\n",
    "\n",
    "resourceDbName = 'dynamodb'\n",
    "s3Bucket = \"egm-bucket/TEXT_TO_IMAGE_DATA/data\""
   ]
  },
  {
   "cell_type": "markdown",
   "metadata": {},
   "source": [
    "### Get Data from Resource Db: \n",
    "photosynthesis whole"
   ]
  },
  {
   "cell_type": "code",
   "execution_count": 23,
   "metadata": {},
   "outputs": [
    {
     "data": {
      "text/plain": [
       "'NUmber of Items in ResourceDb: 14'"
      ]
     },
     "metadata": {},
     "output_type": "display_data"
    }
   ],
   "source": [
    "# Get Definitions for photosynthesis from dynamodb\n",
    "\n",
    "## Connect to dynamodb\n",
    "dynamodbClient = boto3.resource(\"dynamodb\")\n",
    "# client = boto3.client('dynamodb')\n",
    "# display(client.describe_table(TableName=tblName))\n",
    "\n",
    "## Connect to table with resources\n",
    "resourceTbl = dynamodbClient.Table(tblName)\n",
    "# display(resourceTbl.global_secondary_indexes)\n",
    "display(\"NUmber of Items in ResourceDb: {}\".format(resourceTbl.item_count))"
   ]
  },
  {
   "cell_type": "markdown",
   "metadata": {},
   "source": [
    "### Load text into pandas \n",
    "- For data munging\n",
    "    - stats\n",
    "    - Duplicates"
   ]
  },
  {
   "cell_type": "code",
   "execution_count": 24,
   "metadata": {},
   "outputs": [
    {
     "name": "stdout",
     "output_type": "stream",
     "text": [
      "Db Response Shape: (14, 13)\n",
      "Db Response Shape: (7, 13)\n",
      "Index(['IMAGES', 'NODE_IDENTIFIER', 'POS', 'RESOURCE', 'RESOURCE_ATTRIBUTION',\n",
      "       'RESOURCE_DATATYPE', 'RESOURCE_SOURCE', 'RESOURCE_TYPE', 'RESOURCE_URL',\n",
      "       'TERM', 'TIME_DOWNLOADED', 'TOPIC', 'UNIQUE_IDENTIFIER'],\n",
      "      dtype='object')\n"
     ]
    }
   ],
   "source": [
    "response = resourceTbl.query(\n",
    "    IndexName='NODE_IDENTIFIER-index',\n",
    "    KeyConditionExpression=Key('NODE_IDENTIFIER').eq(nodeIdentifierName)\n",
    ")\n",
    "\n",
    "# Pass through pandas for some data munging\n",
    "rsrc_df = pd.DataFrame(response[\"Items\"])\n",
    "print(\"Db Response Shape: {}\".format(rsrc_df.shape))\n",
    "\n",
    "rsrc_df.drop_duplicates(['RESOURCE'], keep='last', inplace=True)\n",
    "rsrc_df.reset_index(drop=True)\n",
    "\n",
    "print(\"Db Response Shape: {}\".format(rsrc_df.shape))\n",
    "print(rsrc_df.columns)"
   ]
  },
  {
   "cell_type": "code",
   "execution_count": 25,
   "metadata": {},
   "outputs": [
    {
     "data": {
      "text/plain": [
       "4        century\n",
       "5        wordnet\n",
       "9     wiktionary\n",
       "10     wikipedia\n",
       "11         gcide\n",
       "12     wikipedia\n",
       "13    ahd-legacy\n",
       "Name: RESOURCE_SOURCE, dtype: object"
      ]
     },
     "execution_count": 25,
     "metadata": {},
     "output_type": "execute_result"
    }
   ],
   "source": [
    "rsrc_df[\"RESOURCE_SOURCE\"]"
   ]
  },
  {
   "cell_type": "markdown",
   "metadata": {},
   "source": [
    "### Create Labels for text to image model"
   ]
  },
  {
   "cell_type": "code",
   "execution_count": null,
   "metadata": {},
   "outputs": [],
   "source": [
    "oxf = \"The process by which green plants and some other organisms use sunlight to synthesize nutrients from carbon dioxide and water. Photosynthesis in plants generally involves the green pigment chlorophyll and generates oxygen as a by-product.\"\n"
   ]
  },
  {
   "cell_type": "code",
   "execution_count": null,
   "metadata": {},
   "outputs": [],
   "source": [
    "rsrc_df.append(pd.DataFrame({\"RESOURCE_SOURCE\": [oxf]}, sort=False))"
   ]
  },
  {
   "cell_type": "code",
   "execution_count": 82,
   "metadata": {},
   "outputs": [
    {
     "name": "stdout",
     "output_type": "stream",
     "text": [
      "Number of Sentenses: 1\n",
      "Number of Sentenses: 1\n",
      "Number of Sentenses: 1\n",
      "Number of Sentenses: 16\n",
      "Number of Sentenses: 9\n",
      "Number of Sentenses: 5\n",
      "Number of Sentenses: 2\n"
     ]
    },
    {
     "data": {
      "text/plain": [
       "7"
      ]
     },
     "execution_count": 82,
     "metadata": {},
     "output_type": "execute_result"
    }
   ],
   "source": [
    "def handle_missing_directories(directory_flpth):\n",
    "    # Handle missing Directory\n",
    "    if not os.path.exists(directory_flpth):\n",
    "        \n",
    "        os.makedirs(directory_flpth)\n",
    "        print(\"Made new directory: {}\".format(directory_flpth))\n",
    "        # print(os.path.join(dirname, flpth))\n",
    "    else:\n",
    "        pass\n",
    "    \n",
    "    return\n",
    "\n",
    "# Create text file for each doc - Each Doc maps to an image\n",
    "\n",
    "## TODO: incoroporate number of labals per line\n",
    "def labels_to_imageTxt_files(rsrc_df, trainingData_term, trainigData_flpth='../data'):\n",
    "    \n",
    "    # Handle if a data directory for a term exists e.g. data/photosynthesis\n",
    "    dirname = os.path.abspath('')\n",
    "    termData_flpth = os.path.join(dirname, trainigData_flpth)\n",
    "    handle_missing_directories(termData_flpth)\n",
    "    \n",
    "    \n",
    "    ### Move resource df to textacy\n",
    "   \n",
    "    # Load into textacy to delimit sentences\n",
    "    img_labels = rsrc_df.to_dict(orient=\"records\")\n",
    "    text_stream, metadata_stream = textacy.io.split_records(img_labels, 'RESOURCE')\n",
    "\n",
    "    # Load english model\n",
    "    en = en_core_web_sm.load()\n",
    "    labels_corpus = textacy.Corpus(lang=en, texts=text_stream, metadatas=metadata_stream)\n",
    "    \n",
    "    caption_filename_path = os.path.join(trainigData_flpth, \"captions.pickle\")\n",
    "    \n",
    "    # Loop through corpus and write document to flpth (s3)\n",
    "    ''' Each doc in a corpus equals and image'''\n",
    "    for ix, doc in enumerate(labels_corpus):\n",
    "        print(\"Number of Sentences: {}\".format(doc.n_sents))\n",
    "        \n",
    "        # Paths to directories (Where to write the text files)\n",
    "        filename = \"{}_{}.txt\".format(trainingData_term, ix)\n",
    "        path_to_file = \"{}/{}\".format(trainigData_flpth, filename)\n",
    "        \n",
    "        # Write captions for google images\n",
    "        f =  open(path_to_file, 'w')\n",
    "        \n",
    "        # Parse Document into sentences\n",
    "        for sent in doc.sents:\n",
    "            caption = textacy.preprocess.preprocess_text(sent.text,\n",
    "                                               lowercase=True,\n",
    "                                               no_punct=True\n",
    "                                              )\n",
    "            # f.write(label+\"\\n\" )\n",
    "            f.write(caption+\" \" )\n",
    "            \n",
    "        f.close()\n",
    "        \n",
    "    return ix + 1 # Count using 1 as start\n",
    "\n",
    "# process labels for images\n",
    "\n",
    "\n",
    "trainingData_term = 'photosynthesis'\n",
    "txt_trainingData_flpth='{}/text'.format(termTxtToImage_flpth, 'text')\n",
    "\n",
    "numText_files = labels_to_imageTxt_files(rsrc_df, trainingData_term, txt_trainingData_flpth)\n",
    "numText_files"
   ]
  },
  {
   "cell_type": "code",
   "execution_count": null,
   "metadata": {},
   "outputs": [],
   "source": [
    "def get_relfilename(fullFlpth, relFlpth):\n",
    "    p = pathlib.Path(fullFlpth)\n",
    "    txtRel_flpth = p.relative_to(relFlpth)\n",
    "    txtCaption_flpth = str(txtRel_flpth.parent)\n",
    "    \n",
    "    txtFile_nm = txtRel_flpth.stem\n",
    "    \n",
    "    return txtFile_nm"
   ]
  },
  {
   "cell_type": "code",
   "execution_count": null,
   "metadata": {},
   "outputs": [],
   "source": [
    "orgFileName = get_relfilename(fileCombo_lst[0], )"
   ]
  },
  {
   "cell_type": "code",
   "execution_count": null,
   "metadata": {},
   "outputs": [],
   "source": [
    "# Create Fake data\n",
    "import shutil\n",
    "import itertools\n",
    "\n",
    "# Get a list of the original files f\n",
    "txtDirFileNm_lst = glob.glob(text_flpth+\"/**/*.txt\", recursive=True)\n",
    "imgDirFileNm_lst = glob.glob(img_flpth+\"/**/*.jpg\", recursive=True)\n",
    "\n",
    "fileCombo_lst = list(itertools.product(txtDirFileNm_lst,imgDirFileNm_lst))\n",
    "\n",
    "# for item in fileCombo_lst:\n",
    "    \n",
    "#     # Get text name\n",
    "#     txtget_relfilename\n",
    "\n",
    "# # # Create list paired tuple pairs\n",
    "# # comboFlpth_lst = list(zip(txtDirFileNm_lst, imgDirFileNm_lst))\n",
    "# # comboFlpth_lst\n",
    "\n",
    "# # new_list = []\n",
    "# # for k,v in comboFlpth_lst.iteritems():\n",
    "# #     new_list.extend([x for x in combinations(v, 2)]) \n",
    "# # # for txtFile, imgFile in comboFlpth_dict:\n",
    "# # #     # Make copies of files and rename\n",
    "# # #     shutil.copyfile(txtFile, dst)\n",
    "# # #     shutil.copyfile(imgFile, dst)\n",
    "\n",
    "# # new_list\n",
    "\n"
   ]
  },
  {
   "cell_type": "code",
   "execution_count": null,
   "metadata": {},
   "outputs": [],
   "source": []
  },
  {
   "cell_type": "markdown",
   "metadata": {},
   "source": [
    "### Download Images from google "
   ]
  },
  {
   "cell_type": "code",
   "execution_count": 21,
   "metadata": {},
   "outputs": [
    {
     "ename": "NameError",
     "evalue": "name 'trainingData_term' is not defined",
     "output_type": "error",
     "traceback": [
      "\u001b[0;31m---------------------------------------------------------------------------\u001b[0m",
      "\u001b[0;31mNameError\u001b[0m                                 Traceback (most recent call last)",
      "\u001b[0;32m<ipython-input-21-c0116a545d1b>\u001b[0m in \u001b[0;36m<module>\u001b[0;34m\u001b[0m\n\u001b[1;32m     38\u001b[0m            }\n\u001b[1;32m     39\u001b[0m \u001b[0;34m\u001b[0m\u001b[0m\n\u001b[0;32m---> 40\u001b[0;31m \u001b[0mresponse\u001b[0m \u001b[0;34m=\u001b[0m \u001b[0mdownload_images\u001b[0m\u001b[0;34m(\u001b[0m\u001b[0mtrainingData_term\u001b[0m\u001b[0;34m,\u001b[0m \u001b[0mimg_args\u001b[0m\u001b[0;34m)\u001b[0m\u001b[0;34m\u001b[0m\u001b[0;34m\u001b[0m\u001b[0m\n\u001b[0m",
      "\u001b[0;31mNameError\u001b[0m: name 'trainingData_term' is not defined"
     ]
    }
   ],
   "source": [
    "\n",
    "def download_images(term ,img_args):\n",
    "    \n",
    "    # Download Images \n",
    "    response = google_images_download.googleimagesdownload()\n",
    "    img_paths = response.download(img_args)\n",
    "    \n",
    "#     # Post Process google image results\n",
    "#     for idx, f in enumerate(img_paths[term]):\n",
    "        \n",
    "#         # Open Google image resulst and conver to jpeg\n",
    "#         img = PIL.Image.open(f)\n",
    "#         img_filetype = img.format.lower()  # 'JPEG'\n",
    "        \n",
    "#         rgb_img = img.convert('RGB')\n",
    "#         img.close()\n",
    "        \n",
    "#         # Make new filenme to allign with text file name\n",
    "#         filename = \"{}_{}.{}\".format(trainingData_term, idx, 'jpg')\n",
    "#         newfilepath_f = os.path.join(os.path.dirname(f), filename)\n",
    "        \n",
    "#         # Save and image\n",
    "#         rgb_img.save(newfilepath_f)\n",
    "#         os.remove(f)\n",
    "    \n",
    "    \n",
    "    return response \n",
    "\n",
    "img_args = {\"keywords\":\"sun\",\n",
    "             \"format\": \"png\",\n",
    "              \"limit\": 100,\n",
    "             \"output_directory\": 'data',\n",
    "            \"metadata\": True,\n",
    "            \"image_directory\": \"photosynthesis/images\",\n",
    "            \"no_download\": False,\n",
    "            \"extract_metadata\":True\n",
    "            # \"size\":\"icon\"\n",
    "           }\n",
    "\n",
    "response = download_images(trainingData_term, img_args)"
   ]
  },
  {
   "cell_type": "markdown",
   "metadata": {},
   "source": [
    "### 1. Inputs"
   ]
  },
  {
   "cell_type": "code",
   "execution_count": 11,
   "metadata": {},
   "outputs": [],
   "source": [
    "import tigDataLoader.utiils as dataloader\n",
    "import os\n",
    "import json"
   ]
  },
  {
   "cell_type": "code",
   "execution_count": 137,
   "metadata": {},
   "outputs": [],
   "source": [
    "predictTerm = \"photosynthesis\"\n",
    "dataTerm = \"photosynthesis\""
   ]
  },
  {
   "cell_type": "code",
   "execution_count": 138,
   "metadata": {},
   "outputs": [],
   "source": [
    "# Base file io inputs\n",
    "trainData_flpth = os.path.join('data', predictTerm)\n",
    "text_flpth = os.path.join(trainData_flpth, 'text')\n",
    "img_flpth =  os.path.join(trainData_flpth, 'images')\n",
    "\n",
    "# Google imagae download metadata\n",
    "imageLog_fir='logs'"
   ]
  },
  {
   "cell_type": "code",
   "execution_count": 139,
   "metadata": {},
   "outputs": [],
   "source": [
    "def delete_images():\n",
    "    return"
   ]
  },
  {
   "cell_type": "code",
   "execution_count": 52,
   "metadata": {},
   "outputs": [],
   "source": [
    "def transformText_to_captions(txtDoc, numCaptions_per_image=5, txtSplit_method='svo'):\n",
    "    # Take textacy doc and converts to a list of captions for an image\n",
    "    \n",
    "    if txtSplit_method=='noun_chunks':\n",
    "        split_list = list(textacy.extract.noun_chunks(txtDoc, drop_determiners=False, min_freq=1))\n",
    "    if txtSplit_method=='svo':\n",
    "        split_list = list(textacy.extract.subject_verb_object_triples(txtDoc))\n",
    "    \n",
    "    return split_list"
   ]
  },
  {
   "cell_type": "markdown",
   "metadata": {},
   "source": [
    "### 2. Make captions for images"
   ]
  },
  {
   "cell_type": "code",
   "execution_count": 30,
   "metadata": {},
   "outputs": [
    {
     "data": {
      "text/plain": [
       "Corpus(7 docs; 963 tokens)"
      ]
     },
     "execution_count": 30,
     "metadata": {},
     "output_type": "execute_result"
    }
   ],
   "source": [
    "# 1. Load text to textacy - each document is linked to an image\n",
    "imgTxt_corpus = dataloader.df_to_corpus(rsrc_df)\n",
    "imgTxt_corpus"
   ]
  },
  {
   "cell_type": "code",
   "execution_count": 75,
   "metadata": {},
   "outputs": [
    {
     "data": {
      "text/plain": [
       "{'bring': 1,\n",
       " 'light': 6,\n",
       " 'combination': 1,\n",
       " 'sunlight': 1,\n",
       " 'action': 2,\n",
       " 'carbohydrate': 6,\n",
       " 'water': 6,\n",
       " 'air': 2,\n",
       " 'chemical': 3,\n",
       " 'live': 1,\n",
       " 'formation': 1,\n",
       " 'di': 1,\n",
       " 'plant': 7,\n",
       " 'influence': 1,\n",
       " 'oxid': 1,\n",
       " 'carbon': 6,\n",
       " 'synthesis': 3,\n",
       " 'aid': 1,\n",
       " 'especially': 1,\n",
       " 'energy': 5,\n",
       " 'compound': 3,\n",
       " 'radiant': 1,\n",
       " 'photoautotroph': 3,\n",
       " 'chloroplast': 3,\n",
       " 'dioxide': 5,\n",
       " 'generate': 1,\n",
       " 'process': 5,\n",
       " 'oxygen': 4,\n",
       " 'embed': 1,\n",
       " 'oxygenation': 1,\n",
       " 'transfer': 1,\n",
       " 'phosphate': 1,\n",
       " 'remove': 1,\n",
       " 'release': 3,\n",
       " 'storage': 1,\n",
       " 'φῶς': 1,\n",
       " 'appear': 2,\n",
       " 'nicotinamide': 1,\n",
       " 'achieve': 1,\n",
       " 'evolution': 1,\n",
       " 'term': 1,\n",
       " '91': 1,\n",
       " 'organic': 2,\n",
       " 'reverse': 1,\n",
       " 'ribulose': 1,\n",
       " 'petagram': 1,\n",
       " 'cycle': 1,\n",
       " 'excess': 1,\n",
       " 'reaction': 1,\n",
       " 'bacteria': 1,\n",
       " 'use': 4,\n",
       " 'history': 1,\n",
       " 'current': 1,\n",
       " 'serve': 1,\n",
       " 'reduce': 2,\n",
       " 'largely': 2,\n",
       " 'life': 2,\n",
       " 'hydrogen': 2,\n",
       " 'sugar': 3,\n",
       " 'average': 1,\n",
       " 'leaf': 1,\n",
       " 'dinucleotide': 1,\n",
       " 'organism': 3,\n",
       " 'sulfide': 1,\n",
       " 'responsible': 2,\n",
       " 'cyanobacteria': 2,\n",
       " 'today': 1,\n",
       " 'Cyanobacteria': 1,\n",
       " 'abundant': 1,\n",
       " 'green': 2,\n",
       " 'ATP': 1,\n",
       " 'membrane': 1,\n",
       " 'capture': 1,\n",
       " 'strip': 1,\n",
       " 'complex': 1,\n",
       " 'mechanism': 1,\n",
       " 'result': 1,\n",
       " 'content': 2,\n",
       " 'NADPH': 1,\n",
       " 'molecule': 2,\n",
       " 'product': 3,\n",
       " 'waste': 2,\n",
       " 'human': 1,\n",
       " 'σύνθεσις': 1,\n",
       " 'enable': 1,\n",
       " 'protein': 1,\n",
       " 'photosynthetic': 1,\n",
       " 'directly': 1,\n",
       " 'power': 1,\n",
       " 'atmospheric': 1,\n",
       " '130': 1,\n",
       " 'billion': 1,\n",
       " 'maintain': 2,\n",
       " 'cell': 2,\n",
       " 'splitting': 1,\n",
       " 'absorb': 1,\n",
       " '-PRON-': 2,\n",
       " 'free': 1,\n",
       " 'independent': 1,\n",
       " 'algae': 2,\n",
       " 'later': 2,\n",
       " 'case': 2,\n",
       " 'begin': 1,\n",
       " 'contain': 2,\n",
       " 'consumption': 1,\n",
       " 'currency': 1,\n",
       " 'hold': 1,\n",
       " 'photosynthesis': 4,\n",
       " 'atmosphere': 2,\n",
       " 'plasma': 1,\n",
       " 'evolutionary': 1,\n",
       " 'convert': 2,\n",
       " 'chlorophyll': 2,\n",
       " 'centre': 1,\n",
       " 'glucose': 1,\n",
       " 'supply': 2,\n",
       " 'biomass': 1,\n",
       " 'greek': 1,\n",
       " 'adenine': 1,\n",
       " 'terawatt': 1,\n",
       " 'contribute': 1,\n",
       " 'drive': 1,\n",
       " 'necessary': 2,\n",
       " 'different': 1,\n",
       " 'Earth': 2,\n",
       " 'rate': 1,\n",
       " 'RuBP': 1,\n",
       " 'activity': 2,\n",
       " 'pigment': 1,\n",
       " 'fuel': 2,\n",
       " 'store': 2,\n",
       " 'Calvin': 1,\n",
       " 'sequence': 1,\n",
       " 'incorporate': 1,\n",
       " 'end': 1,\n",
       " '100–115': 1,\n",
       " 'possible': 1,\n",
       " 'adenosine': 1,\n",
       " 'form': 3,\n",
       " 'agent': 1,\n",
       " 'triphosphate': 1,\n",
       " 'substance': 2,\n",
       " 'synthesize': 3,\n",
       " 'exist': 1,\n",
       " 'Krebs': 1,\n",
       " 'inside': 1,\n",
       " 'organelle': 1,\n",
       " 'source': 2,\n",
       " 'time': 1,\n",
       " 'perform': 3,\n",
       " 'short': 1,\n",
       " 'long': 1,\n",
       " 'produce': 3,\n",
       " 'early': 1,\n",
       " 'differently': 1,\n",
       " 'globally': 1,\n",
       " 'creation': 1,\n",
       " 'phōs': 2,\n",
       " 'specie': 1,\n",
       " 'suitable': 1,\n",
       " 'gas': 1,\n",
       " 'civilization': 1,\n",
       " 'year': 1,\n",
       " 'electron': 1,\n",
       " 'likely': 1,\n",
       " 'subsequent': 1,\n",
       " 'render': 1,\n",
       " 'dependent': 1,\n",
       " '104': 1,\n",
       " 'bisphosphate': 1,\n",
       " 'probably': 1,\n",
       " 'approximately': 1,\n",
       " 'evolve': 1,\n",
       " 'tonne': 1,\n",
       " 'know': 1,\n",
       " 'clearly': 1,\n",
       " 'monoxide': 1,\n",
       " 'vine': 1,\n",
       " 'proteid': 1,\n",
       " 'secretion': 1,\n",
       " 'range': 1,\n",
       " 'previously': 1,\n",
       " 'unite': 1,\n",
       " 'temperature': 1,\n",
       " 'theory': 1,\n",
       " 'expose': 1,\n",
       " 'translocate': 1,\n",
       " 'fungi': 1,\n",
       " 'animal': 1,\n",
       " 'climate': 1,\n",
       " 'apparatus': 1,\n",
       " 'commonly': 1,\n",
       " 'tissue': 1,\n",
       " 'quickly': 1,\n",
       " 'certain': 2,\n",
       " 'vary': 1,\n",
       " 'Baeyer': 1,\n",
       " 'assimilation': 1,\n",
       " 'way': 1,\n",
       " 'derive': 1,\n",
       " 'formaldehyde': 1,\n",
       " 'able': 1,\n",
       " 'decomposition': 1,\n",
       " 'parasitic': 1,\n",
       " 'suggest': 1,\n",
       " 'polymerization': 1,\n",
       " 'accumulate': 1,\n",
       " 'metabolism': 1,\n",
       " 'saprophytic': 1,\n",
       " 'accord': 1,\n",
       " 'detail': 1,\n",
       " 'starch': 1,\n",
       " 'simultaneously': 1,\n",
       " 'organize': 1,\n",
       " 'food': 1,\n",
       " 'usually': 1,\n",
       " 'vapor': 1,\n",
       " 'constructive': 1,\n",
       " 'physiology': 1,\n",
       " 'change': 1,\n",
       " 'Greek': 1,\n",
       " 'byproduct': 1}"
      ]
     },
     "execution_count": 75,
     "metadata": {},
     "output_type": "execute_result"
    }
   ],
   "source": [
    "imgTxt_corpus.word_doc_freqs(normalize='lemma', weighting='count', as_strings=True)"
   ]
  },
  {
   "cell_type": "code",
   "execution_count": 60,
   "metadata": {},
   "outputs": [
    {
     "data": {
      "text/plain": [
       "Doc(37 tokens; \"A chemical combination brought about by the act...\")"
      ]
     },
     "execution_count": 60,
     "metadata": {},
     "output_type": "execute_result"
    }
   ],
   "source": [
    "txtDoc = imgTxt_corpus[0]\n",
    "txtDoc"
   ]
  },
  {
   "cell_type": "code",
   "execution_count": 81,
   "metadata": {},
   "outputs": [
    {
     "data": {
      "text/plain": [
       "Corpus(7 docs; 963 tokens)"
      ]
     },
     "execution_count": 81,
     "metadata": {},
     "output_type": "execute_result"
    }
   ],
   "source": [
    "imgTxt_corpus\n"
   ]
  },
  {
   "cell_type": "code",
   "execution_count": null,
   "metadata": {},
   "outputs": [],
   "source": [
    "imgTxt_corpus.get(lambda x: len(x)"
   ]
  },
  {
   "cell_type": "code",
   "execution_count": 56,
   "metadata": {},
   "outputs": [],
   "source": [
    "docSplit_list = transformText_to_captions(txtDoc, numCaptions_per_image=5, txtSplit_method='svo')"
   ]
  },
  {
   "cell_type": "code",
   "execution_count": 70,
   "metadata": {},
   "outputs": [
    {
     "data": {
      "text/plain": [
       "[A chemical combination brought about,\n",
       " chemical combination brought about by,\n",
       " combination brought about by the,\n",
       " brought about by the action,\n",
       " about by the action of,\n",
       " by the action of light,\n",
       " as in the formation of,\n",
       " in the formation of carbohydrates,\n",
       " the formation of carbohydrates in,\n",
       " formation of carbohydrates in living,\n",
       " of carbohydrates in living plants,\n",
       " carbohydrates in living plants from,\n",
       " in living plants from the,\n",
       " living plants from the carbon,\n",
       " plants from the carbon di,\n",
       " oxid and water of the,\n",
       " and water of the air,\n",
       " water of the air under,\n",
       " of the air under the,\n",
       " the air under the influence,\n",
       " air under the influence of,\n",
       " under the influence of sunlight]"
      ]
     },
     "execution_count": 70,
     "metadata": {},
     "output_type": "execute_result"
    }
   ],
   "source": [
    "list(textacy.extract.ngrams(txtDoc, n=5, filter_stops=False))"
   ]
  },
  {
   "cell_type": "code",
   "execution_count": 68,
   "metadata": {},
   "outputs": [
    {
     "data": {
      "text/plain": [
       "'A chemical combination brought about by the action of light, as in the formation of carbohydrates in living plants from the carbon di-oxid and water of the air under the influence of sunlight.'"
      ]
     },
     "execution_count": 68,
     "metadata": {},
     "output_type": "execute_result"
    }
   ],
   "source": [
    "txtDoc.text"
   ]
  },
  {
   "cell_type": "code",
   "execution_count": 71,
   "metadata": {},
   "outputs": [
    {
     "data": {
      "text/plain": [
       "{}"
      ]
     },
     "execution_count": 71,
     "metadata": {},
     "output_type": "execute_result"
    }
   ],
   "source": [
    "textacy.extract.acronyms_and_definitions(txtDoc)"
   ]
  },
  {
   "cell_type": "markdown",
   "metadata": {},
   "source": [
    "### 3. Download images\n",
    "- from google"
   ]
  },
  {
   "cell_type": "code",
   "execution_count": 18,
   "metadata": {},
   "outputs": [
    {
     "name": "stdout",
     "output_type": "stream",
     "text": [
      "\n",
      "Item no.: 1 --> Item name = sun\n",
      "Evaluating...\n",
      "Starting Download...\n",
      "\n",
      "Image Metadata: {'image_format': 'png', 'image_height': 2358, 'image_width': 2361, 'image_link': 'https://www.bedfordny.gov/wp-content/uploads/2018/07/sunshine-sun-clip-art-with-transparent-background-free-free-clipart-sun-2361_2358-2.png', 'image_description': 'sunshine-sun-clip-art-with-transparent-background-free-free-clipart ...', 'image_host': 'bedfordny.gov', 'image_source': 'https://www.bedfordny.gov/community-events-calendar-6-30-7-7-2018/sunshine-sun-clip-art-with-transparent-background-free-free-clipart-sun-2361_2358-3/', 'image_thumbnail_url': 'https://encrypted-tbn0.gstatic.com/images?q=tbn:ANd9GcTO8VPsoy8d-O_GGnT_HsgEJrWr8OFlrpDUM9Z1SZKpwm0AX7zx'}\n",
      "URLError on an image...trying next one... Error: <urlopen error [SSL: CERTIFICATE_VERIFY_FAILED] certificate verify failed (_ssl.c:852)>\n",
      "\n",
      "Image Metadata: {'image_format': 'jpg', 'image_height': 400, 'image_width': 400, 'image_link': 'http://worldartsme.com/images/large-sun-clipart-1.jpg', 'image_description': 'Large Sun Clipart', 'image_host': 'worldartsme.com', 'image_source': 'http://worldartsme.com/large-sun-clipart.html', 'image_thumbnail_url': 'https://encrypted-tbn0.gstatic.com/images?q=tbn:ANd9GcRJIgk5ug1ph7jD24FN3Wy2Psa65lkEyyCwWGzQ9WtIAVTBPQfT'}\n",
      "Completed Image ====> 1. large-sun-clipart-1.jpg\n",
      "\n",
      "Image Metadata: {'image_format': 'png', 'image_height': 600, 'image_width': 600, 'image_link': 'https://i.pinimg.com/originals/7c/fe/8c/7cfe8c1126326bd450c36a6ea0d17961.png', 'image_description': 'Sun Clipart | Decorative Sun clip art - vector clip art online ...', 'image_host': 'pinterest.com', 'image_source': 'https://www.pinterest.com/pin/418905202809903527/', 'image_thumbnail_url': 'https://encrypted-tbn0.gstatic.com/images?q=tbn:ANd9GcSvB_pD-QADrKVDvZwoJxU_hlx1GBhRTkCg_vhYGJQv4Y-nrYAbXQ'}\n",
      "Completed Image ====> 2. 7cfe8c1126326bd450c36a6ea0d17961.png\n",
      "\n",
      "Image Metadata: {'image_format': 'jpg', 'image_height': 4321, 'image_width': 4139, 'image_link': 'https://requestreduce.org/images/real-sun-clipart-21.jpg', 'image_description': 'real sun clipart - image #24', 'image_host': 'requestreduce.org', 'image_source': 'https://requestreduce.org/image/real-sun-clipart/91900.html', 'image_thumbnail_url': 'https://encrypted-tbn0.gstatic.com/images?q=tbn:ANd9GcQ6Dxv3m3lEhYkEXDsfQgzakasbhygOSChMSjNVqy5hJVwNap5OFQ'}\n",
      "Completed Image ====> 3. real-sun-clipart-21.jpg\n",
      "\n",
      "Image Metadata: {'image_format': 'png', 'image_height': 720, 'image_width': 753, 'image_link': 'https://requestreduce.org/images/google-free-images-clipart-4.png', 'image_description': 'Cute sun banner free library - RR collections', 'image_host': 'requestreduce.org', 'image_source': 'https://requestreduce.org/categories/cute-sun-clipart.html', 'image_thumbnail_url': 'https://encrypted-tbn0.gstatic.com/images?q=tbn:ANd9GcTD4JxqzWEh2zuXKuC3uM7EW46rS1ai5fFlXUAM5lrfmO6o2rDJ'}\n",
      "Completed Image ====> 4. google-free-images-clipart-4.png\n",
      "\n",
      "Image Metadata: {'image_format': 'jpg', 'image_height': 398, 'image_width': 399, 'image_link': 'http://worldartsme.com/images/weather-sun-clipart-1.jpg', 'image_description': 'Weather Sun Clipart', 'image_host': 'worldartsme.com', 'image_source': 'http://worldartsme.com/weather-sun-clipart.html', 'image_thumbnail_url': 'https://encrypted-tbn0.gstatic.com/images?q=tbn:ANd9GcT6nohXUMq_5mEKwDJtjfI9lMC1ZXXFrSywaHUcVmKlCz3OJjF0'}\n",
      "Completed Image ====> 5. weather-sun-clipart-1.jpg\n",
      "\n",
      "Image Metadata: {'image_format': 'png', 'image_height': 558, 'image_width': 558, 'image_link': 'https://requestreduce.org/images/clipart-images-of-the-sun-7.png', 'image_description': 'Sun picture library download background - RR collections', 'image_host': 'requestreduce.org', 'image_source': 'https://requestreduce.org/categories/sun-clipart-background.html', 'image_thumbnail_url': 'https://encrypted-tbn0.gstatic.com/images?q=tbn:ANd9GcSiyLduiZkRptUsZhCVmOX_HyVyz36oROley5hyO4EF25ruaZSQSw'}\n",
      "Completed Image ====> 6. clipart-images-of-the-sun-7.png\n",
      "\n",
      "Image Metadata: {'image_format': 'png', 'image_height': 285, 'image_width': 298, 'image_link': 'http://www.clker.com/cliparts/Z/B/s/a/T/h/sun-clipart-md.png', 'image_description': 'Sun Clipart Clip Art at Clker.com - vector clip art online, royalty ...', 'image_host': 'clker.com', 'image_source': 'http://www.clker.com/clipart-sun-clipart.html', 'image_thumbnail_url': 'https://encrypted-tbn0.gstatic.com/images?q=tbn:ANd9GcSXtwQgMnkxWFGRstVMamXG01rQ1sqqBCIztpJq2BNU_b3PQrnozw'}\n",
      "Completed Image ====> 7. sun-clipart-md.png\n",
      "\n",
      "Image Metadata: {'image_format': 'png', 'image_height': 600, 'image_width': 600, 'image_link': 'http://clipart-library.com/images/8czKnAq5i.png', 'image_description': 'Free Pic Of Sun, Download Free Clip Art, Free Clip Art on Clipart ...', 'image_host': 'clipart-library.com', 'image_source': 'http://clipart-library.com/pic-of-sun.html', 'image_thumbnail_url': 'https://encrypted-tbn0.gstatic.com/images?q=tbn:ANd9GcSwWTCy6MTB0XyafET40GZGxh17ElcFk6Tma4a5hxNv_pHgZpMy'}\n",
      "Completed Image ====> 8. 8czknaq5i.png\n",
      "\n",
      "Image Metadata: {'image_format': 'png', 'image_height': 345, 'image_width': 365, 'image_link': 'https://solarsystem.nasa.gov/system/basic_html_elements/11561_Sun.png', 'image_description': 'Overview | Sun – NASA Solar System Exploration', 'image_host': 'solarsystem.nasa.gov', 'image_source': 'https://solarsystem.nasa.gov/solar-system/sun/overview/', 'image_thumbnail_url': 'https://encrypted-tbn0.gstatic.com/images?q=tbn:ANd9GcQIfOTyp0dLP0GwmyB7i4NdsZMl0uQYvxk8wVY43iGMsAUKXVG4'}\n",
      "Completed Image ====> 9. 11561_sun.png\n",
      "\n",
      "Image Metadata: {'image_format': 'png', 'image_height': 597, 'image_width': 594, 'image_link': 'http://www.clker.com/cliparts/4/A/k/O/t/h/sun-hi.png', 'image_description': 'Sun Clip Art at Clker.com - vector clip art online, royalty free ...', 'image_host': 'clker.com', 'image_source': 'http://www.clker.com/clipart-sun-30.html', 'image_thumbnail_url': 'https://encrypted-tbn0.gstatic.com/images?q=tbn:ANd9GcT9_nBnfPOiq4VsL_G6bPvXZoFMl7ZchUp-dmupYkKZLB2yCh_WdQ'}\n",
      "Completed Image ====> 10. sun-hi.png\n",
      "\n",
      "Image Metadata: {'image_format': 'jpg', 'image_height': 297, 'image_width': 282, 'image_link': 'http://worldartsme.com/images/happy-sun-clipart-1.jpg', 'image_description': 'Happy Sun Clipart', 'image_host': 'worldartsme.com', 'image_source': 'http://worldartsme.com/happy-sun-clipart.html', 'image_thumbnail_url': 'https://encrypted-tbn0.gstatic.com/images?q=tbn:ANd9GcQ_ng0cxc6Hq4ZEeMSOZoslsMK6AxmiSVEImhqChI_0hjEjx-Dj'}\n",
      "Completed Image ====> 11. happy-sun-clipart-1.jpg\n",
      "\n",
      "Image Metadata: {'image_format': 'png', 'image_height': 404, 'image_width': 400, 'image_link': 'http://www.transparentpng.com/thumb/sun/sun-clipart-images-png-7.png', 'image_description': 'Download SUN Free PNG transparent image and clipart', 'image_host': 'transparentpng.com', 'image_source': 'http://www.transparentpng.com/cats/sun-172.html', 'image_thumbnail_url': 'https://encrypted-tbn0.gstatic.com/images?q=tbn:ANd9GcQ-FhPn7Kk2YfRAM9S_wuupDc_iCI8ZHF5fO4Jz_akmBmYBnoQdyw'}\n",
      "Completed Image ====> 12. sun-clipart-images-png\n",
      "\n",
      "Image Metadata: {'image_format': 'jpg', 'image_height': 1080, 'image_width': 1080, 'image_link': 'https://requestreduce.org/images/real-sun-clipart-6.jpg', 'image_description': 'Png sun vector library - RR collections', 'image_host': 'requestreduce.org', 'image_source': 'https://requestreduce.org/categories/png-sun-clipart.html', 'image_thumbnail_url': 'https://encrypted-tbn0.gstatic.com/images?q=tbn:ANd9GcTzbZDruto2Irk8wifjYnM6lvRutAI3XSLCqB4t2nGQk9LxXHDT'}\n",
      "Completed Image ====> 13. real-sun-clipart-6.jpg\n",
      "\n",
      "Image Metadata: {'image_format': 'jpg', 'image_height': 560, 'image_width': 560, 'image_link': 'http://worldartsme.com/images/sun-clipart-1.jpg', 'image_description': 'Sun Clipart', 'image_host': 'worldartsme.com', 'image_source': 'http://worldartsme.com/sun-clipart.html', 'image_thumbnail_url': 'https://encrypted-tbn0.gstatic.com/images?q=tbn:ANd9GcTMtRQJEWCRRQmxiSyvLbydNLh5xMi_2YhFfG7Vyw944vrlls6T'}\n",
      "Completed Image ====> 14. sun-clipart-1.jpg\n",
      "\n",
      "Image Metadata: {'image_format': 'png', 'image_height': 2004, 'image_width': 1959, 'image_link': 'https://requestreduce.org/images/16-pointed-sun-clipart-3.png', 'image_description': '1930s sun image free stock - RR collections', 'image_host': 'requestreduce.org', 'image_source': 'https://requestreduce.org/categories/1930s-sun-clipart.html', 'image_thumbnail_url': 'https://encrypted-tbn0.gstatic.com/images?q=tbn:ANd9GcRuo7xNP6vGP01fsbDiHONOoE7N4O3MANIdg7CybzQz2Mv5bTpvlQ'}\n",
      "Completed Image ====> 15. 16-pointed-sun-clipart-3.png\n",
      "\n",
      "Image Metadata: {'image_format': 'png', 'image_height': 5793, 'image_width': 5789, 'image_link': 'http://clipart-library.com/images/AibjMEo7T.png', 'image_description': 'Free Free Images Of The Sun, Download Free Clip Art, Free Clip Art ...', 'image_host': 'clipart-library.com', 'image_source': 'http://clipart-library.com/free-images-of-the-sun.html', 'image_thumbnail_url': 'https://encrypted-tbn0.gstatic.com/images?q=tbn:ANd9GcSIeKeTsPhTsMGzXWuxsT04ECh6XaWfxd5oJ-i0kTKAHcRW8Nif'}\n",
      "Completed Image ====> 16. aibjmeo7t.png\n",
      "\n",
      "Image Metadata: {'image_format': 'png', 'image_height': 300, 'image_width': 300, 'image_link': 'http://images.clipartpanda.com/sunlight-clipart-sun-md.png', 'image_description': 'Summer Sun Clipart | Clipart Panda - Free Clipart Images', 'image_host': 'clipartpanda.com', 'image_source': 'http://www.clipartpanda.com/categories/summer-sun-clipart', 'image_thumbnail_url': 'https://encrypted-tbn0.gstatic.com/images?q=tbn:ANd9GcQf7K_AaQxJPPctJiLIF8g2pR71PIme8SthNySN_YHQImnjnn5P'}\n",
      "Completed Image ====> 17. sunlight-clipart-sun-md.png\n",
      "\n",
      "Image Metadata: {'image_format': 'png', 'image_height': 2135, 'image_width': 2142, 'image_link': 'https://clipart.info/images/ccovers/1486149502Sunshine-free-sun-clipart-public-domain-sun-clip-art-images-and-5.png', 'image_description': 'Sunshine Free Sun Clipart Public Domain Sun Clip Art Images And 5', 'image_host': 'clipart.info', 'image_source': 'https://clipart.info/sunshine-free-sun-clipart-public-domain-sun-clip-art-images-and-5-2261', 'image_thumbnail_url': 'https://encrypted-tbn0.gstatic.com/images?q=tbn:ANd9GcRUjNJJrgAYU7KC18F3CmfPhsXqHc8DzXwQLDzgoDJnytxWaYHUAg'}\n",
      "Completed Image ====> 18. 1486149502sunshine-free-sun-clipart-public-domain-sun-clip-art-images-and-5.png\n",
      "\n",
      "Image Metadata: {'image_format': 'png', 'image_height': 376, 'image_width': 400, 'image_link': 'https://content.mycutegraphics.com/graphics/sun/funny-sun.png', 'image_description': 'Sun Clip Art - Sun Images', 'image_host': 'mycutegraphics.com', 'image_source': 'https://www.mycutegraphics.com/graphics/sun-images.html', 'image_thumbnail_url': 'https://encrypted-tbn0.gstatic.com/images?q=tbn:ANd9GcTA3msvqarrbhdcDPRjhu8LNaCc5frzMi03D4SrQdW21AnQ5WMf'}\n",
      "Completed Image ====> 19. funny-sun.png\n",
      "\n",
      "Image Metadata: {'image_format': 'png', 'image_height': 256, 'image_width': 256, 'image_link': 'http://www.clipartroo.com/images/91/small-happy-sun-clipart-91398.png', 'image_description': 'small happy sun clipart 91398 - Sun Small Wavy Beams Icon ...', 'image_host': 'clipartroo.com', 'image_source': 'http://www.clipartroo.com/download-clipart-91398.html', 'image_thumbnail_url': 'https://encrypted-tbn0.gstatic.com/images?q=tbn:ANd9GcR-FhTApuN0Qpcql1QZAsA_upOgKSTmrpMAct7IVTMPChZopN0V'}\n",
      "Completed Image ====> 20. small-happy-sun-clipart-91398.png\n",
      "\n",
      "Image Metadata: {'image_format': 'png', 'image_height': 843, 'image_width': 850, 'image_link': 'https://en.toppng.com/public/uploads/preview/transparent-sun-11546504468cptib0nold.png', 'image_description': 'Download transparent sun clipart png photo | TOPpng', 'image_host': 'en.toppng.com', 'image_source': 'https://en.toppng.com/transparent-sun-PNG-free-PNG-Images_42045', 'image_thumbnail_url': 'https://encrypted-tbn0.gstatic.com/images?q=tbn:ANd9GcQ8Q1StPppGMZIrlcWQm-4lIBnzGkGpdTPBknaldMwhe5Pe65yr'}\n",
      "Completed Image ====> 21. transparent-sun-11546504468cptib0nold.png\n",
      "\n",
      "Image Metadata: {'image_format': 'png', 'image_height': 435, 'image_width': 435, 'image_link': 'http://clipartsign.com/upload/2015/12/02/free-sun-clipart-public-domain-sun-clip-art-images-and-graphics-2.png', 'image_description': 'sun images clip art - Ecosia', 'image_host': 'ecosia.org', 'image_source': 'https://www.ecosia.org/images/?c=sv&p=4&q=sun+images+clip+art', 'image_thumbnail_url': 'https://encrypted-tbn0.gstatic.com/images?q=tbn:ANd9GcSch7LuSq5Astlr2GYIqgS9X7oJbsQ6LRN43RL8Gn2BvPINea5kZw'}\n",
      "Completed Image ====> 22. free-sun-clipart-public-domain-sun-clip-art-images-and-graphics-2.png\n",
      "\n",
      "Image Metadata: {'image_format': 'png', 'image_height': 843, 'image_width': 1525, 'image_link': 'https://cognigen-cellular.com/images/sun-clipart-rise-1.png', 'image_description': '14 cliparts for free. Download Sun clipart rise and use in ...', 'image_host': 'cognigen-cellular.com', 'image_source': 'https://cognigen-cellular.com/explore/sun-clipart-rise/', 'image_thumbnail_url': 'https://encrypted-tbn0.gstatic.com/images?q=tbn:ANd9GcS2pwLxo7l6r24Qi7x45rG3srNjOv77sWyyNcuvE8RDYp_7MoSR'}\n",
      "Completed Image ====> 23. sun-clipart-rise-1.png\n",
      "\n",
      "Image Metadata: {'image_format': 'png', 'image_height': 432, 'image_width': 432, 'image_link': 'http://www.clipartroo.com/images/2/happy-sun-clipart-2883.png', 'image_description': 'happy sun clipart 2883 - Smiling Sun SVG Scrapbook Cut Cute Clipart ...', 'image_host': 'clipartroo.com', 'image_source': 'http://www.clipartroo.com/download-clipart-2883.html', 'image_thumbnail_url': 'https://encrypted-tbn0.gstatic.com/images?q=tbn:ANd9GcTHV_H4-CAyz3L25slwbxX-j6kQhH_eOCsaUWwjCU2ao9hHgcfHfw'}\n",
      "Completed Image ====> 24. happy-sun-clipart-2883.png\n",
      "\n",
      "Image Metadata: {'image_format': 'png', 'image_height': 720, 'image_width': 846, 'image_link': 'https://cdn.pixabay.com/photo/2012/05/04/10/17/sun-47083_960_720.png', 'image_description': 'Sun Happy Sunshine - Free vector graphic on Pixabay', 'image_host': 'pixabay.com', 'image_source': 'https://pixabay.com/vectors/sun-happy-sunshine-golden-yellow-47083/', 'image_thumbnail_url': 'https://encrypted-tbn0.gstatic.com/images?q=tbn:ANd9GcRm34E04QEhthaHLPz_Zgfoj-NvPgroAIsfq19NYTOqXqEu3w-l'}\n",
      "Completed Image ====> 25. sun-47083_960_720.png\n",
      "\n",
      "Image Metadata: {'image_format': 'png', 'image_height': 600, 'image_width': 540, 'image_link': 'http://clipart-library.com/images/pco54jdKi.png', 'image_description': 'Free Drawings Of The Sun, Download Free Clip Art, Free Clip Art on ...', 'image_host': 'clipart-library.com', 'image_source': 'http://clipart-library.com/drawings-of-the-sun.html', 'image_thumbnail_url': 'https://encrypted-tbn0.gstatic.com/images?q=tbn:ANd9GcRNMyL3eLHWAqqykhuWrqGWffJN3ZFXKNGgTGOCJqlqYAYEO5_0'}\n",
      "Completed Image ====> 26. pco54jdki.png\n",
      "\n",
      "Image Metadata: {'image_format': 'jpg', 'image_height': 700, 'image_width': 700, 'image_link': 'http://worldartsme.com/images/moving-sun-clipart-1.jpg', 'image_description': 'Moving Sun Clipart', 'image_host': 'worldartsme.com', 'image_source': 'http://worldartsme.com/moving-sun-clipart.html', 'image_thumbnail_url': 'https://encrypted-tbn0.gstatic.com/images?q=tbn:ANd9GcT2g07sMJlMZC2SEk5vQieOYzBV1Ax9bE3v8kDc5d37c2tI_KPjpg'}\n",
      "Completed Image ====> 27. moving-sun-clipart-1.jpg\n",
      "\n",
      "Image Metadata: {'image_format': 'png', 'image_height': 600, 'image_width': 586, 'image_link': 'https://gallery.yopriceville.com/var/resizes/Free-Clipart-Pictures/Sun-and-Moon-PNG/Transparent_Cartoon_Sun_PNG_Clipart_Picture.png?m=1434276589', 'image_description': 'sun images clip art - Ecosia', 'image_host': 'ecosia.org', 'image_source': 'https://www.ecosia.org/images?c=sv&p=7&q=sun+images+clip+art', 'image_thumbnail_url': 'https://encrypted-tbn0.gstatic.com/images?q=tbn:ANd9GcRTkytOErwDKe7J3qe0-8XHPjEAquUtOaoLHI1t7Nl9kxjWEwp5'}\n",
      "Completed Image ====> 28. transparent_cartoon_sun_png\n",
      "\n",
      "Image Metadata: {'image_format': 'png', 'image_height': 716, 'image_width': 711, 'image_link': 'http://diysolarpanelsv.com/images/sun-clipart-border-40.png', 'image_description': 'Sun clipart border collection', 'image_host': 'diysolarpanelsv.com', 'image_source': 'http://diysolarpanelsv.com/sun-clipart-border.html', 'image_thumbnail_url': 'https://encrypted-tbn0.gstatic.com/images?q=tbn:ANd9GcRQ1PdAWxhOqxeiH-iqEsfn1Uvg3560H0RwqlMf8Sky4hzlQq1MYg'}\n",
      "Completed Image ====> 29. sun-clipart-border-40.png\n",
      "\n",
      "Image Metadata: {'image_format': 'png', 'image_height': 2400, 'image_width': 2400, 'image_link': 'https://dumielauxepices.net/sites/default/files/sun-clipart-philippine-784201-2631200.png', 'image_description': 'Sun Clipart philippine - Free Clipart on Dumielauxepices.net', 'image_host': 'dumielauxepices.net', 'image_source': 'https://dumielauxepices.net/sun-clipart/sun-clipart-philippine', 'image_thumbnail_url': 'https://encrypted-tbn0.gstatic.com/images?q=tbn:ANd9GcQccPLpV6EGy_hnnxpTBM6YA9_UsTArlSkvGojJAiEw04wis77C'}\n",
      "Completed Image ====> 30. sun-clipart-philippine-784201-2631200.png\n",
      "\n",
      "Image Metadata: {'image_format': 'png', 'image_height': 708, 'image_width': 714, 'image_link': 'http://clipart-library.com/images/BigAok9AT.png', 'image_description': 'Free Graphic Sun, Download Free Clip Art, Free Clip Art on Clipart ...', 'image_host': 'clipart-library.com', 'image_source': 'http://clipart-library.com/graphic-sun.html', 'image_thumbnail_url': 'https://encrypted-tbn0.gstatic.com/images?q=tbn:ANd9GcQbeMugg0-e7JkigXUowESZpwNcllEBajdB9hMLvsDaGtPmEdshHQ'}\n",
      "Completed Image ====> 31. bigaok9at.png\n",
      "\n",
      "Image Metadata: {'image_format': 'png', 'image_height': 300, 'image_width': 300, 'image_link': 'http://getdrawings.com/cliparts/cartoon-sun-clipart-20.png', 'image_description': 'Cartoon Sun Clipart at GetDrawings.com | Free for personal use ...', 'image_host': 'getdrawings.com', 'image_source': 'http://getdrawings.com/cartoon-sun-clipart', 'image_thumbnail_url': 'https://encrypted-tbn0.gstatic.com/images?q=tbn:ANd9GcSqm62wp4L88b3KsOKtSvDFkP8AbwKYtTvyJnqVz_fIOo5Pz3V0ZQ'}\n",
      "Completed Image ====> 32. cartoon-sun-clipart-20.png\n",
      "\n",
      "Image Metadata: {'image_format': 'png', 'image_height': 600, 'image_width': 564, 'image_link': 'http://enosart.com/wp-content/uploads/2018/09/sunshine-half-sun-clipart-5-clipartix-with-sunshine-clipart.png', 'image_description': 'Sunshine Half Sun Clipart 5 Clipartix With Sunshine Clipart - Free ...', 'image_host': 'enosart.com', 'image_source': 'http://enosart.com/sunshine-clipart-4021/', 'image_thumbnail_url': 'https://encrypted-tbn0.gstatic.com/images?q=tbn:ANd9GcTr88DF1cwwTtVXsiS-WAFRpUySyljfDsjJbWC9J77Ms2zHBW8Yfg'}\n",
      "Completed Image ====> 33. sunshine-half-sun-clipart-5-clipartix-with-sunshine-clipart.png\n",
      "\n",
      "Image Metadata: {'image_format': 'png', 'image_height': 596, 'image_width': 600, 'image_link': 'http://clipartmag.com/images/sun-clipart-drawing-34.png', 'image_description': 'Sun Clipart Drawing | Free download best Sun Clipart Drawing on ...', 'image_host': 'clipartmag.com', 'image_source': 'http://clipartmag.com/sun-clipart-drawing', 'image_thumbnail_url': 'https://encrypted-tbn0.gstatic.com/images?q=tbn:ANd9GcQun-CypJWPEOIlvlFt5BFthfN-WQTGD7umi7BLsAGT4RRD3i6dgw'}\n",
      "Completed Image ====> 34. sun-clipart-drawing-34.png\n",
      "\n",
      "Image Metadata: {'image_format': 'png', 'image_height': 238, 'image_width': 450, 'image_link': 'http://www.clipartroo.com/images/87/half-sun-clipart-87242.png', 'image_description': 'half sun clipart 87242 - Calendar & Events HOMEfm - Free Clipart', 'image_host': 'clipartroo.com', 'image_source': 'http://www.clipartroo.com/download-clipart-87242.html', 'image_thumbnail_url': 'https://encrypted-tbn0.gstatic.com/images?q=tbn:ANd9GcRc1NdXvPKpQxxy5DBmcNwO6-PumwmDmUTSV4yDESRZGy-99MvXjg'}\n",
      "Completed Image ====> 35. half-sun-clipart-87242.png\n",
      "\n",
      "Image Metadata: {'image_format': 'png', 'image_height': 250, 'image_width': 300, 'image_link': 'https://dumielauxepices.net/sites/default/files/sun-clipart-teletubbies-784273-145755.png', 'image_description': 'Sun Clipart teletubbies - Free Clipart on Dumielauxepices.net', 'image_host': 'dumielauxepices.net', 'image_source': 'https://dumielauxepices.net/sun-clipart/sun-clipart-teletubbies', 'image_thumbnail_url': 'https://encrypted-tbn0.gstatic.com/images?q=tbn:ANd9GcQ_esvUYwhgccN7ginHkBmc4US4v9K-Nn5_7NJ4LH8CudZUx_CeYg'}\n",
      "Completed Image ====> 36. sun-clipart-teletubbies-784273-145755.png\n",
      "\n",
      "Image Metadata: {'image_format': 'png', 'image_height': 292, 'image_width': 322, 'image_link': 'https://photoshop-kopona.com/uploads/posts/2017-09/1506144220_sun_-1.png', 'image_description': 'Sun Clipart download - free psd file (transparent background)', 'image_host': 'photoshop-kopona.com', 'image_source': 'https://photoshop-kopona.com/57440-sun-clipart-download-free-psd-file-transparent-background.html', 'image_thumbnail_url': 'https://encrypted-tbn0.gstatic.com/images?q=tbn:ANd9GcT5RPb0QdgeRXaSmNas2lo_-PQxgERIpRJOytBVoWLnsBUg6haF'}\n",
      "URLError on an image...trying next one... Error: HTTP Error 404: Not Found\n",
      "\n",
      "Image Metadata: {'image_format': 'png', 'image_height': 478, 'image_width': 528, 'image_link': 'http://diysolarpanelsv.com/images/clipart-for-sun-34.png', 'image_description': 'Free cartoon sun clipart collection', 'image_host': 'diysolarpanelsv.com', 'image_source': 'http://diysolarpanelsv.com/free-cartoon-sun-clipart.html', 'image_thumbnail_url': 'https://encrypted-tbn0.gstatic.com/images?q=tbn:ANd9GcSj8mTYFoUkBWmvVx11B9ZJremQBXEv-6UA19xQTHFgwFOC9xitFA'}\n",
      "Completed Image ====> 37. clipart-for-sun-34.png\n",
      "\n",
      "Image Metadata: {'image_format': 'png', 'image_height': 399, 'image_width': 432, 'image_link': 'http://niceclipart.com/wp-content/uploads/2017/10/Sun-clipart-10.png', 'image_description': 'Sun clip art - Sun clipart photo - NiceClipart.com', 'image_host': 'niceclipart.com', 'image_source': 'http://niceclipart.com/7341/sun.html', 'image_thumbnail_url': 'https://encrypted-tbn0.gstatic.com/images?q=tbn:ANd9GcRVjIEala-R6xlRJdeIvIhgb5u1aoBipCEcti2n-x19OvMJxeIxnA'}\n",
      "Completed Image ====> 38. sun-clipart-10.png\n",
      "\n",
      "Image Metadata: {'image_format': 'png', 'image_height': 1034, 'image_width': 1142, 'image_link': 'http://clipartmag.com/images/sun-picture-44.png', 'image_description': 'Sun Picture | Free download best Sun Picture on ClipArtMag.com', 'image_host': 'clipartmag.com', 'image_source': 'http://clipartmag.com/sun-picture', 'image_thumbnail_url': 'https://encrypted-tbn0.gstatic.com/images?q=tbn:ANd9GcT2VRoTJ1ednk8md3GpSiEcs-56ocTWFdmq8PakXtfWue-gzFDq'}\n",
      "Completed Image ====> 39. sun-picture-44.png\n",
      "\n",
      "Image Metadata: {'image_format': 'jpg', 'image_height': 553, 'image_width': 486, 'image_link': 'https://clipartmagic.com/wp-content/uploads/2018/07/sun-clip-art-black-and-white-stylist-design-clipart-of-sun-latest-20-black-and-white-images-free-download.jpg', 'image_description': 'sun images clip art - Ecosia', 'image_host': 'ecosia.org', 'image_source': 'https://www.ecosia.org/images/?c=en&p=12&q=sun+images+clip+art', 'image_thumbnail_url': 'https://encrypted-tbn0.gstatic.com/images?q=tbn:ANd9GcT-bDWtk-OBZFFYNrjWkuJ7ybq8rJVHKDnsvHllB7BrA1RZwNO6'}\n",
      "Completed Image ====> 40. sun-clip-art-black-and-white-stylist-design-clipart-of-sun-latest-20-black-and-white-images-free-download.jpg\n",
      "\n",
      "Image Metadata: {'image_format': 'jpg', 'image_height': 328, 'image_width': 600, 'image_link': 'https://clipground.com/images/morning-sun-clipart-18.jpg', 'image_description': 'sun setting clipart - Clipground', 'image_host': 'clipground.com', 'image_source': 'https://clipground.com/sun-setting-clipart.html', 'image_thumbnail_url': 'https://encrypted-tbn0.gstatic.com/images?q=tbn:ANd9GcTGDl_8Pp5QIz2w562BJTMm-gMoqkQD2GyARr1EHPZwCKObqBbxyw'}\n",
      "Completed Image ====> 41. morning-sun-clipart-18.jpg\n",
      "\n",
      "Image Metadata: {'image_format': 'png', 'image_height': 3904, 'image_width': 2317, 'image_link': 'https://requestreduce.org/images/free-clip-art-laughing-9.png', 'image_description': 'Fun in the sun image freeuse download - RR collections', 'image_host': 'requestreduce.org', 'image_source': 'https://requestreduce.org/categories/fun-in-the-sun-clipart.html', 'image_thumbnail_url': 'https://encrypted-tbn0.gstatic.com/images?q=tbn:ANd9GcQeN0VRUPi9SULGe_BJEoyEHL6HFWNovADRZoEnDDF23Pa77DhmSw'}\n",
      "Completed Image ====> 42. free-clip-art-laughing-9.png\n",
      "\n",
      "Image Metadata: {'image_format': 'png', 'image_height': 294, 'image_width': 300, 'image_link': 'https://carwad.net/sites/default/files/black-and-white-sun-clipart-148668-3138571.png', 'image_description': 'Black And White Sun Clipart Free Download Clip Art - carwad.net', 'image_host': 'carwad.net', 'image_source': 'https://carwad.net/black-and-white-sun-clipart', 'image_thumbnail_url': 'https://encrypted-tbn0.gstatic.com/images?q=tbn:ANd9GcQRsM-AGAThPR_awFAfaLy70O4mNy1PoovuZRTU7Vf639du9SW7'}\n",
      "Completed Image ====> 43. black-and-white-sun-clipart-148668-3138571.png\n",
      "\n",
      "Image Metadata: {'image_format': 'png', 'image_height': 600, 'image_width': 534, 'image_link': 'https://i.pinimg.com/originals/4e/a6/23/4ea623895eba20aaaa1909fd5bcef1b4.png', 'image_description': 'Pin by Sally Gunnell on Primary | Sun clip art, Sun template, Sun ...', 'image_host': 'pinterest.com', 'image_source': 'https://www.pinterest.com/pin/427842033348248935/', 'image_thumbnail_url': 'https://encrypted-tbn0.gstatic.com/images?q=tbn:ANd9GcTDS1UUFmbJfyI9KyGy6SlgIz-Nz5tXt-PjH7bwM1IwyOkGVRx2'}\n",
      "Completed Image ====> 44. 4ea623895eba20aaaa1909fd5bcef1b4.png\n",
      "\n",
      "Image Metadata: {'image_format': 'png', 'image_height': 800, 'image_width': 800, 'image_link': 'http://getdrawings.com/cliparts/cartoon-sun-clipart-18.png', 'image_description': 'Cartoon Sun Clipart at GetDrawings.com | Free for personal use ...', 'image_host': 'getdrawings.com', 'image_source': 'http://getdrawings.com/cartoon-sun-clipart', 'image_thumbnail_url': 'https://encrypted-tbn0.gstatic.com/images?q=tbn:ANd9GcRC7pU5SUIXtmFH5HZ5E_RkWCWOM7In4YFh0VyNVYfoIdu12Pigww'}\n",
      "Completed Image ====> 45. cartoon-sun-clipart-18.png\n",
      "\n",
      "Image Metadata: {'image_format': 'png', 'image_height': 501, 'image_width': 677, 'image_link': 'http://www.toca-ch.com/data/walls/296/34381262.png', 'image_description': 'Sun And Clouds Clipart Gallery (71+ images)', 'image_host': 'toca-ch.com', 'image_source': 'http://www.toca-ch.com/collection/sun-and-clouds-clipart/', 'image_thumbnail_url': 'https://encrypted-tbn0.gstatic.com/images?q=tbn:ANd9GcQul86DaH6rTzbLhWh19ym_6BFwhVzP_PpEeI6vLQNxOttWYuzcQA'}\n",
      "Completed Image ====> 46. 34381262.png\n",
      "\n",
      "Image Metadata: {'image_format': 'png', 'image_height': 1386, 'image_width': 1404, 'image_link': 'http://gclipart.com/wp-content/uploads/2017/04/Sun-black-and-white-sun-black-and-white-clipart-2.png', 'image_description': 'Sun black and white sun black and white clipart 2 – Gclipart.com', 'image_host': 'gclipart.com', 'image_source': 'http://gclipart.com/sun-clipart-black-and-white_14075/', 'image_thumbnail_url': 'https://encrypted-tbn0.gstatic.com/images?q=tbn:ANd9GcQV6Gxs9_pRzfbh7tgb_gplwlKxpCgrHECRxXW7P4T1jJfmsWSN'}\n",
      "Completed Image ====> 47. sun-black-and-white-sun-black-and-white-clipart-2.png\n",
      "\n",
      "Image Metadata: {'image_format': 'jpg', 'image_height': 264, 'image_width': 263, 'image_link': 'http://worldartsme.com/images/cool-sun-clipart-1.jpg', 'image_description': 'Cool Sun Clipart', 'image_host': 'worldartsme.com', 'image_source': 'http://worldartsme.com/cool-sun-clipart.html', 'image_thumbnail_url': 'https://encrypted-tbn0.gstatic.com/images?q=tbn:ANd9GcS-HKxxzk-dI0yAUYAXIh_VDsGDV1qUN08ovArQkmaSYDWFyzqo'}\n",
      "Completed Image ====> 48. cool-sun-clipart-1.jpg\n",
      "\n",
      "Image Metadata: {'image_format': 'png', 'image_height': 1979, 'image_width': 1979, 'image_link': 'http://images.clipartpanda.com/sun-clipart-png-the_sun_variationen_muster_65-1979px.png', 'image_description': 'Sun Clipart Png | Clipart Panda - Free Clipart Images', 'image_host': 'clipartpanda.com', 'image_source': 'http://www.clipartpanda.com/categories/sun-clipart-png', 'image_thumbnail_url': 'https://encrypted-tbn0.gstatic.com/images?q=tbn:ANd9GcT1ei7uoCIhxhh9pX-58miA-3XtED3hCnDe6Ot2MREE8ArAiwXXlw'}\n",
      "Completed Image ====> 49. sun-clipart-png\n",
      "\n",
      "Image Metadata: {'image_format': 'png', 'image_height': 596, 'image_width': 588, 'image_link': 'https://unixtitan.net/images/corner-sun-clipart-1.png', 'image_description': '19 Corner sun graphic transparent download HUGE FREEBIE! Download ...', 'image_host': 'unixtitan.net', 'image_source': 'https://unixtitan.net/explore/corner-sun-clipart/', 'image_thumbnail_url': 'https://encrypted-tbn0.gstatic.com/images?q=tbn:ANd9GcQUHJ9BO4hX8LB3hg-fq0hWRDYpnPS55weseuZmuCB7oc-szkaF'}\n",
      "Completed Image ====> 50. corner-sun-clipart-1.png\n",
      "\n",
      "Image Metadata: {'image_format': 'png', 'image_height': 5601, 'image_width': 5590, 'image_link': 'http://clipart-library.com/images/rijGxjx4T.png', 'image_description': 'Free Pictures Of Sun, Download Free Clip Art, Free Clip Art on ...', 'image_host': 'clipart-library.com', 'image_source': 'http://clipart-library.com/pictures-of-sun.html', 'image_thumbnail_url': 'https://encrypted-tbn0.gstatic.com/images?q=tbn:ANd9GcQFIsh-UtzTFdKFXrSiWH19-JNhn-wJrT1yC66YIsb_BWfg3XDeaw'}\n",
      "Completed Image ====> 51. rijgxjx4t.png\n",
      "\n",
      "Image Metadata: {'image_format': 'png', 'image_height': 886, 'image_width': 685, 'image_link': 'https://dumielauxepices.net/sites/default/files/sun-clipart-colored-784194-129193.png', 'image_description': 'Sun Clipart colored - Free Clipart on Dumielauxepices.net', 'image_host': 'dumielauxepices.net', 'image_source': 'https://dumielauxepices.net/sun-clipart/sun-clipart-colored', 'image_thumbnail_url': 'https://encrypted-tbn0.gstatic.com/images?q=tbn:ANd9GcR-olXjk3N7L9-9YbglprrjIFT0ncLOrvX7R9NpejTSj69UNv8j8w'}\n",
      "Completed Image ====> 52. sun-clipart-colored-784194-129193.png\n",
      "\n",
      "Image Metadata: {'image_format': 'png', 'image_height': 600, 'image_width': 600, 'image_link': 'http://hddfhm.com/images/animated-sun-clipart-4.png', 'image_description': 'Clipart gif sun - Clipart Collection | A perfect world clip art ...', 'image_host': 'hddfhm.com', 'image_source': 'http://hddfhm.com/clip-art/clipart-gif-sun.html', 'image_thumbnail_url': 'https://encrypted-tbn0.gstatic.com/images?q=tbn:ANd9GcSNxT9xJKr4M6_9XfbjZv5UwQtF0jHbOnQQWli9yBxqXGGNjolA'}\n",
      "Completed Image ====> 53. animated-sun-clipart-4.png\n",
      "\n",
      "Image Metadata: {'image_format': 'png', 'image_height': 1024, 'image_width': 1024, 'image_link': 'http://www.amisvegetarian.com/wp-content/uploads/2018/09/sun-clipart-black-and-white-sun-clipart-black-and-white-clipart-panda-free-clipart-images-dinosaur-clipart-1024x1024.png', 'image_description': 'Sun Clipart Black And White butterfly clipart | house clipart online ...', 'image_host': 'amisvegetarian.com', 'image_source': 'http://www.amisvegetarian.com/sun-clipart-black-and-white-butterfly-clipart/', 'image_thumbnail_url': 'https://encrypted-tbn0.gstatic.com/images?q=tbn:ANd9GcThNHoVeaxGLKBoC5YECxda9V4IOcyTZcReQCO8_VHtj2tFiYrN5w'}\n",
      "Completed Image ====> 54. sun-clipart-black-and-white-sun-clipart-black-and-white-clipart-panda-free-clipart-images-dinosaur-clipart-1024x1024.png\n",
      "\n",
      "Image Metadata: {'image_format': 'png', 'image_height': 2000, 'image_width': 2000, 'image_link': 'http://www.clipartquery.com/images/97/66-free-sun-clipart-cliparting-com-ERqn0J.png', 'image_description': 'Sun Clipart - Free Clipart', 'image_host': 'clipartquery.com', 'image_source': 'http://www.clipartquery.com/sun-clipart/', 'image_thumbnail_url': 'https://encrypted-tbn0.gstatic.com/images?q=tbn:ANd9GcSSquIE3lANQK8BWjQhFd5-qpV1cLHSOW5LRPsfvc5MhTtj0HUwVw'}\n",
      "Completed Image ====> 55. 66-free-sun-clipart-cliparting-com-erqn0j.png\n",
      "\n",
      "Image Metadata: {'image_format': 'png', 'image_height': 600, 'image_width': 600, 'image_link': 'http://clipartmag.com/images/sun-clipart-transparent-8.png', 'image_description': 'Sun Clipart Transparent | Free download best Sun Clipart Transparent ...', 'image_host': 'clipartmag.com', 'image_source': 'http://clipartmag.com/sun-clipart-transparent', 'image_thumbnail_url': 'https://encrypted-tbn0.gstatic.com/images?q=tbn:ANd9GcR0AdkpkXBsvLcFFQW5i8mUCWWi4FQqodXJLIAsPoOh9-cbnFe-Xg'}\n",
      "Completed Image ====> 56. sun-clipart-transparent-8.png\n",
      "\n",
      "Image Metadata: {'image_format': 'png', 'image_height': 1497, 'image_width': 1384, 'image_link': 'https://requestreduce.org/images/big-sun-clipart-17.png', 'image_description': 'Sun vector free download hd - RR collections', 'image_host': 'requestreduce.org', 'image_source': 'https://requestreduce.org/categories/sun-clipart-hd.html', 'image_thumbnail_url': 'https://encrypted-tbn0.gstatic.com/images?q=tbn:ANd9GcRIllUIVhCHPpnPPYPymUf50nrfPz6-XGgAC6EH0b_W-_DVgWsx'}\n",
      "Completed Image ====> 57. big-sun-clipart-17.png\n",
      "\n",
      "Image Metadata: {'image_format': 'png', 'image_height': 840, 'image_width': 840, 'image_link': 'https://flyclipart.com/thumb2/the-sun-clipart-free-download-clip-art-free-clip-art-374949.png', 'image_description': 'Sun Clip Art Free Clipart Images - Sun Clipart Free – Stunning free ...', 'image_host': 'flyclipart.com', 'image_source': 'https://flyclipart.com/sun-clip-art-free-clipart-images-sun-clipart-free-374939', 'image_thumbnail_url': 'https://encrypted-tbn0.gstatic.com/images?q=tbn:ANd9GcTKvNh-yqJX1mI_Qwt9anIvnnLUUuYzcHEY4uQvgbAH_1CecEUe'}\n",
      "Completed Image ====> 58. the-sun-clipart-free-download-clip-art-free-clip-art-374949.png\n",
      "\n",
      "Image Metadata: {'image_format': 'png', 'image_height': 598, 'image_width': 600, 'image_link': 'http://al-taiclub.com/images/sunset-sun-clipart-21.png', 'image_description': 'Sun clipart, Suggestions for sun clipart, Download sun clipart', 'image_host': 'al-taiclub.com', 'image_source': 'http://al-taiclub.com/sun-clipart.html', 'image_thumbnail_url': 'https://encrypted-tbn0.gstatic.com/images?q=tbn:ANd9GcQUUbBvi_krkrHUURyD_lxl2DVQ5sFTqgz5llndt9Mp_YVCt5Z7uA'}\n",
      "Completed Image ====> 59. sunset-sun-clipart-21.png\n",
      "\n",
      "Image Metadata: {'image_format': 'png', 'image_height': 324, 'image_width': 324, 'image_link': 'http://diysolarpanelsv.com/images/clipart-for-sun-9.png', 'image_description': 'Clipart picture of a sun collection', 'image_host': 'diysolarpanelsv.com', 'image_source': 'http://diysolarpanelsv.com/clipart-picture-of-a-sun.html', 'image_thumbnail_url': 'https://encrypted-tbn0.gstatic.com/images?q=tbn:ANd9GcT3GDkXZH9Q6Pe50RvuIj-XtY9_yGi2XU57R0_LMjl8Cb738c3A'}\n",
      "Completed Image ====> 60. clipart-for-sun-9.png\n",
      "\n",
      "Image Metadata: {'image_format': 'png', 'image_height': 633, 'image_width': 632, 'image_link': 'https://clipartix.com/wp-content/uploads/2018/03/sun-clipart-2018-29.png', 'image_description': 'Cute sun clipart free download on png - Clipartix', 'image_host': 'clipartix.com', 'image_source': 'https://clipartix.com/sun-clipart-image-55100/', 'image_thumbnail_url': 'https://encrypted-tbn0.gstatic.com/images?q=tbn:ANd9GcSOgYwWQoj3tV1x51KETB4i376TZmEPhMa0u2msHQGHq2Kn2_tH'}\n",
      "Completed Image ====> 61. sun-clipart-2018-29.png\n",
      "\n",
      "Image Metadata: {'image_format': 'png', 'image_height': 256, 'image_width': 256, 'image_link': 'http://www.clipartroo.com/images/0/sun-clipart-948.png', 'image_description': 'sun clipart 948 - Sun PNG Images Real Free Download - Free Clipart', 'image_host': 'clipartroo.com', 'image_source': 'http://www.clipartroo.com/download-clipart-948.html', 'image_thumbnail_url': 'https://encrypted-tbn0.gstatic.com/images?q=tbn:ANd9GcRXM3mC2wvBzvfWjjMR4QkBzEYURnGKn70TfLMIrksF4yjchAdX2Q'}\n",
      "Completed Image ====> 62. sun-clipart-948.png\n",
      "\n",
      "Image Metadata: {'image_format': 'jpg', 'image_height': 400, 'image_width': 400, 'image_link': 'https://clipground.com/images/summer-sun-clipart-8.jpg', 'image_description': 'Summer sun clipart - Clipground', 'image_host': 'clipground.com', 'image_source': 'https://clipground.com/summer-sun-clipart.html', 'image_thumbnail_url': 'https://encrypted-tbn0.gstatic.com/images?q=tbn:ANd9GcT5xOtkirMpKfxo1AzhLtLZf4Z0NJ9A4sXBp2e_gXg3IhUCREne'}\n",
      "Completed Image ====> 63. summer-sun-clipart-8.jpg\n",
      "\n",
      "Image Metadata: {'image_format': 'png', 'image_height': 2400, 'image_width': 2370, 'image_link': 'https://memegene.net/sites/default/files/wallpaper/sun-clipart/124946/sun-clipart-mandala-124946-1057759.png', 'image_description': '28 Sun Clipart mandala Free Clip Art stock illustrations - memegene.net', 'image_host': 'memegene.net', 'image_source': 'https://memegene.net/sun-clipart/sun-clipart-mandala', 'image_thumbnail_url': 'https://encrypted-tbn0.gstatic.com/images?q=tbn:ANd9GcT2SRlfJPDqmZeQHM1hngz5K0MRCToxowSS0zo9GeFZBZ24Hoe8lw'}\n",
      "Completed Image ====> 64. sun-clipart-mandala-124946-1057759.png\n",
      "\n",
      "Image Metadata: {'image_format': 'png', 'image_height': 561, 'image_width': 570, 'image_link': 'http://getdrawings.com/cliparts/cartoon-sun-clipart-12.png', 'image_description': 'Cartoon Sun Clipart at GetDrawings.com | Free for personal use ...', 'image_host': 'getdrawings.com', 'image_source': 'http://getdrawings.com/cartoon-sun-clipart', 'image_thumbnail_url': 'https://encrypted-tbn0.gstatic.com/images?q=tbn:ANd9GcRMl24skL0SzwrD2EyC4GmNBfXOCMvsIgnDmpqOwFMelNK_5R4F'}\n",
      "Completed Image ====> 65. cartoon-sun-clipart-12.png\n",
      "\n",
      "Image Metadata: {'image_format': 'png', 'image_height': 262, 'image_width': 250, 'image_link': 'https://abeon-hosting.com/images/cartoon-sun-clipart-2.png', 'image_description': 'Cartoon sun clipart - AbeonCliparts | Cliparts & Vectors', 'image_host': 'abeon-hosting.com', 'image_source': 'https://abeon-hosting.com/cartoon-sun-clipart.html', 'image_thumbnail_url': 'https://encrypted-tbn0.gstatic.com/images?q=tbn:ANd9GcT1ipxxZJ2LHcPbFbjxtbu_Bkyw1eSgyjXKefDrdAyV6S2NRSUEgw'}\n",
      "Completed Image ====> 66. cartoon-sun-clipart-2.png\n",
      "\n",
      "Image Metadata: {'image_format': 'png', 'image_height': 640, 'image_width': 638, 'image_link': 'https://clipartion.com/wp-content/uploads/2016/04/sun-bright-shine-yellow-light-clipart.png', 'image_description': 'Best Bright Sun Clipart #29741 - Clipartion.com', 'image_host': 'clipartion.com', 'image_source': 'https://clipartion.com/free-clipart-29741/', 'image_thumbnail_url': 'https://encrypted-tbn0.gstatic.com/images?q=tbn:ANd9GcRPbJGdpBN8Lkj4ueR1jpjX3JPEb9R4yjDavUJPaMBC3XF-5rsR_g'}\n",
      "Completed Image ====> 67. sun-bright-shine-yellow-light-clipart.png\n",
      "\n",
      "Image Metadata: {'image_format': 'png', 'image_height': 357, 'image_width': 840, 'image_link': 'https://flyclipart.com/thumb2/sun-clipart-suggestions-for-sun-clipart-download-sun-clipart-242908.png', 'image_description': 'Rising sun - find and download best transparent png clipart images ...', 'image_host': 'flyclipart.com', 'image_source': 'https://flyclipart.com/search/rising-sun', 'image_thumbnail_url': 'https://encrypted-tbn0.gstatic.com/images?q=tbn:ANd9GcQ1D8AiVM2oXWhFLWIgZtAY4P7pouq4AElFr7_FPAJJY8t7GIPk'}\n",
      "Completed Image ====> 68. sun-clipart-suggestions-for-sun-clipart-download-sun-clipart-242908.png\n",
      "\n",
      "Image Metadata: {'image_format': 'png', 'image_height': 1255, 'image_width': 1231, 'image_link': 'https://pngimage.net/wp-content/uploads/2018/06/sun-clipart-for-kids-png-3.png', 'image_description': 'Sun clipart for kids png 3 Â» PNG Image', 'image_host': 'pngimage.net', 'image_source': 'https://pngimage.net/sun-clipart-for-kids-png-3/', 'image_thumbnail_url': 'https://encrypted-tbn0.gstatic.com/images?q=tbn:ANd9GcRR-mfrbSwY0UsvxYtm_IjPaNI3hj_zCOnfPuBmaO4NlqRsYO2oeQ'}\n",
      "Completed Image ====> 69. sun-clipart-for-kids-png\n",
      "\n",
      "Image Metadata: {'image_format': 'png', 'image_height': 404, 'image_width': 399, 'image_link': 'https://unixtitan.net/images/black-sun-clipart-5.png', 'image_description': '19 Black sun banner download HUGE FREEBIE! Download for PowerPoint ...', 'image_host': 'unixtitan.net', 'image_source': 'https://unixtitan.net/explore/black-sun-clipart/', 'image_thumbnail_url': 'https://encrypted-tbn0.gstatic.com/images?q=tbn:ANd9GcQmhx-xaih9pQwrEEu21gk0hKmkaObrxv_uSgr-ppeTDyzf_DW9'}\n",
      "Completed Image ====> 70. black-sun-clipart-5.png\n",
      "\n",
      "Image Metadata: {'image_format': 'png', 'image_height': 334, 'image_width': 333, 'image_link': 'https://dumielauxepices.net/sites/default/files/sun-clipart-peppa-pig-784274-6341346.png', 'image_description': 'Sun Clipart peppa pig - Free Clipart on Dumielauxepices.net', 'image_host': 'dumielauxepices.net', 'image_source': 'https://dumielauxepices.net/sun-clipart/sun-clipart-peppa-pig', 'image_thumbnail_url': 'https://encrypted-tbn0.gstatic.com/images?q=tbn:ANd9GcReAkB5ScS9GJjDoL9fJosSySVjoAnXw_oYasFyehhOlkXBo3U0Xw'}\n",
      "Completed Image ====> 71. sun-clipart-peppa-pig-784274-6341346.png\n",
      "\n",
      "Image Metadata: {'image_format': 'png', 'image_height': 314, 'image_width': 600, 'image_link': 'https://carwad.net/sites/default/files/rising-sun-clipart-138052-359404.png', 'image_description': 'Rising Sun Clipart Free Download Clip Art - carwad.net', 'image_host': 'carwad.net', 'image_source': 'https://carwad.net/rising-sun-clipart', 'image_thumbnail_url': 'https://encrypted-tbn0.gstatic.com/images?q=tbn:ANd9GcRHjSoEx-rc8E2qHaB7DCMTfIfUszdqbWtMpW-4o5YXz10tLVwP_w'}\n",
      "Completed Image ====> 72. rising-sun-clipart-138052-359404.png\n",
      "\n",
      "Image Metadata: {'image_format': 'png', 'image_height': 298, 'image_width': 297, 'image_link': 'http://images.clipartpanda.com/sun-clipart-transparent-background-sunshine-md.png', 'image_description': 'Sun Clipart Transparent Background | Clipart Panda - Free Clipart Images', 'image_host': 'clipartpanda.com', 'image_source': 'http://www.clipartpanda.com/categories/sun-clipart-transparent-background', 'image_thumbnail_url': 'https://encrypted-tbn0.gstatic.com/images?q=tbn:ANd9GcTU-65zYUZwYRAabnY97twQ4Bf36gZD_3JMlezPGYWG3-_Gw066'}\n",
      "Completed Image ====> 73. sun-clipart-transparent-background-sunshine-md.png\n",
      "\n",
      "Image Metadata: {'image_format': 'png', 'image_height': 309, 'image_width': 248, 'image_link': 'http://clipartmag.com/images/orange-sun-clipart-9.png', 'image_description': 'Orange Sun Clipart | Free download best Orange Sun Clipart on ...', 'image_host': 'clipartmag.com', 'image_source': 'http://clipartmag.com/orange-sun-clipart', 'image_thumbnail_url': 'https://encrypted-tbn0.gstatic.com/images?q=tbn:ANd9GcS8WTqR4US-uyW9CXQuF0Q98r5q8xt-kxHoQ4M15r3Ddt48KOnf'}\n",
      "Completed Image ====> 74. orange-sun-clipart-9.png\n",
      "\n",
      "Image Metadata: {'image_format': 'png', 'image_height': 593, 'image_width': 438, 'image_link': 'http://diysolarpanelsv.com/images/half-sun-clipart-outline-5.png', 'image_description': 'Half sun clipart outline collection', 'image_host': 'diysolarpanelsv.com', 'image_source': 'http://diysolarpanelsv.com/half-sun-clipart-outline.html', 'image_thumbnail_url': 'https://encrypted-tbn0.gstatic.com/images?q=tbn:ANd9GcRdLWfGZaujWj8OHj6DlnxoxV0lb1k1I-1xQJObln7RJ_fkzeO_mA'}\n",
      "Completed Image ====> 75. half-sun-clipart-outline-5.png\n",
      "\n",
      "Image Metadata: {'image_format': 'jpg', 'image_height': 300, 'image_width': 300, 'image_link': 'http://worldartsme.com/images/orange-sun-clipart-1.jpg', 'image_description': 'Orange Sun Clipart', 'image_host': 'worldartsme.com', 'image_source': 'http://worldartsme.com/orange-sun-clipart.html', 'image_thumbnail_url': 'https://encrypted-tbn0.gstatic.com/images?q=tbn:ANd9GcRWSn0AiQTu6jT4sbSGZR1WXiC3z9-NeZJqiv-gWj5N3js-tT4Z'}\n",
      "Completed Image ====> 76. orange-sun-clipart-1.jpg\n",
      "\n",
      "Image Metadata: {'image_format': 'png', 'image_height': 1024, 'image_width': 1024, 'image_link': 'http://www.amisvegetarian.com/wp-content/uploads/2018/10/free-sunshine-clipart-free-sun-clipart-images-free-to-use-public-domain-sun-clip-art-space-clipart-1024x1024.png', 'image_description': 'Free Sunshine Clipart flower clipart | house clipart online download', 'image_host': 'amisvegetarian.com', 'image_source': 'http://www.amisvegetarian.com/free-sunshine-clipart-flower-clipart/', 'image_thumbnail_url': 'https://encrypted-tbn0.gstatic.com/images?q=tbn:ANd9GcQ_5w3BOp2ja1a4WLfpZTUZvEglmLH2buSYTc-opAdxs_eKQH0Ukg'}\n",
      "Completed Image ====> 77. free-sunshine-clipart-free-sun-clipart-images-free-to-use-public-domain-sun-clip-art-space-clipart-1024x1024.png\n",
      "\n",
      "Image Metadata: {'image_format': 'png', 'image_height': 401, 'image_width': 400, 'image_link': 'https://clipart.info/images/ccovers/1486149500Sunshine-sun-clipart-transparent-background-free-clipart-2.png', 'image_description': 'Sunshine Sun Clipart Transparent Background Free Clipart 2', 'image_host': 'clipart.info', 'image_source': 'https://clipart.info/sunshine-sun-clipart-transparent-background-free-clipart-2-2244', 'image_thumbnail_url': 'https://encrypted-tbn0.gstatic.com/images?q=tbn:ANd9GcQDoGbEDfi5og71_ohPznBUFx1dzu2FqN8GZBoibSzK1MiSEeh5'}\n",
      "Completed Image ====> 78. 1486149500sunshine-sun-clipart-transparent-background-free-clipart-2.png\n",
      "\n",
      "Image Metadata: {'image_format': 'png', 'image_height': 233, 'image_width': 383, 'image_link': 'https://content.mycutegraphics.com/graphics/sun/sun-and-rainbow.png', 'image_description': 'Sun Clip Art - Sun Images', 'image_host': 'mycutegraphics.com', 'image_source': 'https://www.mycutegraphics.com/graphics/sun-images.html', 'image_thumbnail_url': 'https://encrypted-tbn0.gstatic.com/images?q=tbn:ANd9GcQgVrkV7loj8WzVD4axxNn6FK2lAmSFMuNRmsp8bkFVaFhJeihOCQ'}\n",
      "Completed Image ====> 79. sun-and-rainbow.png\n",
      "\n",
      "Image Metadata: {'image_format': 'png', 'image_height': 480, 'image_width': 640, 'image_link': 'https://dumielauxepices.net/sites/default/files/styles/225x120/public/sun-clipart-mexican-784198-3634533.png?itok=mSF52H16', 'image_description': 'Sun Clipart - Free Clipart on Dumielauxepices.net', 'image_host': 'dumielauxepices.net', 'image_source': 'https://dumielauxepices.net/sun-clipart', 'image_thumbnail_url': 'https://encrypted-tbn0.gstatic.com/images?q=tbn:ANd9GcRkfpswD2z4FLQRC5oxqTgMUL7Axz52x39g0_9mVbFJqrJGrga6'}\n",
      "IOError on an image...trying next one... Error: The read operation timed out\n",
      "\n",
      "Image Metadata: {'image_format': 'png', 'image_height': 600, 'image_width': 576, 'image_link': 'http://clipart-library.com/images/pTqKKdR6c.png', 'image_description': 'Free Drawings Of The Sun, Download Free Clip Art, Free Clip Art on ...', 'image_host': 'clipart-library.com', 'image_source': 'http://clipart-library.com/drawings-of-the-sun.html', 'image_thumbnail_url': 'https://encrypted-tbn0.gstatic.com/images?q=tbn:ANd9GcSBelKV-Ws9QIL6OCkcS9RArPq8GWnmCycjCFFkfgjVeEtJPl2O'}\n",
      "Completed Image ====> 80. ptqkkdr6c.png\n",
      "\n",
      "Image Metadata: {'image_format': 'png', 'image_height': 165, 'image_width': 220, 'image_link': 'http://getdrawings.com/cliparts/happy-sun-clipart-36.png', 'image_description': 'Happy Sun Clipart at GetDrawings.com | Free for personal use Happy ...', 'image_host': 'getdrawings.com', 'image_source': 'http://getdrawings.com/happy-sun-clipart', 'image_thumbnail_url': 'https://encrypted-tbn0.gstatic.com/images?q=tbn:ANd9GcRlR_kzi_XC0_GVFJHT9Yg2dDj24vVcA1L-apgh_8hT-xqe2Izg'}\n",
      "Completed Image ====> 81. happy-sun-clipart-36.png\n",
      "\n",
      "Image Metadata: {'image_format': 'png', 'image_height': 592, 'image_width': 408, 'image_link': 'https://clipground.com/images/half-sun-clipart-outline-19.png', 'image_description': 'half sun clipart outline - Clipground', 'image_host': 'clipground.com', 'image_source': 'https://clipground.com/half-sun-clipart-outline.html', 'image_thumbnail_url': 'https://encrypted-tbn0.gstatic.com/images?q=tbn:ANd9GcTnnGfRQBFq7HCB9vpZ9BvGM3HtcK63mUdtZAqppVg0G83QyplV'}\n",
      "Completed Image ====> 82. half-sun-clipart-outline-19.png\n",
      "\n",
      "Image Metadata: {'image_format': 'png', 'image_height': 252, 'image_width': 252, 'image_link': 'https://memegene.net/sites/default/files/wallpaper/sun-clipart-clipart/125071/sun-clipart-clipart-florida-125071-7443859.png', 'image_description': '29 Sun Clipart Clipart florida Free Clip Art stock illustrations ...', 'image_host': 'memegene.net', 'image_source': 'https://memegene.net/sun-clipart-clipart/sun-clipart-clipart-florida', 'image_thumbnail_url': 'https://encrypted-tbn0.gstatic.com/images?q=tbn:ANd9GcS2fOWecoKRdm0Rf9LB_R6oAlqzCl5uZp22ipIE_4B37XqOTC-b'}\n",
      "Completed Image ====> 83. sun-clipart-clipart-florida-125071-7443859.png\n",
      "\n",
      "Image Metadata: {'image_format': 'png', 'image_height': 370, 'image_width': 350, 'image_link': 'http://www.clipartquery.com/images/3/art-sun-clipart-best-9ozieQ.png', 'image_description': 'Cute Sun Clipart Black And White - Free Clipart', 'image_host': 'clipartquery.com', 'image_source': 'http://www.clipartquery.com/cute-sun-clipart-black-and-white/', 'image_thumbnail_url': 'https://encrypted-tbn0.gstatic.com/images?q=tbn:ANd9GcTjOD5nLMzCUe8p0RARQyua41cgBnrwBnVzEeWFAQhQkdwNFpGX'}\n",
      "Completed Image ====> 84. art-sun-clipart-best-9ozieq.png\n",
      "\n",
      "Image Metadata: {'image_format': 'png', 'image_height': 243, 'image_width': 300, 'image_link': 'https://img.clipartimage.com/cartoon-flower-in-the-sun-clip-art-at-clker-plant-and-sun-clipart-300_243.png', 'image_description': 'Plant And Sun Clipart & Clip Art Images #2992 - clipartimage.com', 'image_host': 'clipartimage.com', 'image_source': 'https://clipartimage.com/clipart/2992-plant-and-sun-clipart.html', 'image_thumbnail_url': 'https://encrypted-tbn0.gstatic.com/images?q=tbn:ANd9GcSsB59U20gYfFjbgNgpgllni2GuCp2r0PiRNIIVYFgLKjinlKI-Jg'}\n",
      "Completed Image ====> 85. cartoon-flower-in-the-sun-clip-art-at-clker-plant-and-sun-clipart-300_243.png\n",
      "\n",
      "Image Metadata: {'image_format': 'png', 'image_height': 1056, 'image_width': 754, 'image_link': 'http://clipartmag.com/images/sun-clipart-png-8.png', 'image_description': 'Sun Clipart Png | Free download best Sun Clipart Png on ClipArtMag.com', 'image_host': 'clipartmag.com', 'image_source': 'http://clipartmag.com/sun-clipart-png', 'image_thumbnail_url': 'https://encrypted-tbn0.gstatic.com/images?q=tbn:ANd9GcQ7qanHohnh93cw8227LG0GX-1VJwpM3YwcGz2PEFcdYpkEwr5dhQ'}\n",
      "Completed Image ====> 86. sun-clipart-png\n",
      "\n",
      "Image Metadata: {'image_format': 'png', 'image_height': 2479, 'image_width': 2349, 'image_link': 'https://sitejerk.com/images/sun-clip-art-transparent-8.png', 'image_description': 'Sun - clipart with a transparent background', 'image_host': 'sitejerk.com', 'image_source': 'https://sitejerk.com/explore/sun-clipart-png.html', 'image_thumbnail_url': 'https://encrypted-tbn0.gstatic.com/images?q=tbn:ANd9GcRJYIglc8KkYI9ihnqSnFuAsyTGpsnJn_K1RYTA7mmgFD1_n3PM_w'}\n",
      "Completed Image ====> 87. sun-clip-art-transparent-8.png\n",
      "\n",
      "Image Metadata: {'image_format': 'png', 'image_height': 349, 'image_width': 350, 'image_link': 'http://diysolarpanelsv.com/images/mr-sun-clipart-25.png', 'image_description': 'Mr sun clipart collection', 'image_host': 'diysolarpanelsv.com', 'image_source': 'http://diysolarpanelsv.com/mr-sun-clipart.html', 'image_thumbnail_url': 'https://encrypted-tbn0.gstatic.com/images?q=tbn:ANd9GcTGioyJA7cPDbFWk9W14gg7736gYFtscXgFOJtU9GaZWCHLPCO57A'}\n",
      "Completed Image ====> 88. mr-sun-clipart-25.png\n",
      "\n",
      "Image Metadata: {'image_format': 'png', 'image_height': 253, 'image_width': 250, 'image_link': 'http://www.clipartroo.com/images/0/sun-clipart-958.png', 'image_description': 'sun clipart 958 - Png Sun With Transparent Bg - Free Clipart', 'image_host': 'clipartroo.com', 'image_source': 'http://www.clipartroo.com/download-clipart-958.html', 'image_thumbnail_url': 'https://encrypted-tbn0.gstatic.com/images?q=tbn:ANd9GcSB63MT6TYdq0WOxcObTquns5s9jfZ6iQJEVO8cax9RSEO0QTql'}\n",
      "Completed Image ====> 89. sun-clipart-958.png\n",
      "\n",
      "Image Metadata: {'image_format': 'png', 'image_height': 640, 'image_width': 640, 'image_link': 'https://abeon-hosting.com/images/black-and-white-sun-clipart-1.png', 'image_description': 'Silhouette sun clipart - AbeonCliparts | Cliparts & Vectors', 'image_host': 'abeon-hosting.com', 'image_source': 'https://abeon-hosting.com/silhouette-sun-clipart.html', 'image_thumbnail_url': 'https://encrypted-tbn0.gstatic.com/images?q=tbn:ANd9GcRQBy2QR3He_hhogogHH2zkUTArx_tJcSl9ZgQ4Q9Hf2KSmhCAI'}\n",
      "Completed Image ====> 90. black-and-white-sun-clipart-1.png\n",
      "\n",
      "Image Metadata: {'image_format': 'png', 'image_height': 596, 'image_width': 594, 'image_link': 'http://images.clipartpanda.com/cute-sun-clipart-Smiling_Cartoon_Sun_clip_art_hight.png', 'image_description': 'Cute Sun Clipart | Clipart Panda - Free Clipart Images', 'image_host': 'clipartpanda.com', 'image_source': 'http://www.clipartpanda.com/categories/cute-sun-clipart', 'image_thumbnail_url': 'https://encrypted-tbn0.gstatic.com/images?q=tbn:ANd9GcSdRsAHx5vdQXSB52JCGedECqyG3czViOmEUWYliST3DINlDlNY'}\n",
      "Completed Image ====> 91. cute-sun-clipart-smiling_cartoon_sun_clip_art_hight.png\n",
      "\n",
      "Image Metadata: {'image_format': 'png', 'image_height': 480, 'image_width': 640, 'image_link': 'https://requestreduce.org/images/half-sun-clipart-7.png', 'image_description': 'Half sun banner black and white download - RR collections', 'image_host': 'requestreduce.org', 'image_source': 'https://requestreduce.org/categories/half-sun-clipart.html', 'image_thumbnail_url': 'https://encrypted-tbn0.gstatic.com/images?q=tbn:ANd9GcTpzDMB3xHEoGYXoOv3aMz9M4_r3SH8YmCY-dGz7LQHyPQxOzFRxg'}\n",
      "Completed Image ====> 92. half-sun-clipart-7.png\n",
      "\n",
      "Image Metadata: {'image_format': 'png', 'image_height': 288, 'image_width': 298, 'image_link': 'https://clipartix.com/wp-content/uploads/2017/06/Half-sun-clipart-free-images.png', 'image_description': 'Half sun clipart free images - Clipartix', 'image_host': 'clipartix.com', 'image_source': 'https://clipartix.com/sun-clip-art-image-48227/', 'image_thumbnail_url': 'https://encrypted-tbn0.gstatic.com/images?q=tbn:ANd9GcTyYVnE0aNEAa2Wsj2aYtktRG-ilv-m64clCj5bWFoLxEL_LZBQ'}\n",
      "Completed Image ====> 93. half-sun-clipart-free-images.png\n",
      "\n",
      "Image Metadata: {'image_format': 'png', 'image_height': 733, 'image_width': 800, 'image_link': 'http://clipart-library.com/images/pc5dX6Rc9.png', 'image_description': 'Free Pictures Of Sun, Download Free Clip Art, Free Clip Art on ...', 'image_host': 'clipart-library.com', 'image_source': 'http://clipart-library.com/pictures-of-sun.html', 'image_thumbnail_url': 'https://encrypted-tbn0.gstatic.com/images?q=tbn:ANd9GcQIuCAuvYMgDr0LH1FhKWyuxlE8NxZxS6fSrFt2GQFCIHOtnHED'}\n",
      "Completed Image ====> 94. pc5dx6rc9.png\n",
      "\n",
      "Image Metadata: {'image_format': 'png', 'image_height': 6247, 'image_width': 6296, 'image_link': 'https://dumielauxepices.net/sites/default/files/sun-clipart-clipart-tangled-784395-4183903.png', 'image_description': 'Sun Clipart Clipart tangled - Free Clipart on Dumielauxepices.net', 'image_host': 'dumielauxepices.net', 'image_source': 'https://dumielauxepices.net/sun-clipart-clipart/sun-clipart-clipart-tangled', 'image_thumbnail_url': 'https://encrypted-tbn0.gstatic.com/images?q=tbn:ANd9GcSCWYbl27Xg9r5iz5O-hXj0L85tBxljbE8FrG97-qhnUZbC35oU'}\n",
      "Completed Image ====> 95. sun-clipart-clipart-tangled-784395-4183903.png\n",
      "\n",
      "Image Metadata: {'image_format': 'png', 'image_height': 294, 'image_width': 299, 'image_link': 'http://www.clker.com/cliparts/b/h/T/V/S/N/sun-outline-md.png', 'image_description': 'Sun Outline Clip Art at Clker.com - vector clip art online, royalty ...', 'image_host': 'clker.com', 'image_source': 'http://www.clker.com/clipart-sun-outline.html', 'image_thumbnail_url': 'https://encrypted-tbn0.gstatic.com/images?q=tbn:ANd9GcRMa-AJKrxSp-46UBunAg7GP_SWSsXtnGMBGfrnWNBIXPsUa3RB'}\n",
      "Completed Image ====> 96. sun-outline-md.png\n",
      "\n",
      "Image Metadata: {'image_format': 'png', 'image_height': 568, 'image_width': 600, 'image_link': 'https://clipartion.com/wp-content/uploads/2015/12/smiling-sun-clipart-black-and-white-free-clipart.png', 'image_description': 'Smiling Sun Images - Clipartion.com', 'image_host': 'clipartion.com', 'image_source': 'https://clipartion.com/free-clipart-smiling-sun-images/', 'image_thumbnail_url': 'https://encrypted-tbn0.gstatic.com/images?q=tbn:ANd9GcR1uNTkVS4D98YrftRTyx7GLJcMxbfjoGAVxNKQQzIn-jQzsj8d'}\n",
      "Completed Image ====> 97. smiling-sun-clipart-black-and-white-free-clipart.png\n",
      "\n",
      "\n",
      "Unfortunately all 100 could not be downloaded because some images were not downloadable. 97 is all we got for this search filter!\n",
      "\n",
      "Errors: 3\n",
      "\n"
     ]
    }
   ],
   "source": [
    "img_args = {\"keywords\": dataTerm,\n",
    "             \"format\": \"png\",\n",
    "              \"limit\": 100,\n",
    "             \"output_directory\": 'data',\n",
    "            \"metadata\": True,\n",
    "            \"image_directory\": \"{}/images/\".format(predictTerm),\n",
    "            \"no_download\": False,\n",
    "            \"extract_metadata\":True,\n",
    "            \"type\": \"clipart\"\n",
    "           }\n",
    "img_paths, response = dataloader.download_images(dataTerm, img_args)"
   ]
  },
  {
   "cell_type": "code",
   "execution_count": 8,
   "metadata": {},
   "outputs": [
    {
     "name": "stdout",
     "output_type": "stream",
     "text": [
      "\n",
      "Item no.: 1 --> Item name = sun\n",
      "Evaluating...\n",
      "Starting Download...\n",
      "\n",
      "Image Metadata: {'image_format': 'png', 'image_height': 345, 'image_width': 365, 'image_link': 'https://solarsystem.nasa.gov/system/basic_html_elements/11561_Sun.png', 'image_description': 'Overview | Sun – Solar System Exploration: NASA Science', 'image_host': 'solarsystem.nasa.gov', 'image_source': 'https://solarsystem.nasa.gov/solar-system/sun/overview/', 'image_thumbnail_url': 'https://encrypted-tbn0.gstatic.com/images?q=tbn:ANd9GcQIfOTyp0dLP0GwmyB7i4NdsZMl0uQYvxk8wVY43iGMsAUKXVG4'}\n",
      "Completed Image ====> 1. 11561_sun.png\n",
      "\n",
      "Image Metadata: {'image_format': 'png', 'image_height': 336, 'image_width': 500, 'image_link': 'https://spaceplace.nasa.gov/review/sunburn/sunburn1.en.png', 'image_description': 'Why does the sun burn us? | NASA Space Place – NASA Science for Kids', 'image_host': 'spaceplace.nasa.gov', 'image_source': 'https://spaceplace.nasa.gov/sunburn/', 'image_thumbnail_url': 'https://encrypted-tbn0.gstatic.com/images?q=tbn:ANd9GcRzpcRCY8AOZ8mxh-BAoSb9IQHG9MIanRVfKj7LwQLKAunuYbja6g'}\n",
      "Completed Image ====> 2. sunburn1.en.png\n",
      "\n",
      "Image Metadata: {'image_format': 'png', 'image_height': 2400, 'image_width': 2400, 'image_link': 'https://tltrust.org/freebrough-academy/wp-content/uploads/sites/2/2018/05/cartoon-sun-vector-art.png', 'image_description': 'Sun Awareness Week: Discover how the sun can damage your skin ...', 'image_host': 'tltrust.org', 'image_source': 'https://tltrust.org/thornaby-academy/sun-awareness-week-discover-how-the-sun-can-damage-your-skin', 'image_thumbnail_url': 'https://encrypted-tbn0.gstatic.com/images?q=tbn:ANd9GcRpF0-G-Tfb7mpJ3Ouj69t-HnO7w4Jc0UOjIX2vj4xLB1MqAH6Spg'}\n",
      "Completed Image ====> 3. cartoon-sun-vector-art.png\n",
      "\n",
      "Image Metadata: {'image_format': 'png', 'image_height': 1080, 'image_width': 1080, 'image_link': 'https://qvcc.edu/wp-content/uploads/2017/03/Sun-PNG-Image.png', 'image_description': 'Sun-PNG-Image | QVCC', 'image_host': 'qvcc.edu', 'image_source': 'https://qvcc.edu/programs/academics/sun-png-image/', 'image_thumbnail_url': 'https://encrypted-tbn0.gstatic.com/images?q=tbn:ANd9GcRghf6ofLIynTgLhSxPiGz26lnWJtoBEUBXF21BnxNlTonLvkf3kQ'}\n",
      "Completed Image ====> 4. sun-png\n",
      "\n",
      "Image Metadata: {'image_format': 'png', 'image_height': 2358, 'image_width': 2361, 'image_link': 'https://www.bedfordny.gov/wp-content/uploads/2018/07/sunshine-sun-clip-art-with-transparent-background-free-free-clipart-sun-2361_2358-2.png', 'image_description': 'sunshine-sun-clip-art-with-transparent-background-free-free-clipart ...', 'image_host': 'bedfordny.gov', 'image_source': 'https://www.bedfordny.gov/community-events-calendar-6-30-7-7-2018/sunshine-sun-clip-art-with-transparent-background-free-free-clipart-sun-2361_2358-3/', 'image_thumbnail_url': 'https://encrypted-tbn0.gstatic.com/images?q=tbn:ANd9GcTO8VPsoy8d-O_GGnT_HsgEJrWr8OFlrpDUM9Z1SZKpwm0AX7zx'}\n",
      "URLError on an image...trying next one... Error: <urlopen error [SSL: CERTIFICATE_VERIFY_FAILED] certificate verify failed (_ssl.c:852)>\n",
      "\n",
      "Image Metadata: {'image_format': 'png', 'image_height': 290, 'image_width': 620, 'image_link': 'http://cdn.24.co.za/files/Cms/General/d/6724/edbc74ded5bb474a9b7c58e727f7ec07.png', 'image_description': 'Teletubbies turn 20 this year – and this is what the sun baby looks ...', 'image_host': 'channel24.co.za', 'image_source': 'https://www.channel24.co.za/TV/News/teletubbies-turn-20-this-year-and-this-what-the-sun-baby-looks-like-now-20171114', 'image_thumbnail_url': 'https://encrypted-tbn0.gstatic.com/images?q=tbn:ANd9GcSby_l8gLEh8IEN4ZsOmx5-xn6TDstM0Wx-3mvl9LxhEPkAyErXMg'}\n",
      "Completed Image ====> 5. edbc74ded5bb474a9b7c58e727f7ec07.png\n",
      "\n",
      "Image Metadata: {'image_format': 'png', 'image_height': 256, 'image_width': 256, 'image_link': 'http://am1380.ca/wp-content/uploads/sun-9.png', 'image_description': \"Here's comes the sun, warm temperatures - AM1380\", 'image_host': 'am1380.ca', 'image_source': 'http://am1380.ca/heres-comes-sun-warm-temperatures/', 'image_thumbnail_url': 'https://encrypted-tbn0.gstatic.com/images?q=tbn:ANd9GcRS0LDi90ltbPBqDqJvXlecWT487PF9gUDTxMMII4phB47DMoSXNw'}\n",
      "Completed Image ====> 6. sun-9.png\n",
      "\n",
      "Image Metadata: {'image_format': 'png', 'image_height': 1000, 'image_width': 1500, 'image_link': 'https://3c1703fe8d.site.internapcdn.net/newman/gfx/news/hires/2017/imagesofthes.png', 'image_description': 'Images of the sun from the GOES-16 satellite', 'image_host': 'phys.org', 'image_source': 'https://phys.org/news/2017-02-images-sun-goes-satellite.html', 'image_thumbnail_url': 'https://encrypted-tbn0.gstatic.com/images?q=tbn:ANd9GcQAh5DRCsD9cd3NL_HNjfA3UkOj2tylswcYM8j8nAE7hJdML4Xd3w'}\n",
      "Completed Image ====> 7. imagesofthes.png\n",
      "\n",
      "Image Metadata: {'image_format': 'png', 'image_height': 438, 'image_width': 583, 'image_link': 'https://cdn.brainpop.com/science/space/sun/screenshot2.png', 'image_description': 'Sun - BrainPOP', 'image_host': 'brainpop.com', 'image_source': 'https://www.brainpop.com/science/space/sun/', 'image_thumbnail_url': 'https://encrypted-tbn0.gstatic.com/images?q=tbn:ANd9GcRTR6uAmbVLFNXTY3x-TxysHyNucmCSgHMjiSbxCLseZLsLyHIS0g'}\n",
      "Completed Image ====> 8. screenshot2.png\n",
      "\n",
      "Image Metadata: {'image_format': 'png', 'image_height': 6226, 'image_width': 6165, 'image_link': 'https://gallery.yopriceville.com/var/albums/Free-Clipart-Pictures/Sun-and-Moon-PNG/Sun_Transparent_PNG_Clip_Art_Image.png?m=1447386901', 'image_description': 'Sun Transparent PNG Clip Art Image | Gallery Yopriceville - High ...', 'image_host': 'gallery.yopriceville.com', 'image_source': 'https://gallery.yopriceville.com/Free-Clipart-Pictures/Sun-and-Moon-PNG/Sun_Transparent_PNG_Clip_Art_Image', 'image_thumbnail_url': 'https://encrypted-tbn0.gstatic.com/images?q=tbn:ANd9GcROetnGCQug53SOx8c72Ck3Z3FepryI0ed77hvsAWzQX2956f9A'}\n",
      "Completed Image ====> 9. sun_transparent_png\n",
      "\n",
      "Image Metadata: {'image_format': 'png', 'image_height': 400, 'image_width': 438, 'image_link': 'https://www.childrensmuseum.org/legacy-games/cosmicquest/assets/sun2.png', 'image_description': 'Cosmic Quest - TCM: Sun', 'image_host': 'childrensmuseum.org', 'image_source': 'https://www.childrensmuseum.org/legacy-games/cosmicquest/sun.html', 'image_thumbnail_url': 'https://encrypted-tbn0.gstatic.com/images?q=tbn:ANd9GcRV8tWM8T8vSVOHF9_Tc9fjaAnfCbGEyFDErCrhU8_CQElAe7rf'}\n",
      "Completed Image ====> 10. sun2.png\n",
      "\n",
      "Image Metadata: {'image_format': 'jpg', 'image_height': 560, 'image_width': 560, 'image_link': 'http://worldartsme.com/images/sun-clipart-1.jpg', 'image_description': 'Sun Clipart', 'image_host': 'worldartsme.com', 'image_source': 'http://worldartsme.com/sun-clipart.html', 'image_thumbnail_url': 'https://encrypted-tbn0.gstatic.com/images?q=tbn:ANd9GcTMtRQJEWCRRQmxiSyvLbydNLh5xMi_2YhFfG7Vyw944vrlls6T'}\n",
      "Completed Image ====> 11. sun-clipart-1.jpg\n",
      "\n",
      "Image Metadata: {'image_format': '', 'image_height': 660, 'image_width': 660, 'image_link': 'https://vignette.wikia.nocookie.net/thesolarsystem6361/images/5/59/Sun_spacepedia.png/revision/latest?cb=20180301152819', 'image_description': 'Sun | The Solar System Wiki | FANDOM powered by Wikia', 'image_host': 'thesolarsystem.fandom.com', 'image_source': 'https://thesolarsystem.fandom.com/wiki/Sun', 'image_thumbnail_url': 'https://encrypted-tbn0.gstatic.com/images?q=tbn:ANd9GcRlV5nu79OsHOyomKDz2ZcZMcFe7zGvX06X-Bxsewx3kZCN5i_JqQ'}\n",
      "Completed Image ====> 12. latest?cb=20180301152819.jpg\n",
      "\n",
      "Image Metadata: {'image_format': 'png', 'image_height': 765, 'image_width': 765, 'image_link': 'https://i.imgur.com/Xz5jq65.png', 'image_description': 'The sun will come out tomorrow (or eventually) - Imgur', 'image_host': 'imgur.com', 'image_source': 'https://imgur.com/gallery/Xz5jq65', 'image_thumbnail_url': 'https://encrypted-tbn0.gstatic.com/images?q=tbn:ANd9GcRGLqlNtIjF9bWRcUdwCq0mcK-_guE5fEb2PJl3GFI-H8gW5fetxA'}\n",
      "Completed Image ====> 13. xz5jq65.png\n",
      "\n",
      "Image Metadata: {'image_format': 'png', 'image_height': 1024, 'image_width': 1024, 'image_link': 'https://upload.wikimedia.org/wikipedia/commons/thumb/b/b1/Sun.svg/1024px-Sun.svg.png', 'image_description': 'File:Sun.svg - Wikimedia Commons', 'image_host': 'commons.wikimedia.org', 'image_source': 'https://commons.wikimedia.org/wiki/File:Sun.svg', 'image_thumbnail_url': 'https://encrypted-tbn0.gstatic.com/images?q=tbn:ANd9GcTvktXq8NpO_wlqSRpC7FWIeg87pTP1KAs9cwStl9XQoCGYjfaM5g'}\n",
      "Completed Image ====> 14. 1024px-sun.svg.png\n",
      "\n",
      "Image Metadata: {'image_format': 'png', 'image_height': 558, 'image_width': 558, 'image_link': 'https://s3.amazonaws.com/peoplepng/wp-content/uploads/2018/02/28125738/Sun-PNG-Pic.png', 'image_description': 'Sun PNG Pic Vector, Clipart, PSD - peoplepng.com', 'image_host': 'peoplepng.com', 'image_source': 'https://peoplepng.com/sun-png-pic/14953/free-vector', 'image_thumbnail_url': 'https://encrypted-tbn0.gstatic.com/images?q=tbn:ANd9GcTe7Nzm28o7ferP_1_uWbdSnHp395KJ5P-y75Jd41kyX2wVb5ORhg'}\n",
      "Completed Image ====> 15. sun-png\n",
      "\n",
      "Image Metadata: {'image_format': 'png', 'image_height': 540, 'image_width': 960, 'image_link': 'https://1v1d1e1lmiki1lgcvx32p49h8fe-wpengine.netdna-ssl.com/wp-content/uploads/2018/09/1538209609-sun-960x540.png', 'image_description': 'Cheap sun barrier could cut global warming', 'image_host': 'thenewdaily.com.au', 'image_source': 'https://thenewdaily.com.au/life/science/2018/11/23/sun-barrier-global-warming/', 'image_thumbnail_url': 'https://encrypted-tbn0.gstatic.com/images?q=tbn:ANd9GcRghR2_RRcViJY1mZIr2tRGdWnrLQCofjG87YbHBfNEC-SEajOf'}\n",
      "Completed Image ====> 16. 1538209609-sun-960x540.png\n",
      "\n",
      "Image Metadata: {'image_format': 'png', 'image_height': 463, 'image_width': 717, 'image_link': 'https://media.altpress.com/uploads/2018/06/teletubbiesun.png', 'image_description': \"Here's what the 'Teletubbies' sun baby looks like now - Alternative ...\", 'image_host': 'altpress.com', 'image_source': 'https://www.altpress.com/news/heres_what_the_teletubbies_sun_baby_looks_like_now/', 'image_thumbnail_url': 'https://encrypted-tbn0.gstatic.com/images?q=tbn:ANd9GcRV8s6SJO8N5S-EIjuAhhyRfyj8TfvzMq5An8s1W9_kzrSOsDjj'}\n",
      "Completed Image ====> 17. teletubbiesun.png\n",
      "\n",
      "Image Metadata: {'image_format': 'png', 'image_height': 1440, 'image_width': 1440, 'image_link': 'https://purepng.com/public/uploads/large/purepng.com-sunsunlightrayssolar-1411527181027w7la6.png', 'image_description': 'Sun PNG Image - PurePNG | Free transparent CC0 PNG Image Library', 'image_host': 'purepng.com', 'image_source': 'https://purepng.com/photo/13995/sun', 'image_thumbnail_url': 'https://encrypted-tbn0.gstatic.com/images?q=tbn:ANd9GcQ0nSGqvnOamA0pUfH87csP6S1I5sor7UNcad5wYf16GV_-HETLiA'}\n",
      "Completed Image ====> 18. purepng\n",
      "\n",
      "Image Metadata: {'image_format': 'png', 'image_height': 2004, 'image_width': 1959, 'image_link': 'https://requestreduce.org/images/16-pointed-sun-clipart-3.png', 'image_description': '1930s sun image free stock - RR collections', 'image_host': 'requestreduce.org', 'image_source': 'https://requestreduce.org/categories/1930s-sun-clipart.html', 'image_thumbnail_url': 'https://encrypted-tbn0.gstatic.com/images?q=tbn:ANd9GcRuo7xNP6vGP01fsbDiHONOoE7N4O3MANIdg7CybzQz2Mv5bTpvlQ'}\n",
      "Completed Image ====> 19. 16-pointed-sun-clipart-3.png\n",
      "\n",
      "Image Metadata: {'image_format': 'png', 'image_height': 2000, 'image_width': 4000, 'image_link': 'https://upload.wikimedia.org/wikipedia/commons/thumb/d/d4/Sun_poster.svg/4000px-Sun_poster.svg.png', 'image_description': 'File:Sun poster.svg - Wikipedia', 'image_host': 'en.wikipedia.org', 'image_source': 'https://en.wikipedia.org/wiki/File:Sun_poster.svg', 'image_thumbnail_url': 'https://encrypted-tbn0.gstatic.com/images?q=tbn:ANd9GcRbNte1GnLMU7PFsU_WdNBEwldHk-HgnPjkBuSOQbKYbJa8SnY3'}\n",
      "Completed Image ====> 20. 4000px-sun_poster.svg.png\n",
      "\n",
      "Image Metadata: {'image_format': 'png', 'image_height': 796, 'image_width': 800, 'image_link': 'http://clipart-library.com/images/dc9pXd4di.png', 'image_description': 'Free Sun, Download Free Clip Art, Free Clip Art on Clipart Library', 'image_host': 'clipart-library.com', 'image_source': 'http://clipart-library.com/sun.html', 'image_thumbnail_url': 'https://encrypted-tbn0.gstatic.com/images?q=tbn:ANd9GcSeTb0A_tfp-ZzsMTxepnMTj53MemoSlqn10o6d6d7i3KwWlqrE'}\n",
      "Completed Image ====> 21. dc9pxd4di.png\n",
      "\n",
      "Image Metadata: {'image_format': 'png', 'image_height': 200, 'image_width': 200, 'image_link': 'https://asset.lasvegassun.com/media/assets/images/icons/sun-app-large.png', 'image_description': 'Las Vegas Sun Newspaper - Southern Nevada News, Sports, Politics ...', 'image_host': 'lasvegassun.com', 'image_source': 'https://lasvegassun.com/', 'image_thumbnail_url': 'https://encrypted-tbn0.gstatic.com/images?q=tbn:ANd9GcRGqKjhBEDzHibPZj_PHU3htzbjg07zateW7pCDIZjzc3mi34vY'}\n",
      "Completed Image ====> 22. sun-app-large.png\n",
      "\n",
      "Image Metadata: {'image_format': 'png', 'image_height': 512, 'image_width': 512, 'image_link': 'https://www.catholicsun.org/wp-content/uploads/2017/11/cropped-SUN-2017-SITE-ICON.png', 'image_description': 'CONTACT US | The Catholic Sun', 'image_host': 'catholicsun.org', 'image_source': 'https://www.catholicsun.org/contact/', 'image_thumbnail_url': 'https://encrypted-tbn0.gstatic.com/images?q=tbn:ANd9GcS7aMyQxBT2f-NpsfG88P__z5FMAm7qW-oD0aSTCk5xwOBayAOYsA'}\n",
      "Completed Image ====> 23. cropped-sun-2017-site-icon.png\n",
      "\n",
      "Image Metadata: {'image_format': 'png', 'image_height': 733, 'image_width': 800, 'image_link': 'https://physics.aps.org/assets/cb9331a5-a5d5-4aca-a680-036c23d1c53a/e13_1.png', 'image_description': 'Physics - Focus: Photons Brake the Sun', 'image_host': 'physics.aps.org', 'image_source': 'https://physics.aps.org/articles/v10/13', 'image_thumbnail_url': 'https://encrypted-tbn0.gstatic.com/images?q=tbn:ANd9GcRiKC7mj6QUZ7VUV1EITq6gveEkLX_u93ATJ-rhdGkvvEpreroq'}\n",
      "Completed Image ====> 24. e13_1.png\n",
      "\n",
      "Image Metadata: {'image_format': 'png', 'image_height': 1516, 'image_width': 1982, 'image_link': 'https://timedotcom.files.wordpress.com/2015/11/sun.png', 'image_description': 'NASA Releases New Video of the Sun | Time', 'image_host': 'time.com', 'image_source': 'http://time.com/4100297/surface-sun-actually-looks/', 'image_thumbnail_url': 'https://encrypted-tbn0.gstatic.com/images?q=tbn:ANd9GcQE5U256L9zlKZ3f1X7LFsgDBMvMkJZ4j5jMvBCl9pi1xY7t14L'}\n",
      "Completed Image ====> 25. sun.png\n",
      "\n",
      "Image Metadata: {'image_format': 'png', 'image_height': 1080, 'image_width': 1920, 'image_link': 'https://d2v9y0dukr6mq2.cloudfront.net/video/thumbnail/Pz0oHht/hd-sun-surface-with-solar-flares-3d-animation_vnumz8ydx__F0000.png', 'image_description': 'HD - Sun surface with solar flares. 3D animation Motion Background ...', 'image_host': 'videoblocks.com', 'image_source': 'https://www.videoblocks.com/video/hd---sun-surface-with-solar-flares-3d-animation-v277zljpe', 'image_thumbnail_url': 'https://encrypted-tbn0.gstatic.com/images?q=tbn:ANd9GcTVUvmpykhBrbhpUkRjd53Q1q5WD1HN0vOC6CBaZ3eSXQSVBjg2'}\n",
      "Completed Image ====> 26. hd-sun-surface-with-solar-flares-3d-animation_vnumz8ydx__f0000.png\n",
      "\n",
      "Image Metadata: {'image_format': 'png', 'image_height': 512, 'image_width': 512, 'image_link': 'https://www.emoji.co.uk/files/google-emojis/animals-nature-android/7513-sun-with-face.png', 'image_description': 'Sun With Face Emoji for Facebook, Email & SMS | ID#: 7513 | Emoji.co.uk', 'image_host': 'emoji.co.uk', 'image_source': 'https://www.emoji.co.uk/view/7513/', 'image_thumbnail_url': 'https://encrypted-tbn0.gstatic.com/images?q=tbn:ANd9GcQuCZO0LKTTVg4PL9l7ujhQyGMK1UEZz9-CNTDbvSpDm4OBP8Lx'}\n",
      "Completed Image ====> 27. 7513-sun-with-face.png\n",
      "\n",
      "Image Metadata: {'image_format': 'png', 'image_height': 600, 'image_width': 600, 'image_link': 'http://cdn.shopify.com/s/files/1/1061/1924/products/The_Sun_Emoji_grande.png?v=1480481044', 'image_description': 'Download The Sun Emoji | Emoji Island', 'image_host': 'emojiisland.com', 'image_source': 'https://emojiisland.com/products/the-sun-emoji-icon', 'image_thumbnail_url': 'https://encrypted-tbn0.gstatic.com/images?q=tbn:ANd9GcSmdD3fNWIuHTBKDvGARtMFwfUTT3taPq82thAKRFS8NCDhxktC'}\n",
      "Completed Image ====> 28. the_sun_emoji_grande.png\n",
      "\n",
      "Image Metadata: {'image_format': 'png', 'image_height': 600, 'image_width': 800, 'image_link': 'http://todaydiscovered.com/wp-content/uploads/2018/05/the-sun.png', 'image_description': '10 Amazing Facts About the Sun You Need to Know - Today Discovered', 'image_host': 'todaydiscovered.com', 'image_source': 'http://todaydiscovered.com/10-amazing-facts-about-the-sun-you-need-to-know/', 'image_thumbnail_url': 'https://encrypted-tbn0.gstatic.com/images?q=tbn:ANd9GcQB3XBJcoK-s2Mqe_L4JA4Ezr0pyJrIqe7T5Z83JI6Z6DGCrrn_'}\n",
      "Completed Image ====> 29. the-sun.png\n",
      "\n",
      "Image Metadata: {'image_format': 'png', 'image_height': 1200, 'image_width': 1200, 'image_link': 'http://local.lowellsun.com/common/dfm/assets/logos/1200x627/lowellsun.png', 'image_description': 'Arrest Log: 4/14/2019 - Lowell Sun Online', 'image_host': 'lowellsun.com', 'image_source': 'http://www.lowellsun.com/news/ci_32574424/arrest-log-4-14-2019', 'image_thumbnail_url': 'https://encrypted-tbn0.gstatic.com/images?q=tbn:ANd9GcQ7ZgxhpjWLGoNVzwSby_Bj55Le3Ukl5IRn92im0EoN4QJcF3nfQQ'}\n",
      "Completed Image ====> 30. lowellsun.png\n",
      "\n",
      "Image Metadata: {'image_format': 'png', 'image_height': 795, 'image_width': 832, 'image_link': 'https://s3.amazonaws.com/peoplepng/wp-content/uploads/2018/02/28125721/Sun-PNG-Photos.png', 'image_description': 'Sun PNG Photos Vector, Clipart, PSD - peoplepng.com', 'image_host': 'peoplepng.com', 'image_source': 'https://peoplepng.com/sun-png-photos/14954/free-vector', 'image_thumbnail_url': 'https://encrypted-tbn0.gstatic.com/images?q=tbn:ANd9GcQ-BFMa0E0Kwqrn8yv7qVjouoyZ9NGuAnv1C8yqsMsdL46kg3oM-A'}\n",
      "Completed Image ====> 31. sun-png\n",
      "\n",
      "Image Metadata: {'image_format': 'png', 'image_height': 597, 'image_width': 594, 'image_link': 'http://www.clker.com/cliparts/4/A/k/O/t/h/sun-hi.png', 'image_description': 'Sun Clip Art at Clker.com - vector clip art online, royalty free ...', 'image_host': 'clker.com', 'image_source': 'http://www.clker.com/clipart-sun-30.html', 'image_thumbnail_url': 'https://encrypted-tbn0.gstatic.com/images?q=tbn:ANd9GcT9_nBnfPOiq4VsL_G6bPvXZoFMl7ZchUp-dmupYkKZLB2yCh_WdQ'}\n",
      "Completed Image ====> 32. sun-hi.png\n",
      "\n",
      "Image Metadata: {'image_format': 'png', 'image_height': 220, 'image_width': 220, 'image_link': 'https://upload.wikimedia.org/wikipedia/commons/thumb/9/92/Sol_de_Mayo-Bandera_de_Uruguay.svg/220px-Sol_de_Mayo-Bandera_de_Uruguay.svg.png', 'image_description': 'Sun (heraldry) - Wikipedia', 'image_host': 'en.wikipedia.org', 'image_source': 'https://en.wikipedia.org/wiki/Sun_(heraldry)', 'image_thumbnail_url': 'https://encrypted-tbn0.gstatic.com/images?q=tbn:ANd9GcR-fD0QxpffAhkwwBRKe5OM0hZXeaVofuegi8PllqwzTZK3V_iMog'}\n",
      "Completed Image ====> 33. 220px-sol_de_mayo-bandera_de_uruguay.svg.png\n",
      "\n",
      "Image Metadata: {'image_format': 'png', 'image_height': 4321, 'image_width': 4139, 'image_link': 'https://purepng.com/public/uploads/large/purepng.com-sunsunlightrayssolar-1411527181474xb5rl.png', 'image_description': 'Sun PNG Image - PurePNG | Free transparent CC0 PNG Image Library', 'image_host': 'purepng.com', 'image_source': 'https://purepng.com/photo/14017/sun', 'image_thumbnail_url': 'https://encrypted-tbn0.gstatic.com/images?q=tbn:ANd9GcR434n1xQStKvwFDcudsSKmstKLqJj9UQE0JWfoHjLcW8qtwODJnw'}\n",
      "Completed Image ====> 34. purepng\n",
      "\n",
      "Image Metadata: {'image_format': 'png', 'image_height': 2230, 'image_width': 2249, 'image_link': 'http://www.stickpng.com/assets/images/580b585b2edbce24c47b2714.png', 'image_description': 'Bright Sun transparent PNG - StickPNG', 'image_host': 'stickpng.com', 'image_source': 'http://www.stickpng.com/img/nature/space/sun/bright-sun', 'image_thumbnail_url': 'https://encrypted-tbn0.gstatic.com/images?q=tbn:ANd9GcTOlDVDYO37De9yTV9gHgqsJdGyH4BaKkga2rsnjiwZkO79E9aRZA'}\n",
      "Completed Image ====> 35. 580b585b2edbce24c47b2714.png\n",
      "\n",
      "Image Metadata: {'image_format': 'png', 'image_height': 630, 'image_width': 1200, 'image_link': 'https://wp-assets.futurism.com/2019/03/new-artificial-sun-china-1200x630.png', 'image_description': 'China: New “Artificial Sun” Will Be Completed This Year', 'image_host': 'futurism.com', 'image_source': 'https://futurism.com/the-byte/new-artificial-sun-china', 'image_thumbnail_url': 'https://encrypted-tbn0.gstatic.com/images?q=tbn:ANd9GcSFQV9-mOj3dhUbp5c6e-s9BgSaIxl1Ux7EVDg-fjtecgg4vWEr'}\n",
      "Completed Image ====> 36. new-artificial-sun-china-1200x630.png\n",
      "\n",
      "Image Metadata: {'image_format': 'png', 'image_height': 256, 'image_width': 256, 'image_link': 'http://www.pngall.com/wp-content/uploads/2016/07/Sun-Download-PNG.png', 'image_description': 'Sun PNG Transparent Images | PNG All', 'image_host': 'pngall.com', 'image_source': 'http://www.pngall.com/sun-png', 'image_thumbnail_url': 'https://encrypted-tbn0.gstatic.com/images?q=tbn:ANd9GcQdzoedihImB-QQ6XMNco28DAFei8jmnnFE08-6qrtQXFM72NFIkg'}\n",
      "Completed Image ====> 37. sun-download-png\n",
      "\n",
      "Image Metadata: {'image_format': 'png', 'image_height': 564, 'image_width': 634, 'image_link': 'http://planetfacts.org/wp-content/uploads/2011/03/Sun.png', 'image_description': 'What Color is the Sun? Facts About Colours of the Sun from Earth/Space', 'image_host': 'planetfacts.org', 'image_source': 'http://planetfacts.org/what-color-is-the-sun/', 'image_thumbnail_url': 'https://encrypted-tbn0.gstatic.com/images?q=tbn:ANd9GcTGwFlHrZFHpG-vK7-FZXdLJqYEv1londRAUz3vCflZzFyCJWh7Zg'}\n",
      "Completed Image ====> 38. sun.png\n",
      "\n",
      "Image Metadata: {'image_format': 'png', 'image_height': 1080, 'image_width': 1920, 'image_link': 'http://tbcskinatelier.co.uk/wp-content/uploads/2018/03/drawn-sun-carton-5.png', 'image_description': 'drawn-sun-carton-5 - TBC. skin atelier', 'image_host': 'tbcskinatelier.co.uk', 'image_source': 'http://tbcskinatelier.co.uk/why-is-wearing-an-spf-so-important/drawn-sun-carton-5/', 'image_thumbnail_url': 'https://encrypted-tbn0.gstatic.com/images?q=tbn:ANd9GcSbvIDa5mmx5XVtsqAzsPm1tVUpOXmHkASt2OW_zW2oEsDim73Y-w'}\n",
      "Completed Image ====> 39. drawn-sun-carton-5.png\n",
      "\n",
      "Image Metadata: {'image_format': 'png', 'image_height': 1024, 'image_width': 1024, 'image_link': 'https://upload.wikimedia.org/wikipedia/commons/thumb/9/96/Flag_of_the_Philippines_-_cropped_sun.svg/1024px-Flag_of_the_Philippines_-_cropped_sun.svg.png', 'image_description': 'File:Flag of the Philippines - cropped sun.svg - Wikimedia Commons', 'image_host': 'commons.wikimedia.org', 'image_source': 'https://commons.wikimedia.org/wiki/File:Flag_of_the_Philippines_-_cropped_sun.svg', 'image_thumbnail_url': 'https://encrypted-tbn0.gstatic.com/images?q=tbn:ANd9GcRTNq4jpqHqYMqQjfrBnBev77VeFbb7pU6pOWGnKfgk2wh20wsIqQ'}\n",
      "Completed Image ====> 40. 1024px-flag_of_the_philippines_-_cropped_sun.svg.png\n",
      "\n",
      "Image Metadata: {'image_format': 'png', 'image_height': 630, 'image_width': 1200, 'image_link': 'https://i2-prod.birminghammail.co.uk/incoming/article13767397.ece/ALTERNATES/s1200/Why-is-the-sun-red.png', 'image_description': \"Why is the sun red today? 'Ophelia sun' sees Birmingham bathed in ...\", 'image_host': 'birminghammail.co.uk', 'image_source': 'https://www.birminghammail.co.uk/news/midlands-news/live-why-sun-red-today-13767276', 'image_thumbnail_url': 'https://encrypted-tbn0.gstatic.com/images?q=tbn:ANd9GcSI-RLka70kp_q66eVHbxYbGM3QIjsoiOCwHeU0pUaFCjsY72wPSw'}\n",
      "Completed Image ====> 41. why-is-the-sun-red.png\n",
      "\n",
      "Image Metadata: {'image_format': 'png', 'image_height': 480, 'image_width': 480, 'image_link': 'http://www.pngmart.com/files/3/Sun-Transparent-Background.png', 'image_description': 'Sun Transparent Background | PNG Mart', 'image_host': 'pngmart.com', 'image_source': 'http://www.pngmart.com/image/22989', 'image_thumbnail_url': 'https://encrypted-tbn0.gstatic.com/images?q=tbn:ANd9GcRFb2S8TYkQLtHMNpJrRla0pt1JA2Nyhth43FU4VsytBNjDvkF7'}\n",
      "Completed Image ====> 42. sun-transparent-background.png\n",
      "\n",
      "Image Metadata: {'image_format': 'png', 'image_height': 230, 'image_width': 410, 'image_link': 'https://cms.qz.com/wp-content/uploads/2015/11/nasa-sun-still-for-qz-player.png?w=410&h=231&strip=all&quality=75', 'image_description': \"NASA's Solar Dynamics Observatory and the incredible images it ...\", 'image_host': 'qz.com', 'image_source': 'https://qz.com/540481/video-now-nasa-can-see-what-the-surface-of-the-sun-actually-looks-like/', 'image_thumbnail_url': 'https://encrypted-tbn0.gstatic.com/images?q=tbn:ANd9GcTWNP1tv6snQx9je6ctUaA8nwEOVje7DWaTDuEOrcx-MtVEwpkqGg'}\n",
      "Completed Image ====> 43. nasa-sun-still-for-qz-player.png\n",
      "\n",
      "Image Metadata: {'image_format': '', 'image_height': 960, 'image_width': 960, 'image_link': 'https://lookaside.fbsbx.com/lookaside/crawler/media/?media_id=6170192156', 'image_description': 'Las Vegas Sun - Home | Facebook', 'image_host': 'facebook.com', 'image_source': 'https://www.facebook.com/lasvegassun/', 'image_thumbnail_url': 'https://encrypted-tbn0.gstatic.com/images?q=tbn:ANd9GcTxpu9bIVquj1nCqapC7LC4xzKrN-TxLVMiW8p_RfPsxZiGI3x7BA'}\n",
      "Completed Image ====> 44. ?media_id=6170192156.jpg\n",
      "\n",
      "Image Metadata: {'image_format': 'png', 'image_height': 2400, 'image_width': 2400, 'image_link': 'https://openclipart.org/image/2400px/svg_to_png/190258/Orange-Sun-Outlined-Wild-West-Vector-Pixel-Art.png', 'image_description': 'Clipart - Orange Sun Outlined', 'image_host': 'openclipart.org', 'image_source': 'https://openclipart.org/detail/190258/orange-sun-outlined', 'image_thumbnail_url': 'https://encrypted-tbn0.gstatic.com/images?q=tbn:ANd9GcSzMuf4khg6XL1prIRdIfrO5yDcnmlJ_vb-7sxZdhNRnKH1zNtF4A'}\n",
      "Completed Image ====> 45. orange-sun-outlined-wild-west-vector-pixel-art.png\n",
      "\n",
      "Image Metadata: {'image_format': 'png', 'image_height': 250, 'image_width': 250, 'image_link': 'https://upload.wikimedia.org/wikipedia/commons/thumb/7/76/Sun_diagram.svg/250px-Sun_diagram.svg.png', 'image_description': 'Photosphere - Wikipedia', 'image_host': 'en.wikipedia.org', 'image_source': 'https://en.wikipedia.org/wiki/Photosphere', 'image_thumbnail_url': 'https://encrypted-tbn0.gstatic.com/images?q=tbn:ANd9GcSqaZlwJT_92m_thnKVlNZCy-t2KF8pfNRRHxc2M8VVpZzghSjG0Q'}\n",
      "Completed Image ====> 46. 250px-sun_diagram.svg.png\n",
      "\n",
      "Image Metadata: {'image_format': 'png', 'image_height': 467, 'image_width': 700, 'image_link': 'https://www.abc.net.au/news/image/10559746-3x2-700x467.png', 'image_description': 'Space weather and the very real risks the Sun poses to Earth - ABC ...', 'image_host': 'abc.net.au', 'image_source': 'https://www.abc.net.au/news/2018-12-01/space-weather-and-very-real-risks-posed-by-suns-darker-side/10559668', 'image_thumbnail_url': 'https://encrypted-tbn0.gstatic.com/images?q=tbn:ANd9GcRmF1KZmxu0-KzqCutdgzsSEdTzvuma-mk3OQDy9skMLo4Q6k_w'}\n",
      "Completed Image ====> 47. 10559746-3x2-700x467.png\n",
      "\n",
      "Image Metadata: {'image_format': 'png', 'image_height': 429, 'image_width': 624, 'image_link': 'https://ichef.bbci.co.uk/news/624/cpsprodpb/11149/production/_102816996_datapic-parker_solar_probe-20vac-nc.png', 'image_description': \"Parker Solar Probe: Nasa's Sun mission smashes records - BBC News\", 'image_host': 'bbc.com', 'image_source': 'https://www.bbc.com/news/science-environment-46030852', 'image_thumbnail_url': 'https://encrypted-tbn0.gstatic.com/images?q=tbn:ANd9GcQXl_BWtgHen8954o-mLxg_x-ayQRqfRlgVjMLnJHwJmDsAHAK-'}\n",
      "Completed Image ====> 48. _102816996_datapic-parker_solar_probe-20vac-nc.png\n",
      "\n",
      "Image Metadata: {'image_format': 'png', 'image_height': 640, 'image_width': 640, 'image_link': 'https://amiquebec.org/wp-content/uploads/2015/07/sun-151763_640.png', 'image_description': 'sun-151763_640 - AMI-Quebec', 'image_host': 'amiquebec.org', 'image_source': 'https://amiquebec.org/hot-out-there/sun-151763_640/', 'image_thumbnail_url': 'https://encrypted-tbn0.gstatic.com/images?q=tbn:ANd9GcTaQ3aXAJTejoG65XP3ldxqY7BtWsF3NzMGhK488wT27hR9vmlEXQ'}\n",
      "Completed Image ====> 49. sun-151763_640.png\n",
      "\n",
      "Image Metadata: {'image_format': 'png', 'image_height': 708, 'image_width': 714, 'image_link': 'http://clipart-library.com/images/BigAok9AT.png', 'image_description': 'Free Graphic Sun, Download Free Clip Art, Free Clip Art on Clipart ...', 'image_host': 'clipart-library.com', 'image_source': 'http://clipart-library.com/graphic-sun.html', 'image_thumbnail_url': 'https://encrypted-tbn0.gstatic.com/images?q=tbn:ANd9GcQbeMugg0-e7JkigXUowESZpwNcllEBajdB9hMLvsDaGtPmEdshHQ'}\n",
      "Completed Image ====> 50. bigaok9at.png\n",
      "\n",
      "Image Metadata: {'image_format': 'png', 'image_height': 600, 'image_width': 540, 'image_link': 'http://www.clker.com/cliparts/s/V/i/H/5/0/a-sun-cartoon-with-a-long-ray-hi.png', 'image_description': 'A Sun Cartoon With A Long Ray 3 Clip Art at Clker.com - vector clip ...', 'image_host': 'clker.com', 'image_source': 'http://www.clker.com/clipart-a-sun-cartoon-with-a-long-ray.html', 'image_thumbnail_url': 'https://encrypted-tbn0.gstatic.com/images?q=tbn:ANd9GcS1sMnPQ2c-MDQndTpzExY2psqys58mSW7_sFgbEU-XAhR0o8Z5dA'}\n",
      "Completed Image ====> 51. a-sun-cartoon-with-a-long-ray-hi.png\n",
      "\n",
      "Image Metadata: {'image_format': 'png', 'image_height': 660, 'image_width': 660, 'image_link': 'https://www.solarsystemscope.com/spacepedia/images/handbook/structures/structure_sun.png', 'image_description': 'Spacepedia | Solar System Scope', 'image_host': 'solarsystemscope.com', 'image_source': 'https://www.solarsystemscope.com/spacepedia/handbook/sun', 'image_thumbnail_url': 'https://encrypted-tbn0.gstatic.com/images?q=tbn:ANd9GcTrwS5alSlEi2wIoH8dg4nhkQoB8mM7ql0q24Dz5xATOxC58Y_V'}\n",
      "Completed Image ====> 52. structure_sun.png\n",
      "\n",
      "Image Metadata: {'image_format': 'png', 'image_height': 3308, 'image_width': 3276, 'image_link': 'https://purepng.com/public/uploads/large/purepng.com-sunsunlightrayssolar-14115271812442lqyl.png', 'image_description': 'Sun PNG Image - PurePNG | Free transparent CC0 PNG Image Library', 'image_host': 'purepng.com', 'image_source': 'https://purepng.com/photo/14007/sun', 'image_thumbnail_url': 'https://encrypted-tbn0.gstatic.com/images?q=tbn:ANd9GcTkp2Vo_XCSVXxFnVqJ1EN16lDInzBKwO4J0JIRQ2fmwU6cFssEVQ'}\n",
      "Completed Image ====> 53. purepng\n",
      "\n",
      "Image Metadata: {'image_format': 'png', 'image_height': 300, 'image_width': 300, 'image_link': 'https://www.sunrecords.com/wp-content/uploads/2017/07/logoblack-300x300.png', 'image_description': 'Sun Record Company | Where Rock & Roll Was Born', 'image_host': 'sunrecords.com', 'image_source': 'https://www.sunrecords.com/', 'image_thumbnail_url': 'https://encrypted-tbn0.gstatic.com/images?q=tbn:ANd9GcRWt29pLbdnGXYeKXdQQowL66VNUEqKtFbirrJUBXOU4kUa-UkNCw'}\n",
      "Completed Image ====> 54. logoblack-300x300.png\n",
      "\n",
      "Image Metadata: {'image_format': 'png', 'image_height': 480, 'image_width': 640, 'image_link': 'https://mediaassets.abcactionnews.com/photo/2018/03/28/send-your-name-to-the-sun-NASA_1522290187812_82335203_ver1.0_640_480.png', 'image_description': 'NASA is going on its first mission to the sun, and your name can go with', 'image_host': 'timesheraldnews.com', 'image_source': 'https://www.timesheraldnews.com/usa/nasa-is-going-on-its-first-mission-to-the-sun-and-your-name-can-go-with-the-spacecraft-ipthap4v10', 'image_thumbnail_url': 'https://encrypted-tbn0.gstatic.com/images?q=tbn:ANd9GcRP_MF6RUbQTw8pcXF3orMQn9d4FRqYP4kSJGttoYDQc7klY3cr'}\n",
      "Completed Image ====> 55. send-your-name-to-the-sun-nasa_1522290187812_82335203_ver1.0_640_480.png\n",
      "\n",
      "Image Metadata: {'image_format': 'png', 'image_height': 325, 'image_width': 325, 'image_link': 'https://laughingsunbrewing.com/wp-content/uploads/2018/10/Laughing-Sun-Brewing-Logo-325x325.png', 'image_description': 'Contact Laughing Sun Brewing | Laughing Sun Brewing', 'image_host': 'laughingsunbrewing.com', 'image_source': 'https://laughingsunbrewing.com/contact-laughing-sun-brewing/', 'image_thumbnail_url': 'https://encrypted-tbn0.gstatic.com/images?q=tbn:ANd9GcQfZVjgxgKahGRPtTSUWRgQ7DigFFdq6rS54cuKskiUGlxWcR6nzg'}\n",
      "Completed Image ====> 56. laughing-sun-brewing-logo-325x325.png\n",
      "\n",
      "Image Metadata: {'image_format': 'png', 'image_height': 720, 'image_width': 809, 'image_link': 'https://cdn.pixabay.com/photo/2014/09/29/10/26/sun-465936_960_720.png', 'image_description': 'Sun Star Sunlight - Free vector graphic on Pixabay', 'image_host': 'pixabay.com', 'image_source': 'https://pixabay.com/vectors/sun-star-sunlight-glow-universe-465936/', 'image_thumbnail_url': 'https://encrypted-tbn0.gstatic.com/images?q=tbn:ANd9GcQZRI05t1cebUNG35sHrvNDzmoIqMJMXmU4Tpz8BXsW41MwOXAnMw'}\n",
      "Completed Image ====> 57. sun-465936_960_720.png\n",
      "\n",
      "Image Metadata: {'image_format': 'png', 'image_height': 3904, 'image_width': 2317, 'image_link': 'https://gallery.yopriceville.com/var/albums/Free-Clipart-Pictures/Sun-and-Moon-PNG/Transparent_Smiling_Sun_Decoration_PNG_Clipart_Picture.png?m=1434276794', 'image_description': 'Transparent Smiling Sun Decoration PNG Clipart Picture | Gallery ...', 'image_host': 'gallery.yopriceville.com', 'image_source': 'https://gallery.yopriceville.com/Free-Clipart-Pictures/Sun-and-Moon-PNG/Transparent_Smiling_Sun_Decoration_PNG_Clipart_Picture', 'image_thumbnail_url': 'https://encrypted-tbn0.gstatic.com/images?q=tbn:ANd9GcTZAkfAUSxESyjGJvoYwa8oql9Y492na6v9RaawcdFj3XUCg-HDMw'}\n",
      "Completed Image ====> 58. transparent_smiling_sun_decoration_png\n",
      "\n",
      "Image Metadata: {'image_format': 'png', 'image_height': 360, 'image_width': 760, 'image_link': 'https://space-facts.com/wp-content/uploads/sun-size.png', 'image_description': 'Sun Facts â\\x98\\x80 - Interesting Facts about the Sun - Space Facts', 'image_host': 'space-facts.com', 'image_source': 'https://space-facts.com/the-sun/', 'image_thumbnail_url': 'https://encrypted-tbn0.gstatic.com/images?q=tbn:ANd9GcRw33yrJEiD4D9fsdU4di1HDy8ctZohFI9wPLHu7LVy_KoXVyfNDA'}\n",
      "Completed Image ====> 59. sun-size.png\n",
      "\n",
      "Image Metadata: {'image_format': 'png', 'image_height': 601, 'image_width': 901, 'image_link': 'http://cdn.shopify.com/s/files/1/1325/0879/articles/full-article-astrology-zodiac-horoscope-planet-meaning-energy-signs-cheat-sheet-sun_1024x1024.png?v=1516663593', 'image_description': 'Sun Astrology Symbol - Characteristics, Planet Energy and More ...', 'image_host': 'labyrinthos.co', 'image_source': 'https://labyrinthos.co/blogs/astrology-horoscope-zodiac-signs/sun-astrology-symbol-characteristics-planet-energy', 'image_thumbnail_url': 'https://encrypted-tbn0.gstatic.com/images?q=tbn:ANd9GcQI6zqGqG11qx_xprOVVIbmKxpc_4F4AmGlov4yc0UDZlY5Phdflw'}\n",
      "Completed Image ====> 60. full-article-astrology-zodiac-horoscope-planet-meaning-energy-signs-cheat-sheet-sun_1024x1024.png\n",
      "\n",
      "Image Metadata: {'image_format': 'png', 'image_height': 768, 'image_width': 1024, 'image_link': 'http://solar-center.stanford.edu/mosaic_sun_cropped.png', 'image_description': 'Stanford Solar Center', 'image_host': 'solar-center.stanford.edu', 'image_source': 'http://solar-center.stanford.edu/', 'image_thumbnail_url': 'https://encrypted-tbn0.gstatic.com/images?q=tbn:ANd9GcQrVLtQsjY6YclRopP6Vvhvq6d38RJuj72WJA6lzq-7zUidkH9L'}\n",
      "Completed Image ====> 61. mosaic_sun_cropped.png\n",
      "\n",
      "Image Metadata: {'image_format': 'png', 'image_height': 5101, 'image_width': 4983, 'image_link': 'http://peoplepng.com/wp-content/uploads/2018/02/Sun-PNG-Picture.png', 'image_description': 'Sun PNG Picture Vector, Clipart, PSD - peoplepng.com', 'image_host': 'peoplepng.com', 'image_source': 'https://peoplepng.com/sun-png-picture/14952/free-vector', 'image_thumbnail_url': 'https://encrypted-tbn0.gstatic.com/images?q=tbn:ANd9GcRlfZ_aYe-6b3FW7HwHgKr2_A4Kk6yXiDL4jFAktq7GQDU7C9-y'}\n",
      "Completed Image ====> 62. sun-png\n",
      "\n",
      "Image Metadata: {'image_format': 'png', 'image_height': 667, 'image_width': 760, 'image_link': 'http://clipart-library.com/images/XdT47gyie.png', 'image_description': 'Free Sun Cartoon Png, Download Free Clip Art, Free Clip Art on ...', 'image_host': 'clipart-library.com', 'image_source': 'http://clipart-library.com/sun-cartoon-png.html', 'image_thumbnail_url': 'https://encrypted-tbn0.gstatic.com/images?q=tbn:ANd9GcSKvFlsZct1-m54nlIcUnIzymqkgnnMVyIQglDIdm6AUifolotMpg'}\n",
      "Completed Image ====> 63. xdt47gyie.png\n",
      "\n",
      "Image Metadata: {'image_format': 'png', 'image_height': 300, 'image_width': 300, 'image_link': 'https://www.spiritualsun.com/wp-content/uploads/2017/05/TSS-logo-b.png', 'image_description': 'Ancient Symbols of the Sun and Their Meanings', 'image_host': 'spiritualsun.com', 'image_source': 'https://www.spiritualsun.com/religion-of-the-sun/symbols', 'image_thumbnail_url': 'https://encrypted-tbn0.gstatic.com/images?q=tbn:ANd9GcRSd_IM7VUVg8m5xcO3A_mg8rzNNFx0NSME_GZt27s6BPb75VJx'}\n",
      "Completed Image ====> 64. tss-logo-b.png\n",
      "\n",
      "Image Metadata: {'image_format': 'png', 'image_height': 800, 'image_width': 1200, 'image_link': 'https://club950.co.uk/cms/wp-content/themes/club950-2018/img/sun-logo.png', 'image_description': 'How to Book Your Hols | The Sun Club Â£9.50 & Â£15 Holidays', 'image_host': 'club950.co.uk', 'image_source': 'https://club950.co.uk/howitworks/', 'image_thumbnail_url': 'https://encrypted-tbn0.gstatic.com/images?q=tbn:ANd9GcRujikrmGz47fKaEAfKOWsvdqxX4LXmxI7l8oFxxTDThOnLqyLPvw'}\n",
      "Completed Image ====> 65. sun-logo.png\n",
      "\n",
      "Image Metadata: {'image_format': 'png', 'image_height': 458, 'image_width': 796, 'image_link': 'https://cdn0.tnwcdn.com/wp-content/blogs.dir/1/files/2017/03/Sunroof_image_3.width-1000-796x458.png', 'image_description': \"Google's new sun map will tell you whether your roof needs a solar panel\", 'image_host': 'thenextweb.com', 'image_source': 'https://thenextweb.com/google/2017/03/16/google-sun-map-solar-panel/', 'image_thumbnail_url': 'https://encrypted-tbn0.gstatic.com/images?q=tbn:ANd9GcQnnX8Xggye8trDLDvh2q1oWg2okbZH-fZiaojxqa9_-S01vpotZw'}\n",
      "Completed Image ====> 66. sunroof_image_3.width-1000-796x458.png\n",
      "\n",
      "Image Metadata: {'image_format': 'png', 'image_height': 337, 'image_width': 600, 'image_link': 'http://www.iheartradio.ca/image/policy:1.2253636:1481061886/Sun-fm-99.9.png?a=16%3A9&w=1000&$p$a$w=478cec3', 'image_description': '99.9 Sun FM', 'image_host': 'iheartradio.ca', 'image_source': 'http://www.iheartradio.ca/sun-fm/99-9-sun-fm', 'image_thumbnail_url': 'https://encrypted-tbn0.gstatic.com/images?q=tbn:ANd9GcQBSIv5_8dhlRGydLXq9Oj6HScME42STI4RYLLYiP2alqbeMUFP'}\n",
      "Completed Image ====> 67. sun-fm-99.9.png\n",
      "\n",
      "Image Metadata: {'image_format': 'png', 'image_height': 184, 'image_width': 176, 'image_link': 'https://cdn-images-1.medium.com/max/176/1*hbQMl4x50fjIQbo7D__SwQ@2x.png', 'image_description': 'The California Sun', 'image_host': 'medium.californiasun.co', 'image_source': 'https://medium.californiasun.co/', 'image_thumbnail_url': 'https://encrypted-tbn0.gstatic.com/images?q=tbn:ANd9GcTjTLrBGOVWuOjliMb9TvqbHdO9PcNCdv1qT87BdyBE0Bxybhg5'}\n",
      "Completed Image ====> 68. 1*hbqml4x50fjiqbo7d__swq@2x.png\n",
      "\n",
      "Image Metadata: {'image_format': 'png', 'image_height': 220, 'image_width': 220, 'image_link': 'https://upload.wikimedia.org/wikipedia/commons/thumb/8/8b/Coa_Illustration_Cross_Sun.svg/220px-Coa_Illustration_Cross_Sun.svg.png', 'image_description': 'Sun cross - Wikipedia', 'image_host': 'en.wikipedia.org', 'image_source': 'https://en.wikipedia.org/wiki/Sun_cross', 'image_thumbnail_url': 'https://encrypted-tbn0.gstatic.com/images?q=tbn:ANd9GcTNeAlgWtjVMrngYZa6jU2Itfd3iq5WMDNdISemxjdEeJVvt0Fd3g'}\n",
      "Completed Image ====> 69. 220px-coa_illustration_cross_sun.svg.png\n",
      "\n",
      "Image Metadata: {'image_format': 'png', 'image_height': 438, 'image_width': 583, 'image_link': 'https://cdn.brainpop.com/science/space/sun/screenshot1.png', 'image_description': 'Sun - BrainPOP', 'image_host': 'brainpop.com', 'image_source': 'https://www.brainpop.com/science/space/sun/', 'image_thumbnail_url': 'https://encrypted-tbn0.gstatic.com/images?q=tbn:ANd9GcRsrtj9fzCNSSoTLWMpnU2q_OlOcGkDJO1uMHnSFfBYvQpynCkZ-w'}\n",
      "Completed Image ====> 70. screenshot1.png\n",
      "\n",
      "Image Metadata: {'image_format': 'png', 'image_height': 1008, 'image_width': 1440, 'image_link': 'http://parkersolarprobe.jhuapl.edu/The-Mission/images/16-00815_MissionDesign.png', 'image_description': 'Parker Solar Probe: The Mission', 'image_host': 'parkersolarprobe.jhuapl.edu', 'image_source': 'http://parkersolarprobe.jhuapl.edu/The-Mission/index.php', 'image_thumbnail_url': 'https://encrypted-tbn0.gstatic.com/images?q=tbn:ANd9GcSdahQcc63xyWHWeIlnPn1fr80mSpZf9mJY5NzKlx2Suaqfka0l9g'}\n",
      "Completed Image ====> 71. 16-00815_missiondesign.png\n",
      "\n",
      "Image Metadata: {'image_format': 'png', 'image_height': 296, 'image_width': 366, 'image_link': 'http://www.htophotels.com/d/royalsun/images/mapimage.png?1482160210', 'image_description': 'HTOP Royal Sun **** Hotel | 4-Star Hotel Santa Susana | Hotel Costa ...', 'image_host': 'htophotels.com', 'image_source': 'http://www.htophotels.com/royalsun/en/', 'image_thumbnail_url': 'https://encrypted-tbn0.gstatic.com/images?q=tbn:ANd9GcTM9C2uK795cB3iS8w7mAEv9Oeo337q419trq0cbtvlmtrN96KjYw'}\n",
      "Completed Image ====> 72. mapimage.png\n",
      "\n",
      "Image Metadata: {'image_format': '', 'image_height': 960, 'image_width': 960, 'image_link': 'https://lookaside.fbsbx.com/lookaside/crawler/media/?media_id=115967868757', 'image_description': 'Desert Sun - Home | Facebook', 'image_host': 'facebook.com', 'image_source': 'https://www.facebook.com/thedesertsun/', 'image_thumbnail_url': 'https://encrypted-tbn0.gstatic.com/images?q=tbn:ANd9GcSCokZEctlhjpLA_Obc8BItkiN2b1XuwJfI-zvQQUowNayhLQED'}\n",
      "Completed Image ====> 73. ?media_id=115967868757.jpg\n",
      "\n",
      "Image Metadata: {'image_format': 'png', 'image_height': 567, 'image_width': 800, 'image_link': 'https://en.es-static.us/upl/2019/04/helmet-streamers-sun-2007-800x567.png', 'image_description': 'When and how it rains on the sun | Space | EarthSky', 'image_host': 'earthsky.org', 'image_source': 'https://earthsky.org/space/when-how-it-rains-on-the-sun-coronal-rain', 'image_thumbnail_url': 'https://encrypted-tbn0.gstatic.com/images?q=tbn:ANd9GcR0NSjDGLHAKlHlveo_Fm-NsAFv02W8s4Nrr80m2iR-Ibwrl_omcw'}\n",
      "Completed Image ====> 74. helmet-streamers-sun-2007-800x567.png\n",
      "\n",
      "Image Metadata: {'image_format': 'png', 'image_height': 300, 'image_width': 1000, 'image_link': 'http://www.bananaboat.com/images/default-source/sun101/2017_sun-101-4.png', 'image_description': 'Sun Protection Tips | Banana Boat Sun Care 101', 'image_host': 'bananaboat.com', 'image_source': 'http://www.bananaboat.com/sun-safety/how-to-protect-yourself', 'image_thumbnail_url': 'https://encrypted-tbn0.gstatic.com/images?q=tbn:ANd9GcRE_ZUNzbBMwZBBoJh29eKwnsYTbVBG7OG3Kp26IQBK7IpfqeSunQ'}\n",
      "Completed Image ====> 75. 2017_sun-101-4.png\n",
      "\n",
      "Image Metadata: {'image_format': 'png', 'image_height': 140, 'image_width': 208, 'image_link': 'https://www.sunhydraulics.com/sites/default/files/imagecache/homepage_cta/media_library/home_cta/bauma%20CTA%20button%20-%20Option%20A_0.png', 'image_description': 'Sun Hydraulics', 'image_host': 'sunhydraulics.com', 'image_source': 'https://www.sunhydraulics.com/', 'image_thumbnail_url': 'https://encrypted-tbn0.gstatic.com/images?q=tbn:ANd9GcRUliGoKYws7SOYAVTlRfnfYqaUtg8L_St8XwzNrtmJEC2NkJUR'}\n",
      "Completed Image ====> 76. bauma%20cta%20button%20-%20option%20a_0.png\n",
      "\n",
      "Image Metadata: {'image_format': 'png', 'image_height': 198, 'image_width': 320, 'image_link': 'http://parkersolarprobe.jhuapl.edu/The-Mission/images/Sun-Atmosphere.png', 'image_description': 'Parker Solar Probe', 'image_host': 'parkersolarprobe.jhuapl.edu', 'image_source': 'http://parkersolarprobe.jhuapl.edu/', 'image_thumbnail_url': 'https://encrypted-tbn0.gstatic.com/images?q=tbn:ANd9GcQ7OnDb7ksU4Q7MkKXEdsfyXjloBTRDknSmup4XTnlDKz5x22kH'}\n",
      "Completed Image ====> 77. sun-atmosphere.png\n",
      "\n",
      "Image Metadata: {'image_format': 'png', 'image_height': 820, 'image_width': 1920, 'image_link': 'https://thesunexchange.com/logo.png', 'image_description': 'HOW IT WORKS | The Sun Exchange', 'image_host': 'thesunexchange.com', 'image_source': 'https://thesunexchange.com/how-it-works', 'image_thumbnail_url': 'https://encrypted-tbn0.gstatic.com/images?q=tbn:ANd9GcT31J5-RvphLJ9vF223A_wWf08PmR49ZVgYZ6XhVsI3cj9UEgBL'}\n",
      "Completed Image ====> 78. logo.png\n",
      "\n",
      "Image Metadata: {'image_format': 'png', 'image_height': 336, 'image_width': 500, 'image_link': 'https://spaceplace.nasa.gov/review/sunburn/sunburn7.en.png', 'image_description': 'Why does the sun burn us? | NASA Space Place – NASA Science for Kids', 'image_host': 'spaceplace.nasa.gov', 'image_source': 'https://spaceplace.nasa.gov/sunburn/', 'image_thumbnail_url': 'https://encrypted-tbn0.gstatic.com/images?q=tbn:ANd9GcQvtrbD98GHXvqd2C4ZAYeB2zsud0pc40wRUnfzgEgO3m0Keqrwzg'}\n",
      "Completed Image ====> 79. sunburn7.en.png\n",
      "\n",
      "Image Metadata: {'image_format': 'png', 'image_height': 519, 'image_width': 1200, 'image_link': 'https://upload.wikimedia.org/wikipedia/en/thumb/c/c8/Sun_Microsystems_logo.svg/1200px-Sun_Microsystems_logo.svg.png', 'image_description': 'Sun Microsystems - Wikipedia', 'image_host': 'en.wikipedia.org', 'image_source': 'https://en.wikipedia.org/wiki/Sun_Microsystems', 'image_thumbnail_url': 'https://encrypted-tbn0.gstatic.com/images?q=tbn:ANd9GcRZhY7wm_plhwFMR5FCkSgRikbAIi6uxiI35PT9g3Lxgfpyw3UUTg'}\n",
      "Completed Image ====> 80. 1200px-sun_microsystems_logo.svg.png\n",
      "\n",
      "Image Metadata: {'image_format': 'png', 'image_height': 130, 'image_width': 246, 'image_link': 'https://www.thesun.co.uk/wp-content/uploads/2019/04/sunmasthead_mobile_site_of_the_year.png', 'image_description': 'News, sport, celebrities and gossip | The Sun', 'image_host': 'thesun.co.uk', 'image_source': 'https://www.thesun.co.uk/', 'image_thumbnail_url': 'https://encrypted-tbn0.gstatic.com/images?q=tbn:ANd9GcT5nM9XSfA0bgXH-O16au96wW6jCdpHTkl6Wg-BcrseYFzlchT-wg'}\n",
      "Completed Image ====> 81. sunmasthead_mobile_site_of_the_year.png\n",
      "\n",
      "Image Metadata: {'image_format': 'png', 'image_height': 819, 'image_width': 819, 'image_link': 'https://www.sunexpress.com/en/wp-content/uploads/sites/3/SunExpress_FlixBus_Bubble_EN-1.png', 'image_description': 'Book cheap flights online to Turkey, Egypt, Bulgaria, Scandinavia ...', 'image_host': 'sunexpress.com', 'image_source': 'https://www.sunexpress.com/en/', 'image_thumbnail_url': 'https://encrypted-tbn0.gstatic.com/images?q=tbn:ANd9GcTzlViPYDjfNc1YpPGqeE7eor3Q-XZ5dLu9Kq6R0DdeKq9dzmjK'}\n",
      "Completed Image ====> 82. sunexpress_flixbus_bubble_en-1.png\n",
      "\n",
      "Image Metadata: {'image_format': 'png', 'image_height': 800, 'image_width': 791, 'image_link': 'https://www.misskatecuttables.com/uploads/shopping_cart/7253/large_sun.png', 'image_description': 'Sun svg free svg files free cuts files for scrapbooking free summer ...', 'image_host': 'misskatecuttables.com', 'image_source': 'https://www.misskatecuttables.com/products/summer/freebie-of-the-day-sun.php', 'image_thumbnail_url': 'https://encrypted-tbn0.gstatic.com/images?q=tbn:ANd9GcR5bb2IChG-_gj4qn8Kv9MWKtXpCyOqrT4cYmd5zJCEYqGXmexv2w'}\n",
      "Completed Image ====> 83. large_sun.png\n",
      "\n",
      "Image Metadata: {'image_format': 'png', 'image_height': 299, 'image_width': 299, 'image_link': 'https://www.polysporin.ca/sites/www_polysporin_ca/files/polysporin-ca/ailment-images/Polysporin-sun-burn-itch.png', 'image_description': 'How to treat and relieve sun burns | POLYSPORINÂ® CANADA', 'image_host': 'polysporin.ca', 'image_source': 'https://www.polysporin.ca/sun-burn-itch', 'image_thumbnail_url': 'https://encrypted-tbn0.gstatic.com/images?q=tbn:ANd9GcQ-IKLF7u2NFn4PokfSvezsvPfhwAF5NQcuCo3D-AnQPKhH6dXhyA'}\n",
      "Completed Image ====> 84. polysporin-sun-burn-itch.png\n",
      "\n",
      "Image Metadata: {'image_format': 'jpg', 'image_height': 638, 'image_width': 960, 'image_link': 'https://cdn.pixabay.com/photo/2015/03/26/07/54/sun-689917_960_720.jpg', 'image_description': 'Sun Evening Palm Trees - Free photo on Pixabay', 'image_host': 'pixabay.com', 'image_source': 'https://pixabay.com/photos/sun-evening-sun-palm-trees-sunset-689917/', 'image_thumbnail_url': 'https://encrypted-tbn0.gstatic.com/images?q=tbn:ANd9GcQdt6B8Acj1irb_GsB-0WPA1A4lNcX5FgZTHoNcWSM1KZap3bbI'}\n",
      "Completed Image ====> 85. sun-689917_960_720.jpg\n",
      "\n",
      "Image Metadata: {'image_format': 'png', 'image_height': 512, 'image_width': 512, 'image_link': 'https://images-na.ssl-images-amazon.com/images/I/81iL9ZM5DWL.png', 'image_description': 'Amazon.com: Animated Sun Rise Ambience Free: Appstore for Android', 'image_host': 'amazon.com', 'image_source': 'https://www.amazon.com/Animated-Sun-Rise-Ambience-Free/dp/B00U01X2RW', 'image_thumbnail_url': 'https://encrypted-tbn0.gstatic.com/images?q=tbn:ANd9GcTSruHqNNSjSDILmxbvMsgcH_MzhTTIlsX5lydxfmNgWbc8irS9'}\n",
      "Completed Image ====> 86. 81il9zm5dwl.png\n",
      "\n",
      "Image Metadata: {'image_format': 'png', 'image_height': 320, 'image_width': 400, 'image_link': 'https://cdn.vox-cdn.com/uploads/blog/sbnu_logo/49/large_Bright_Side_Of_The_Sun_Full.87101.png', 'image_description': 'Bright Side Of The Sun, a Phoenix Suns community', 'image_host': 'brightsideofthesun.com', 'image_source': 'https://www.brightsideofthesun.com/', 'image_thumbnail_url': 'https://encrypted-tbn0.gstatic.com/images?q=tbn:ANd9GcShegWE_-nZN4hBtO8rsH_06HjSlp3G3q19EAWMgdRhE6O6djF2'}\n",
      "Completed Image ====> 87. large_bright_side_of_the_sun_full.87101.png\n",
      "\n",
      "Image Metadata: {'image_format': 'png', 'image_height': 250, 'image_width': 300, 'image_link': 'https://cdn.drawception.com/images/panels/2016/9-24/t57pnjLmN9-10.png', 'image_description': 'Weird Faced Sun drawing by Raindrop Pie - Drawception', 'image_host': 'drawception.com', 'image_source': 'https://drawception.com/panel/drawing/lJEb6336/weird-faced-sun/', 'image_thumbnail_url': 'https://encrypted-tbn0.gstatic.com/images?q=tbn:ANd9GcRljUs5CbGudRxdpa5yNMqyXkdk7a3fbNwMIcFwaeaRbZuzSzCPZA'}\n",
      "Completed Image ====> 88. t57pnjlmn9-10.png\n",
      "\n",
      "Image Metadata: {'image_format': 'png', 'image_height': 750, 'image_width': 750, 'image_link': 'https://thesun.inthepaper.co.uk/media/catalog/category/the-sun-merchandise.png', 'image_description': 'Gifts from The Sun | Shop for Official Sun Merchandise', 'image_host': 'thesun.inthepaper.co.uk', 'image_source': 'https://thesun.inthepaper.co.uk/', 'image_thumbnail_url': 'https://encrypted-tbn0.gstatic.com/images?q=tbn:ANd9GcSMAFijIgBbF6GI-taXX7RLWiozXXgrpmnLbyCH0LNz8Qvfi4rQkw'}\n",
      "Completed Image ====> 89. the-sun-merchandise.png\n",
      "\n",
      "Image Metadata: {'image_format': '', 'image_height': 475, 'image_width': 1000, 'image_link': 'https://www.nysun.com/images/nysun_logo-1000-32', 'image_description': 'The New York Sun', 'image_host': 'nysun.com', 'image_source': 'https://www.nysun.com/', 'image_thumbnail_url': 'https://encrypted-tbn0.gstatic.com/images?q=tbn:ANd9GcRVAUfE5d4YNxzpil_ruLAC5Mt-j5DqupTg-a0HbuCn4Z8Tqqc1'}\n",
      "Completed Image ====> 90. nysun_logo-1000-32.jpg\n",
      "\n",
      "Image Metadata: {'image_format': 'png', 'image_height': 715, 'image_width': 970, 'image_link': 'http://clipart-library.com/images/yikBX86iE.png', 'image_description': 'Free Pictures Of Sun, Download Free Clip Art, Free Clip Art on ...', 'image_host': 'clipart-library.com', 'image_source': 'http://clipart-library.com/pictures-of-sun.html', 'image_thumbnail_url': 'https://encrypted-tbn0.gstatic.com/images?q=tbn:ANd9GcTp81zeDPgE82jk5ntEo5fy0AzWQIac63hR8QO8zB06p1QWu0b9'}\n",
      "Completed Image ====> 91. yikbx86ie.png\n",
      "\n",
      "Image Metadata: {'image_format': 'png', 'image_height': 300, 'image_width': 300, 'image_link': 'https://www.sunhydraulics.com/sites/default/files/media_library/highlights/CFP_Thumbnail_0.png', 'image_description': 'Sun Hydraulics', 'image_host': 'sunhydraulics.com', 'image_source': 'https://www.sunhydraulics.com/', 'image_thumbnail_url': 'https://encrypted-tbn0.gstatic.com/images?q=tbn:ANd9GcT37AvWnNbjhOkiHPiuN9jy0p1__vffzXlNUR3Cx20YntE0ThBC'}\n",
      "Completed Image ====> 92. cfp_thumbnail_0.png\n",
      "\n",
      "Image Metadata: {'image_format': 'png', 'image_height': 256, 'image_width': 409, 'image_link': 'https://cdn.shopify.com/s/files/1/1205/9982/files/2017_GardensfotheSun_Logo_AI_410x.png?v=1523414430', 'image_description': 'Jewels with Character by Gardens of the Sun', 'image_host': 'gardensofthesun.net', 'image_source': 'https://gardensofthesun.net/', 'image_thumbnail_url': 'https://encrypted-tbn0.gstatic.com/images?q=tbn:ANd9GcRoufENUVkTv0Xcz3M0HGx_kE0ujaWFU7pZgKOwWM5ubFGXdEs4FA'}\n",
      "Completed Image ====> 93. 2017_gardensfothesun_logo_ai_410x.png\n",
      "\n",
      "Image Metadata: {'image_format': 'png', 'image_height': 292, 'image_width': 560, 'image_link': 'https://www.coolmathgames.com/sites/cmatgame/files/sun-for-the-vampire-2.png', 'image_description': 'The Sun for the Vampire 2 - Play it now at Coolmath-Games.com', 'image_host': 'coolmathgames.com', 'image_source': 'https://www.coolmathgames.com/0-the-sun-for-the-vampire-2', 'image_thumbnail_url': 'https://encrypted-tbn0.gstatic.com/images?q=tbn:ANd9GcT0N-04SZI-e63V-9WI6vtHAHlwDxxQ68BjIpKVvwYQpd5vggzKHg'}\n",
      "Completed Image ====> 94. sun-for-the-vampire-2.png\n",
      "\n",
      "Image Metadata: {'image_format': 'png', 'image_height': 546, 'image_width': 600, 'image_link': 'http://www.goldensuntechnology.com/images/golden-sun-technology.PNG', 'image_description': 'Golden Sun Family | Golden Sun Technology | Hyderabad', 'image_host': 'goldensuntechnology.com', 'image_source': 'https://www.goldensuntechnology.com/goldensun-family', 'image_thumbnail_url': 'https://encrypted-tbn0.gstatic.com/images?q=tbn:ANd9GcTpI5HmZ1kWTFru_zjVLuNELNU-3yDQilgOdeRTglN9_ctSWGM5'}\n",
      "Completed Image ====> 95. golden-sun-technology.png\n",
      "\n",
      "Image Metadata: {'image_format': 'png', 'image_height': 336, 'image_width': 336, 'image_link': 'https://postmediatorontosun.files.wordpress.com/2017/09/toronto-desktop.png', 'image_description': 'Toronto News | Latest Headlines & Breaking News | Toronto Sun', 'image_host': 'torontosun.com', 'image_source': 'https://torontosun.com/', 'image_thumbnail_url': 'https://encrypted-tbn0.gstatic.com/images?q=tbn:ANd9GcRHKH0e1u_J0PBiVIKz9797_N1tUTtoWjkYK-OwHGrDtj_24_NmsA'}\n",
      "Completed Image ====> 96. toronto-desktop.png\n",
      "\n",
      "Image Metadata: {'image_format': 'png', 'image_height': 2084, 'image_width': 2084, 'image_link': 'https://www.misshaus.com/pub/media/amasty/amlabel/120-01.png', 'image_description': 'SUN CARE - SKINCARE - SHOP', 'image_host': 'misshaus.com', 'image_source': 'https://www.misshaus.com/default/shop/skin-care/sun-care.html', 'image_thumbnail_url': 'https://encrypted-tbn0.gstatic.com/images?q=tbn:ANd9GcQY7RLAwZjffmbjnntlXhnqDchtxwvguJlVztn_tbU62cwhVllS'}\n",
      "Completed Image ====> 97. 120-01.png\n",
      "\n",
      "Image Metadata: {'image_format': 'png', 'image_height': 2209, 'image_width': 2889, 'image_link': 'https://skepticalscience.com//pics/TvsTSI.png', 'image_description': 'Sun & climate: moving in opposite directions', 'image_host': 'skepticalscience.com', 'image_source': 'https://skepticalscience.com/solar-activity-sunspots-global-warming.htm', 'image_thumbnail_url': 'https://encrypted-tbn0.gstatic.com/images?q=tbn:ANd9GcQKppCV1bWU-wSsCvhtVXoYcE8p0PgcdT8B9yAJBUmGutaoe9ys'}\n",
      "Completed Image ====> 98. tvstsi.png\n",
      "\n",
      "Image Metadata: {'image_format': '', 'image_height': 388, 'image_width': 400, 'image_link': 'https://lookaside.fbsbx.com/lookaside/crawler/media/?media_id=8570226107', 'image_description': 'The Cornell Daily Sun - Home | Facebook', 'image_host': 'facebook.com', 'image_source': 'https://www.facebook.com/cornellsun/', 'image_thumbnail_url': 'https://encrypted-tbn0.gstatic.com/images?q=tbn:ANd9GcQb2Qx44_TezJeJsbm2lxTJ8V5yrRuOS3k5k3Q6wt3-x3xgufHu_Q'}\n",
      "Completed Image ====> 99. ?media_id=8570226107.jpg\n",
      "\n",
      "Errors: 1\n",
      "\n"
     ]
    }
   ],
   "source": []
  },
  {
   "cell_type": "code",
   "execution_count": null,
   "metadata": {},
   "outputs": [],
   "source": [
    "## load text into textacy\n",
    "imgTxt_corpus = df_to_corpus()\n"
   ]
  },
  {
   "cell_type": "code",
   "execution_count": 19,
   "metadata": {},
   "outputs": [],
   "source": [
    "## Load image meta-data json \n",
    "with open('coco/logs/sun.json') as f:\n",
    "    data = pickle.load(f)\n",
    "    \n",
    "data"
   ]
  },
  {
   "cell_type": "code",
   "execution_count": 143,
   "metadata": {},
   "outputs": [
    {
     "data": {
      "text/plain": [
       "list"
      ]
     },
     "metadata": {},
     "output_type": "display_data"
    },
    {
     "data": {
      "text/plain": [
       "5"
      ]
     },
     "metadata": {},
     "output_type": "display_data"
    },
    {
     "data": {
      "text/plain": [
       "['text/photosynthesis_5',\n",
       " 'text/photosynthesis_6',\n",
       " 'text/photosynthesis_3',\n",
       " 'text/photosynthesis_1',\n",
       " 'text/photosynthesis_2']"
      ]
     },
     "metadata": {},
     "output_type": "display_data"
    }
   ],
   "source": [
    "with open(\"data/photosynthesis/test/filenames.pickle\", \"rb\") as pickF:\n",
    "    tstFilenames = pickle.load(pickF)\n",
    "    \n",
    "display(type(tstFilenames),\n",
    "        len(tstFilenames),\n",
    "        tstFilenames)"
   ]
  },
  {
   "cell_type": "code",
   "execution_count": 144,
   "metadata": {},
   "outputs": [
    {
     "data": {
      "text/plain": [
       "list"
      ]
     },
     "metadata": {},
     "output_type": "display_data"
    },
    {
     "data": {
      "text/plain": [
       "5"
      ]
     },
     "metadata": {},
     "output_type": "display_data"
    },
    {
     "data": {
      "text/plain": [
       "['text/photosynthesis_4',\n",
       " 'text/photosynthesis_0',\n",
       " 'text/photosynthesis_5',\n",
       " 'text/photosynthesis_6',\n",
       " 'text/photosynthesis_3']"
      ]
     },
     "metadata": {},
     "output_type": "display_data"
    }
   ],
   "source": [
    "with open(\"data/photosynthesis/train/filenames.pickle\", \"rb\") as pickF:\n",
    "    trFilenames = pickle.load(pickF)\n",
    "    \n",
    "display(type(trFilenames),\n",
    "        len(trFilenames),\n",
    "        trFilenames)"
   ]
  },
  {
   "cell_type": "code",
   "execution_count": 115,
   "metadata": {},
   "outputs": [
    {
     "data": {
      "text/plain": [
       "set()"
      ]
     },
     "execution_count": 115,
     "metadata": {},
     "output_type": "execute_result"
    }
   ],
   "source": [
    "commonalities = set(trFilenames) - (set(trFilenames) - set(tstFilenames))\n",
    "commonalities"
   ]
  },
  {
   "cell_type": "code",
   "execution_count": 94,
   "metadata": {},
   "outputs": [],
   "source": [
    "def txtFilenamesTo_pickle(flpth, lst_to_write):\n",
    "    \n",
    "    handle_missing_directories(os.path.dirname(flpth))\n",
    "    \n",
    "    pickle_out  = open(flpth, \"wb\")\n",
    "    pickle.dump(lst_to_write, pickle_out)\n",
    "    pickle_out.close()\n",
    "\n",
    "    return \n",
    "    \n",
    "def splitData(trainSplit, testSplit, filename_lst):\n",
    "    \n",
    "    # Calculate total number of filenames\n",
    "    num_filenames = len(filename_lst)\n",
    "\n",
    "    numTrain_files = np.ceil(trainSplit * num_filenames).astype(int)\n",
    "    numTest_files = np.floor(testSplit * num_filenames).astype(int)\n",
    "    \n",
    "    print(\"Number of Train files: {}\".format(numTrain_files))\n",
    "    print(\"Number of Test files: {}\".format(numTest_files))\n",
    "    \n",
    "    trainFile_lst = filename_lst[:numTrain_files]\n",
    "    testFile_lst = filename_lst[-numTrain_files:]\n",
    "    \n",
    "    return {\n",
    "        \"train\": trainFile_lst,\n",
    "        \"test\": testFile_lst\n",
    "    }\n",
    "\n"
   ]
  },
  {
   "cell_type": "code",
   "execution_count": 145,
   "metadata": {},
   "outputs": [],
   "source": [
    "def modified_txt_flpth(full_flpth):\n",
    "    # Read in filepath and seperate\n",
    "    p = pathlib.Path(full_flpth)\n",
    "    txtRel_flpth = p.relative_to(termTxtToImage_flpth)\n",
    "    txtCaption_flpth = str(txtRel_flpth.parent)\n",
    "    \n",
    "    txtFile_nm = txtRel_flpth.stem\n",
    "    #print(\"Filename: {}\".format(txtFile_nm))    \n",
    "    \n",
    "    \n",
    "    caption_flpth = os.path.join(txtCaption_flpth, txtFile_nm)\n",
    "    \n",
    "    return  caption_flpth\n",
    "# captionFilename = modified_txt_flpth('data/photosynthesis/text/photosynthesis_4.txt')\n",
    "# captionFilename"
   ]
  },
  {
   "cell_type": "markdown",
   "metadata": {},
   "source": [
    "### Split Data for model training"
   ]
  },
  {
   "cell_type": "code",
   "execution_count": 136,
   "metadata": {},
   "outputs": [
    {
     "name": "stdout",
     "output_type": "stream",
     "text": [
      "Text Data Directory: data/photosynthesis/text\n",
      "\n"
     ]
    },
    {
     "data": {
      "text/plain": [
       "['photosynthesis_4',\n",
       " 'photosynthesis_0',\n",
       " 'photosynthesis_5',\n",
       " 'photosynthesis_6',\n",
       " 'photosynthesis_3',\n",
       " 'photosynthesis_1',\n",
       " 'photosynthesis_2']"
      ]
     },
     "execution_count": 136,
     "metadata": {},
     "output_type": "execute_result"
    }
   ],
   "source": [
    "# Define Text data directories\n",
    "text_flpth = os.path.join(termTxtToImage_flpth, 'text')\n",
    "print(\"Text Data Directory: {}\\n\".format(text_flpth))\n",
    "\n",
    "# Get all the file names from the text directory\n",
    "captionsFilename_lst = glob.glob(text_flpth+\"/**/*.txt\", recursive=True)\n",
    "modifiedCaptionsFilename_lst = [modified_txt_flpth(relCaption_flpth)  for relCaption_flpth in captionsFilename_lst]\n",
    "modifiedCaptionsFilename_lst"
   ]
  },
  {
   "cell_type": "code",
   "execution_count": 133,
   "metadata": {},
   "outputs": [],
   "source": [
    "# Write filename to data term directory\n"
   ]
  },
  {
   "cell_type": "code",
   "execution_count": 147,
   "metadata": {},
   "outputs": [
    {
     "data": {
      "text/plain": [
       "['data/photosynthesis/text/photosynthesis_4.txt',\n",
       " 'data/photosynthesis/text/photosynthesis_0.txt',\n",
       " 'data/photosynthesis/text/photosynthesis_5.txt',\n",
       " 'data/photosynthesis/text/photosynthesis_6.txt',\n",
       " 'data/photosynthesis/text/photosynthesis_3.txt',\n",
       " 'data/photosynthesis/text/photosynthesis_1.txt',\n",
       " 'data/photosynthesis/text/photosynthesis_2.txt']"
      ]
     },
     "metadata": {},
     "output_type": "display_data"
    },
    {
     "name": "stdout",
     "output_type": "stream",
     "text": [
      "Number of files: 7\n",
      "Number of Train files: 7\n",
      "Number of Test files: 7\n",
      "Pickling: data/photosynthesis/train/filenames.pickle \n",
      "Pickling: data/photosynthesis/test/filenames.pickle \n"
     ]
    }
   ],
   "source": [
    "display(captionsFilename_lst)\n",
    "print(\"Number of files: {}\".format(len(modifiedCaptionsFilename_lst)))\n",
    "\n",
    "\n",
    "# Split the data into training and test\n",
    "## Will need to accomodate term weightings and try different cossvalidation methods\n",
    "trainSplit = 1\n",
    "testSplit = 1\n",
    "\n",
    "split_dict = splitData(trainSplit, testSplit, modifiedCaptionsFilename_lst)\n",
    "\n",
    "# write files names to text and pickle\n",
    "for splitType in split_dict:\n",
    "    txtFlpth_pickle = os.path.join(termTxtToImage_flpth , splitType, 'filenames.pickle')\n",
    "    print('Pickling: {} '.format(txtFlpth_pickle))\n",
    "\n",
    "    txtFilenamesTo_pickle(txtFlpth_pickle, split_dict[splitType])"
   ]
  },
  {
   "cell_type": "markdown",
   "metadata": {},
   "source": [
    "#### Split the data into training and test and \n",
    "Notes:\n",
    "    - I think in the original AttnGAN code `test` means `cross-validation`"
   ]
  },
  {
   "cell_type": "code",
   "execution_count": 127,
   "metadata": {},
   "outputs": [
    {
     "data": {
      "text/plain": [
       "['photosynthesis_4',\n",
       " 'photosynthesis_0',\n",
       " 'photosynthesis_5',\n",
       " 'photosynthesis_6',\n",
       " 'photosynthesis_3',\n",
       " 'photosynthesis_1',\n",
       " 'photosynthesis_2']"
      ]
     },
     "execution_count": 127,
     "metadata": {},
     "output_type": "execute_result"
    }
   ],
   "source": [
    "\n",
    "split_dict[splitType]"
   ]
  },
  {
   "cell_type": "code",
   "execution_count": null,
   "metadata": {},
   "outputs": [],
   "source": []
  },
  {
   "cell_type": "markdown",
   "metadata": {},
   "source": [
    "### Write a text file for all of the caption filenames"
   ]
  },
  {
   "cell_type": "code",
   "execution_count": null,
   "metadata": {},
   "outputs": [],
   "source": [
    "# Get all the file names from the text directory\n",
    "captions_filename_lst = glob.glob(text_flpth+\"/**/*.txt\", recursive=True)"
   ]
  },
  {
   "cell_type": "code",
   "execution_count": null,
   "metadata": {},
   "outputs": [],
   "source": [
    "captions_filename_lst"
   ]
  },
  {
   "cell_type": "code",
   "execution_count": null,
   "metadata": {},
   "outputs": [],
   "source": [
    "# Make a text file with a list of the caption filenames\n",
    "\n",
    "text_flpth = os.path.join(termTxtToImage_flpth, 'text')\n",
    "print(\"Text Data Directory: {}\\n\".format(text_flpth))\n",
    "\n",
    "# Find all the files with captions in the text directory and write there names to a file\n",
    "txtFile_lst = glob.glob(text_flpth+\"/**/*.txt\", recursive=True)\n",
    "\n",
    "writeFilename = \"{}.txt\".format('filenames')\n",
    "writeFilenames_flpth = os.path.join(termTxtToImage_flpth, writeFilename)\n",
    "\n",
    "\n",
    "# Write list to file in a form ATTN GAN accepts\n",
    "f =  open(writeFilenames_flpth, 'w')\n",
    "\n",
    "for item in txtFile_lst:\n",
    "    \n",
    "    \n",
    "    caption_flpth = modified_txt_flpth(item) \n",
    "        \n",
    "    f.write(\"{}\\n\".format(caption_flpth))\n",
    "    print (caption_flpth)\n",
    "    \n",
    "f.close()\n",
    "\n"
   ]
  },
  {
   "cell_type": "code",
   "execution_count": null,
   "metadata": {},
   "outputs": [],
   "source": [
    "\n",
    "\n",
    "pickle.load(termTxtToImage_flpth+\"captions\")\n"
   ]
  },
  {
   "cell_type": "code",
   "execution_count": 5,
   "metadata": {},
   "outputs": [
    {
     "data": {
      "text/plain": [
       "'the process by which green plants and some other organisms use sunlight to synthesize nutrients from carbon dioxide and water photosynthesis in plants generally involves the green pigment chlorophyll and generates oxygen as a by product'"
      ]
     },
     "execution_count": 5,
     "metadata": {},
     "output_type": "execute_result"
    }
   ],
   "source": [
    "predict_str =  \"The process by which green plants and some other organisms use sunlight to synthesize nutrients from carbon dioxide and water. Photosynthesis in plants generally involves the green pigment chlorophyll and generates oxygen as a by-product.\"\n",
    "textacy.preprocess_text(predict_str, lowercase=True, no_punct=True)"
   ]
  },
  {
   "cell_type": "code",
   "execution_count": null,
   "metadata": {},
   "outputs": [],
   "source": []
  },
  {
   "cell_type": "code",
   "execution_count": null,
   "metadata": {},
   "outputs": [],
   "source": [
    "p.stem"
   ]
  },
  {
   "cell_type": "code",
   "execution_count": null,
   "metadata": {},
   "outputs": [],
   "source": [
    "\n",
    "txtRel_flpth = p.relative_to(termTxtToImage_flpth)\n",
    "txtRel_flpth"
   ]
  },
  {
   "cell_type": "code",
   "execution_count": null,
   "metadata": {},
   "outputs": [],
   "source": [
    "p.stem"
   ]
  },
  {
   "cell_type": "code",
   "execution_count": null,
   "metadata": {},
   "outputs": [],
   "source": [
    "fileParts = txtRel_flpth.parts\n",
    "fileParts."
   ]
  },
  {
   "cell_type": "code",
   "execution_count": null,
   "metadata": {},
   "outputs": [],
   "source": [
    "os.path.dirname(\"/home/ec2-user/environment/AttnGAN/data/photosynthesis/images/5. photosynthesis.png\")"
   ]
  },
  {
   "cell_type": "code",
   "execution_count": null,
   "metadata": {},
   "outputs": [],
   "source": [
    " \n",
    "s3Client = boto3.client(\"s3\")     \n",
    "s3Client.Object('my-bucket-name', 'newfile.txt').put(Body=content)"
   ]
  },
  {
   "cell_type": "code",
   "execution_count": null,
   "metadata": {},
   "outputs": [],
   "source": [
    "list(labels_corpus.docs[0].sents)"
   ]
  },
  {
   "cell_type": "code",
   "execution_count": null,
   "metadata": {},
   "outputs": [],
   "source": [
    "import requests\n",
    "r = requests.get(\"https://ssec.si.edu/stemvisions-blog/what-photosynthesis\")"
   ]
  },
  {
   "cell_type": "code",
   "execution_count": null,
   "metadata": {},
   "outputs": [],
   "source": [
    "r.content"
   ]
  },
  {
   "cell_type": "code",
   "execution_count": null,
   "metadata": {},
   "outputs": [],
   "source": []
  }
 ],
 "metadata": {
  "kernelspec": {
   "display_name": "py36-ml",
   "language": "python",
   "name": "py36-ml"
  },
  "language_info": {
   "codemirror_mode": {
    "name": "ipython",
    "version": 3
   },
   "file_extension": ".py",
   "mimetype": "text/x-python",
   "name": "python",
   "nbconvert_exporter": "python",
   "pygments_lexer": "ipython3",
   "version": "3.6.8"
  }
 },
 "nbformat": 4,
 "nbformat_minor": 2
}
